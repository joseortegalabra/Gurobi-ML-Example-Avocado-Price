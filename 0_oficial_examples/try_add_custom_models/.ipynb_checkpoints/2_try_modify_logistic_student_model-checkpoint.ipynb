{
 "cells": [
  {
   "cell_type": "markdown",
   "id": "51efaa34-d093-4ae8-b425-d9def1728723",
   "metadata": {},
   "source": [
    "# TRY TO TRAIN A LOGISTIC REGRESSION MODIFIEDssion-py"
   ]
  },
  {
   "cell_type": "markdown",
   "id": "cb3896d6-9331-45ad-b065-3bf7634e0a2e",
   "metadata": {},
   "source": [
    "### 0. Packages"
   ]
  },
  {
   "cell_type": "code",
   "execution_count": 1,
   "id": "50dcd389-dc2e-4f3b-b8e3-8e280dba0366",
   "metadata": {},
   "outputs": [],
   "source": [
    "# ## install gurobi packages\n",
    "\n",
    "# !pip install gurobipy\n",
    "# !pip install --upgrade gurobipy\n",
    "# !pip install gurobi-machinelearning\n",
    "# !pip install gurobipy-pandas"
   ]
  },
  {
   "cell_type": "code",
   "execution_count": 2,
   "id": "2e3710e9-ef00-4c29-8806-ede1669a35ee",
   "metadata": {},
   "outputs": [
    {
     "name": "stdout",
     "output_type": "stream",
     "text": [
      "Name: gurobipy\n",
      "Version: 11.0.0\n",
      "Summary: Python interface to Gurobi\n",
      "Home-page: https://www.gurobi.com\n",
      "Author: Gurobi Optimization, LLC\n",
      "Author-email: \n",
      "License: Proprietary\n",
      "Location: d:\\anaconda\\envs\\data-science-python-3-10-explanaible-ai\\lib\\site-packages\n",
      "Requires: \n",
      "Required-by: gurobi-machinelearning, gurobipy-pandas\n"
     ]
    }
   ],
   "source": [
    "!pip show gurobipy"
   ]
  },
  {
   "cell_type": "code",
   "execution_count": 3,
   "id": "5545ec04-82d9-4536-8d4e-2d687d86701c",
   "metadata": {},
   "outputs": [],
   "source": [
    "import numpy as np\n",
    "import pandas as pd\n",
    "from matplotlib import pyplot as plt\n",
    "import seaborn as sns\n",
    "from scipy.stats import pointbiserialr, spearmanr\n",
    "\n",
    "from sklearn.linear_model import LogisticRegression\n",
    "from sklearn.tree import DecisionTreeRegressor\n",
    "from sklearn.preprocessing import StandardScaler\n",
    "from sklearn.model_selection import train_test_split\n",
    "from sklearn.metrics import confusion_matrix\n",
    "from sklearn.metrics import accuracy_score\n",
    "\n",
    "import sys\n",
    "\n",
    "# package gurobi\n",
    "import gurobipy as gp\n",
    "from gurobi_ml import add_predictor_constr\n",
    "import gurobipy_pandas as gppd"
   ]
  },
  {
   "cell_type": "code",
   "execution_count": null,
   "id": "1ba07cb1-b5e5-481d-89dd-e515b7c41904",
   "metadata": {},
   "outputs": [],
   "source": []
  },
  {
   "cell_type": "markdown",
   "id": "9c433b7d-e84e-4e64-960b-a3861a92339a",
   "metadata": {},
   "source": [
    "### 2. Setear licencia"
   ]
  },
  {
   "cell_type": "code",
   "execution_count": 4,
   "id": "81acd36b-333d-431d-9aea-f10033b6a714",
   "metadata": {},
   "outputs": [],
   "source": [
    "# import os\n",
    "# path_licencia_gurobi = \"gurobi.lic\"\n",
    "# os.environ [\"GRB_LICENSE_FILE\"] = path_licencia_gurobi\n",
    "# print(os.environ[\"GRB_LICENSE_FILE\"])"
   ]
  },
  {
   "cell_type": "code",
   "execution_count": 5,
   "id": "8f428732-61b0-4abe-b4fa-4b89484a5436",
   "metadata": {},
   "outputs": [
    {
     "name": "stdout",
     "output_type": "stream",
     "text": [
      "Restricted license - for non-production use only - expires 2025-11-24\n"
     ]
    },
    {
     "data": {
      "text/plain": [
       "<gurobi.Model Continuous instance Modelo Prueba: 0 constrs, 0 vars, No parameter changes>"
      ]
     },
     "execution_count": 5,
     "metadata": {},
     "output_type": "execute_result"
    }
   ],
   "source": [
    "# crear modelo con licencia\n",
    "modelo_prueba = gp.Model('Modelo Prueba')\n",
    "modelo_prueba"
   ]
  },
  {
   "cell_type": "code",
   "execution_count": null,
   "id": "cfa92a61-4517-4bb0-89e8-e23c1c622d7e",
   "metadata": {},
   "outputs": [],
   "source": []
  },
  {
   "cell_type": "markdown",
   "id": "c4a54fef-ebc4-4e14-9113-e52c20141e18",
   "metadata": {},
   "source": [
    "### 3. Explicación data y variables"
   ]
  },
  {
   "cell_type": "markdown",
   "id": "bac85be2-1bbd-42d4-b5a5-4ee314361dc6",
   "metadata": {},
   "source": [
    "#### CONTEXTO PROBLEMA\n",
    "\n",
    "Tengo un conjunto de estudiantes que desean ingresar a la universidad, tiene un carrera en el colegio y además dan pruebas para entrar a la universidad (esto se ve reflejado un variables SAT y GPA), además la universidad (de acuerdo a criterios que halla tenido esta decide ofrecerle a cada estudiante una cierta cantidad de dinero de beca, definido como variable MERIT). Luego, el estudiante en base a criterios que el tenga decide ingresar o no la universidad (visto como variable target ENROLL).\n",
    "\n",
    "El objetivo de la universidad es maximizar la cantidad de alumnos que ingresan sujeto a un cierto presupuesto que ellos tienen.\n",
    "\n",
    "**EXPLICACIÓN:**\n",
    "- Que el estudiante ingresa a la universidad o no (y) está dado por una función que mapea el monto de la beca (X), GPA y SAT\n",
    "- Cada estudiante puede recibir como máximo 2.5 como beca (merit). Un máximo de 2.5k de beca\n",
    "- Existe un presupuesto total para becas que está dado por la \"cantidad de alumnos que postulan\" multiplicado por un cierto factor de la forma 0.2n\n",
    "- Quiero maximizar la cantidad de alumnos que ingresan a la universidad decidiendo qué monto de beca asignarle"
   ]
  },
  {
   "cell_type": "markdown",
   "id": "38186eb7-cf47-44b5-81e3-ecad33506546",
   "metadata": {},
   "source": [
    "#### LIST OF ALL VARIABLES IN THE DATA\n",
    "\n",
    "- **SAT**: The SAT is an entrance exam used by most colleges and universities to make admissions decisions. The SAT is a multiple-choice, pencil-and-paper test created and administered by the College Board.\n",
    "- **GPA**: Grade Point Average\n",
    "- **merit**: Amounth of money offered as a scholarship for a student (I think probably according the SAT and GPA). The column is named merit because probably I think according the SAT and GPA of a student the University offers more or minus money\n",
    "- **enroll**: binary variable. 1 the student ingress to the university. 0 The student doens't ingress to the university"
   ]
  },
  {
   "cell_type": "markdown",
   "id": "18dadbf3-3a33-4542-af05-c78fd1717bba",
   "metadata": {},
   "source": [
    "#### CLASIFIACIÓN VARIABLES\n",
    "Desde el punto de vista de la universidad, las variables se pueden clasificar en:\n",
    "\n",
    "**Variable no controlables:**\n",
    "- SAT\n",
    "- GPA\n",
    "\n",
    "**Variables controlables:**\n",
    "- merit (cantidad de dinero que ofrecen)\n",
    "\n",
    "**Variable resultante:**\n",
    "- enroll"
   ]
  },
  {
   "cell_type": "code",
   "execution_count": null,
   "id": "17fa4fc5-146a-4846-860c-2c9668ac31af",
   "metadata": {},
   "outputs": [],
   "source": []
  },
  {
   "cell_type": "markdown",
   "id": "ec21bae5-8a3f-49d5-a57e-2859a4f66446",
   "metadata": {},
   "source": [
    "### 4. Read data"
   ]
  },
  {
   "cell_type": "code",
   "execution_count": 6,
   "id": "232e2d0f-b5da-413b-aee2-bb7b131d8758",
   "metadata": {},
   "outputs": [],
   "source": [
    "# Read Data: Base URL for retrieving data\n",
    "janos_data_url = \"https://raw.githubusercontent.com/INFORMSJoC/2020.1023/master/data/\"\n",
    "historical_data = pd.read_csv(\n",
    "    janos_data_url + \"college_student_enroll-s1-1.csv\", index_col=0\n",
    ")"
   ]
  },
  {
   "cell_type": "code",
   "execution_count": 7,
   "id": "03bcbd11-a708-423a-8a63-ef67548777f0",
   "metadata": {},
   "outputs": [
    {
     "data": {
      "text/html": [
       "<div>\n",
       "<style scoped>\n",
       "    .dataframe tbody tr th:only-of-type {\n",
       "        vertical-align: middle;\n",
       "    }\n",
       "\n",
       "    .dataframe tbody tr th {\n",
       "        vertical-align: top;\n",
       "    }\n",
       "\n",
       "    .dataframe thead th {\n",
       "        text-align: right;\n",
       "    }\n",
       "</style>\n",
       "<table border=\"1\" class=\"dataframe\">\n",
       "  <thead>\n",
       "    <tr style=\"text-align: right;\">\n",
       "      <th></th>\n",
       "      <th>StudentID</th>\n",
       "      <th>SAT</th>\n",
       "      <th>GPA</th>\n",
       "      <th>merit</th>\n",
       "      <th>enroll</th>\n",
       "    </tr>\n",
       "  </thead>\n",
       "  <tbody>\n",
       "    <tr>\n",
       "      <th>1</th>\n",
       "      <td>1</td>\n",
       "      <td>1507</td>\n",
       "      <td>3.72</td>\n",
       "      <td>1.64</td>\n",
       "      <td>0</td>\n",
       "    </tr>\n",
       "    <tr>\n",
       "      <th>2</th>\n",
       "      <td>2</td>\n",
       "      <td>1532</td>\n",
       "      <td>3.93</td>\n",
       "      <td>0.52</td>\n",
       "      <td>0</td>\n",
       "    </tr>\n",
       "    <tr>\n",
       "      <th>3</th>\n",
       "      <td>3</td>\n",
       "      <td>1487</td>\n",
       "      <td>3.77</td>\n",
       "      <td>1.67</td>\n",
       "      <td>0</td>\n",
       "    </tr>\n",
       "    <tr>\n",
       "      <th>4</th>\n",
       "      <td>4</td>\n",
       "      <td>1259</td>\n",
       "      <td>3.05</td>\n",
       "      <td>1.21</td>\n",
       "      <td>1</td>\n",
       "    </tr>\n",
       "    <tr>\n",
       "      <th>5</th>\n",
       "      <td>5</td>\n",
       "      <td>1354</td>\n",
       "      <td>3.39</td>\n",
       "      <td>1.65</td>\n",
       "      <td>1</td>\n",
       "    </tr>\n",
       "  </tbody>\n",
       "</table>\n",
       "</div>"
      ],
      "text/plain": [
       "   StudentID   SAT   GPA  merit  enroll\n",
       "1          1  1507  3.72   1.64       0\n",
       "2          2  1532  3.93   0.52       0\n",
       "3          3  1487  3.77   1.67       0\n",
       "4          4  1259  3.05   1.21       1\n",
       "5          5  1354  3.39   1.65       1"
      ]
     },
     "execution_count": 7,
     "metadata": {},
     "output_type": "execute_result"
    }
   ],
   "source": [
    "historical_data.head()"
   ]
  },
  {
   "cell_type": "code",
   "execution_count": 8,
   "id": "87e94389-aae2-4552-a2d5-ba588262d6ff",
   "metadata": {},
   "outputs": [],
   "source": [
    "# classify our features between the ones that are fixed and the ones that will be\n",
    "# part of the optimization problem\n",
    "features = [\"merit\", \"SAT\", \"GPA\"]\n",
    "target = \"enroll\"\n",
    "features_target = features + [target]"
   ]
  },
  {
   "cell_type": "code",
   "execution_count": null,
   "id": "419be992-5ba9-4eec-b0ad-0b13f3cecb61",
   "metadata": {},
   "outputs": [],
   "source": []
  },
  {
   "cell_type": "markdown",
   "id": "81e3cb93-fb54-4187-93f2-c8ba6296246f",
   "metadata": {},
   "source": [
    "### 5. EDA"
   ]
  },
  {
   "cell_type": "markdown",
   "id": "b3f77aad-094d-412f-99ef-37da8cfb2f6a",
   "metadata": {},
   "source": [
    "#### 5.1 General eda"
   ]
  },
  {
   "cell_type": "code",
   "execution_count": 9,
   "id": "c5fa5fdf-2a60-4723-b092-d652d0798acd",
   "metadata": {},
   "outputs": [
    {
     "data": {
      "text/html": [
       "<div>\n",
       "<style scoped>\n",
       "    .dataframe tbody tr th:only-of-type {\n",
       "        vertical-align: middle;\n",
       "    }\n",
       "\n",
       "    .dataframe tbody tr th {\n",
       "        vertical-align: top;\n",
       "    }\n",
       "\n",
       "    .dataframe thead th {\n",
       "        text-align: right;\n",
       "    }\n",
       "</style>\n",
       "<table border=\"1\" class=\"dataframe\">\n",
       "  <thead>\n",
       "    <tr style=\"text-align: right;\">\n",
       "      <th></th>\n",
       "      <th>StudentID</th>\n",
       "      <th>SAT</th>\n",
       "      <th>GPA</th>\n",
       "      <th>merit</th>\n",
       "      <th>enroll</th>\n",
       "    </tr>\n",
       "  </thead>\n",
       "  <tbody>\n",
       "    <tr>\n",
       "      <th>count</th>\n",
       "      <td>20000.000000</td>\n",
       "      <td>20000.000000</td>\n",
       "      <td>20000.000000</td>\n",
       "      <td>20000.000000</td>\n",
       "      <td>20000.000000</td>\n",
       "    </tr>\n",
       "    <tr>\n",
       "      <th>mean</th>\n",
       "      <td>10000.500000</td>\n",
       "      <td>1286.404350</td>\n",
       "      <td>3.215009</td>\n",
       "      <td>0.740725</td>\n",
       "      <td>0.500000</td>\n",
       "    </tr>\n",
       "    <tr>\n",
       "      <th>std</th>\n",
       "      <td>5773.647028</td>\n",
       "      <td>167.500882</td>\n",
       "      <td>0.434262</td>\n",
       "      <td>0.773631</td>\n",
       "      <td>0.500013</td>\n",
       "    </tr>\n",
       "    <tr>\n",
       "      <th>min</th>\n",
       "      <td>1.000000</td>\n",
       "      <td>1000.000000</td>\n",
       "      <td>2.310000</td>\n",
       "      <td>0.000000</td>\n",
       "      <td>0.000000</td>\n",
       "    </tr>\n",
       "    <tr>\n",
       "      <th>25%</th>\n",
       "      <td>5000.750000</td>\n",
       "      <td>1140.000000</td>\n",
       "      <td>2.850000</td>\n",
       "      <td>0.000000</td>\n",
       "      <td>0.000000</td>\n",
       "    </tr>\n",
       "    <tr>\n",
       "      <th>50%</th>\n",
       "      <td>10000.500000</td>\n",
       "      <td>1287.000000</td>\n",
       "      <td>3.210000</td>\n",
       "      <td>0.660000</td>\n",
       "      <td>0.500000</td>\n",
       "    </tr>\n",
       "    <tr>\n",
       "      <th>75%</th>\n",
       "      <td>15000.250000</td>\n",
       "      <td>1429.000000</td>\n",
       "      <td>3.570000</td>\n",
       "      <td>1.320000</td>\n",
       "      <td>1.000000</td>\n",
       "    </tr>\n",
       "    <tr>\n",
       "      <th>max</th>\n",
       "      <td>20000.000000</td>\n",
       "      <td>1580.000000</td>\n",
       "      <td>4.140000</td>\n",
       "      <td>2.500000</td>\n",
       "      <td>1.000000</td>\n",
       "    </tr>\n",
       "  </tbody>\n",
       "</table>\n",
       "</div>"
      ],
      "text/plain": [
       "          StudentID           SAT           GPA         merit        enroll\n",
       "count  20000.000000  20000.000000  20000.000000  20000.000000  20000.000000\n",
       "mean   10000.500000   1286.404350      3.215009      0.740725      0.500000\n",
       "std     5773.647028    167.500882      0.434262      0.773631      0.500013\n",
       "min        1.000000   1000.000000      2.310000      0.000000      0.000000\n",
       "25%     5000.750000   1140.000000      2.850000      0.000000      0.000000\n",
       "50%    10000.500000   1287.000000      3.210000      0.660000      0.500000\n",
       "75%    15000.250000   1429.000000      3.570000      1.320000      1.000000\n",
       "max    20000.000000   1580.000000      4.140000      2.500000      1.000000"
      ]
     },
     "execution_count": 9,
     "metadata": {},
     "output_type": "execute_result"
    }
   ],
   "source": [
    "# descriptive statistic\n",
    "historical_data.describe()"
   ]
  },
  {
   "cell_type": "code",
   "execution_count": 10,
   "id": "7847b6e9-e392-495f-b4b9-3d13b004015a",
   "metadata": {},
   "outputs": [
    {
     "data": {
      "image/png": "[encoded data removed]",
      "text/plain": [
       "<Figure size 640x480 with 1 Axes>"
      ]
     },
     "metadata": {},
     "output_type": "display_data"
    },
    {
     "data": {
      "image/png": "[encoded data removed]",
      "text/plain": [
       "<Figure size 640x480 with 1 Axes>"
      ]
     },
     "metadata": {},
     "output_type": "display_data"
    },
    {
     "data": {
      "image/png": "[encoded data removed]",
      "text/plain": [
       "<Figure size 640x480 with 1 Axes>"
      ]
     },
     "metadata": {},
     "output_type": "display_data"
    },
    {
     "data": {
      "image/png": "[encoded data removed]",
      "text/plain": [
       "<Figure size 640x480 with 1 Axes>"
      ]
     },
     "metadata": {},
     "output_type": "display_data"
    }
   ],
   "source": [
    "# histograms\n",
    "for feature in features_target:\n",
    "    historical_data[feature].hist()\n",
    "    plt.title(feature)\n",
    "    plt.show()"
   ]
  },
  {
   "cell_type": "markdown",
   "id": "360f4b74-396f-47a7-9c2e-ca4f6e70a5b6",
   "metadata": {},
   "source": [
    "#### 5.2 correlations"
   ]
  },
  {
   "cell_type": "code",
   "execution_count": 11,
   "id": "9170ebdb-2db4-4247-8811-15b4fa97f4dc",
   "metadata": {},
   "outputs": [
    {
     "data": {
      "text/html": [
       "<div>\n",
       "<style scoped>\n",
       "    .dataframe tbody tr th:only-of-type {\n",
       "        vertical-align: middle;\n",
       "    }\n",
       "\n",
       "    .dataframe tbody tr th {\n",
       "        vertical-align: top;\n",
       "    }\n",
       "\n",
       "    .dataframe thead th {\n",
       "        text-align: right;\n",
       "    }\n",
       "</style>\n",
       "<table border=\"1\" class=\"dataframe\">\n",
       "  <thead>\n",
       "    <tr style=\"text-align: right;\">\n",
       "      <th></th>\n",
       "      <th>StudentID</th>\n",
       "      <th>SAT</th>\n",
       "      <th>GPA</th>\n",
       "      <th>merit</th>\n",
       "      <th>enroll</th>\n",
       "    </tr>\n",
       "  </thead>\n",
       "  <tbody>\n",
       "    <tr>\n",
       "      <th>StudentID</th>\n",
       "      <td>1.000000</td>\n",
       "      <td>0.000044</td>\n",
       "      <td>0.000488</td>\n",
       "      <td>-0.012233</td>\n",
       "      <td>-0.003283</td>\n",
       "    </tr>\n",
       "    <tr>\n",
       "      <th>SAT</th>\n",
       "      <td>0.000044</td>\n",
       "      <td>1.000000</td>\n",
       "      <td>0.963788</td>\n",
       "      <td>0.315442</td>\n",
       "      <td>-0.794374</td>\n",
       "    </tr>\n",
       "    <tr>\n",
       "      <th>GPA</th>\n",
       "      <td>0.000488</td>\n",
       "      <td>0.963788</td>\n",
       "      <td>1.000000</td>\n",
       "      <td>0.308983</td>\n",
       "      <td>-0.781897</td>\n",
       "    </tr>\n",
       "    <tr>\n",
       "      <th>merit</th>\n",
       "      <td>-0.012233</td>\n",
       "      <td>0.315442</td>\n",
       "      <td>0.308983</td>\n",
       "      <td>1.000000</td>\n",
       "      <td>-0.014151</td>\n",
       "    </tr>\n",
       "    <tr>\n",
       "      <th>enroll</th>\n",
       "      <td>-0.003283</td>\n",
       "      <td>-0.794374</td>\n",
       "      <td>-0.781897</td>\n",
       "      <td>-0.014151</td>\n",
       "      <td>1.000000</td>\n",
       "    </tr>\n",
       "  </tbody>\n",
       "</table>\n",
       "</div>"
      ],
      "text/plain": [
       "           StudentID       SAT       GPA     merit    enroll\n",
       "StudentID   1.000000  0.000044  0.000488 -0.012233 -0.003283\n",
       "SAT         0.000044  1.000000  0.963788  0.315442 -0.794374\n",
       "GPA         0.000488  0.963788  1.000000  0.308983 -0.781897\n",
       "merit      -0.012233  0.315442  0.308983  1.000000 -0.014151\n",
       "enroll     -0.003283 -0.794374 -0.781897 -0.014151  1.000000"
      ]
     },
     "execution_count": 11,
     "metadata": {},
     "output_type": "execute_result"
    }
   ],
   "source": [
    "correlation_matrix = historical_data.corr()\n",
    "\n",
    "# plt.figure(figsize=(10, 8))\n",
    "# sns.heatmap(correlation_matrix, annot=True, cmap='coolwarm', fmt='.2f', linewidths=0.5)\n",
    "# plt.title('Correlation Matrix')\n",
    "# plt.show()\n",
    "\n",
    "correlation_matrix"
   ]
  },
  {
   "cell_type": "markdown",
   "id": "b764d9dc-0fac-405e-8354-9b1c4c8d110f",
   "metadata": {},
   "source": [
    "Insights:\n",
    "- gpa y sat están altamente correlacionados, demasiado (0.96)\n",
    "- merit tiene cierta relación con sat y gpa. A un sat alto también habrá un merit (beca) mayor. Sin embargo, se esperaría una correlación mayor pero no es el caso. En los gráficos a continuación al separar merit y no merit también se puede observar el porqué de la baja correlación (bajo lo que se esperaría)\n",
    "- enroll is binary variable. Doesn't apply this correlation"
   ]
  },
  {
   "cell_type": "markdown",
   "id": "6c1ec285-e916-434d-9edb-b2be2c3869f0",
   "metadata": {},
   "source": [
    "#### 5.3 correlations features(continuos) vs target (categorical)"
   ]
  },
  {
   "cell_type": "code",
   "execution_count": 12,
   "id": "13fa7374-281f-47c2-b5d0-74015670aa87",
   "metadata": {},
   "outputs": [
    {
     "name": "stdout",
     "output_type": "stream",
     "text": [
      "           Point Biserial Correlation\n",
      "Variable                             \n",
      "StudentID                   -0.003283\n",
      "SAT                         -0.794374\n",
      "GPA                         -0.781897\n",
      "merit                       -0.014151\n"
     ]
    }
   ],
   "source": [
    "# Calcular la correlación de punto biserial entre la variable binaria y las variables continuas\n",
    "correlations_pb = {}\n",
    "for column in historical_data.columns:\n",
    "    if column != target:\n",
    "        correlation, p_value = pointbiserialr(historical_data[target], historical_data[column])\n",
    "        correlations_pb[column] = correlation\n",
    "\n",
    "# Opcional: Puedes utilizar el coeficiente de correlación de rango de orden (Spearman) para variables no lineales\n",
    "# correlations_spearman = historical_data.corr(method='spearman')['target']\n",
    "\n",
    "# Crear un DataFrame con las correlaciones\n",
    "correlations_df = pd.DataFrame(list(correlations_pb.items()), columns=['Variable', 'Point Biserial Correlation'])\n",
    "correlations_df.set_index('Variable', inplace=True)\n",
    "\n",
    "# Mostrar el DataFrame con las correlaciones\n",
    "print(correlations_df)\n",
    "\n",
    "# Crear un mapa de calor (heatmap) de las correlaciones\n",
    "# plt.figure(figsize=(10, 6))\n",
    "# sns.heatmap(correlations_df.transpose(), annot=True, cmap='coolwarm', linewidths=0.5)\n",
    "# plt.title('Correlaciones con la Variable Target')\n",
    "# plt.show()"
   ]
  },
  {
   "cell_type": "code",
   "execution_count": null,
   "id": "5ebe7fd2-c571-42c2-a08f-73720a34df27",
   "metadata": {},
   "outputs": [],
   "source": []
  },
  {
   "cell_type": "markdown",
   "id": "107a2b8a-3885-42e1-9d31-e88e76971da5",
   "metadata": {},
   "source": [
    "#### 5.3 Zoom merit. because some values in the histogram are zero?"
   ]
  },
  {
   "cell_type": "code",
   "execution_count": 13,
   "id": "b14adf07-9c83-4a7e-b38e-579961fee660",
   "metadata": {},
   "outputs": [],
   "source": [
    "# divide data merit and no merit\n",
    "data_no_merit = historical_data[historical_data['merit']==0]\n",
    "data_merit = historical_data[historical_data['merit']!=0]\n",
    "\n",
    "# number merit and no merit\n",
    "number_of_students_no_merit = historical_data[historical_data['merit']==0].shape[0]\n",
    "number_of_students_merit = historical_data[historical_data['merit']!=0].shape[0]"
   ]
  },
  {
   "cell_type": "code",
   "execution_count": 14,
   "id": "d762f278-5e04-45d4-a11f-0d2b585b4b2d",
   "metadata": {},
   "outputs": [
    {
     "data": {
      "image/png": "[encoded data removed]",
      "text/plain": [
       "<Figure size 640x480 with 1 Axes>"
      ]
     },
     "metadata": {},
     "output_type": "display_data"
    },
    {
     "data": {
      "image/png": "[encoded data removed]",
      "text/plain": [
       "<Figure size 640x480 with 1 Axes>"
      ]
     },
     "metadata": {},
     "output_type": "display_data"
    },
    {
     "data": {
      "image/png": "[encoded data removed]",
      "text/plain": [
       "<Figure size 640x480 with 1 Axes>"
      ]
     },
     "metadata": {},
     "output_type": "display_data"
    },
    {
     "data": {
      "image/png": "[encoded data removed]",
      "text/plain": [
       "<Figure size 640x480 with 1 Axes>"
      ]
     },
     "metadata": {},
     "output_type": "display_data"
    }
   ],
   "source": [
    "# histograms\n",
    "def plot_hist_merit_no_merit(df_no_merit, df_merit, variable):\n",
    "    \"\"\"\n",
    "    Plot histogram of a feature divide into dataframe with merit and no merit\n",
    "    \"\"\"\n",
    "    plt.hist(df_no_merit[variable], label = 'NO merit', alpha = 0.3, color = 'gray')\n",
    "    plt.hist(df_merit[variable], label = 'merit', alpha = 0.3, color = 'orange')\n",
    "    plt.legend()\n",
    "    plt.title(feature)\n",
    "    plt.show()\n",
    "\n",
    "for feature in features_target:\n",
    "    plot_hist_merit_no_merit(df_no_merit = data_no_merit, \n",
    "                             df_merit = data_merit, \n",
    "                            variable = feature)"
   ]
  },
  {
   "cell_type": "markdown",
   "id": "4e3ba156-548a-442b-a19b-c0dadf2cc6f2",
   "metadata": {},
   "source": [
    "Insights:\n",
    "- con no merit se observa (merit = 0) se observa que la cola del histograma de merit efectivamente era porque el valor era cero\n",
    "- es más frecuente un merit = 0 con un SAT bajo (de acuerdo a la intuición)\n",
    "- es más frecuente un merit = 0 con un GPA bajo (de acuerdo a la intuición)\n",
    "- se pueden hacer más análisis pero no es el objetivo de este notebook\n",
    "- Si hay merit este parte desde 0.5k hasta los 2.5 valor tope de acuerdo a la explicación del problema"
   ]
  },
  {
   "cell_type": "markdown",
   "id": "4c0092b3-49b1-4855-a7a1-07241bd3e772",
   "metadata": {},
   "source": [
    "**Conclusiones:**\r\n",
    "- El monto de la beca que como variable de decisión puede tomar valores entre 0 y 2.5, pero en los datos, los valores se mueven desde 0.5 hasta 2.5. Lo que puede generar un riesg en caso de que se quisiera probar el efecto de asignarle a alguien por ejemplo 0.3 de becao"
   ]
  },
  {
   "cell_type": "code",
   "execution_count": null,
   "id": "58cb5da4-ac0b-419d-8b9b-97c4f83a3734",
   "metadata": {},
   "outputs": [],
   "source": []
  },
  {
   "cell_type": "markdown",
   "id": "e493f04b-9d77-4daf-af35-16aeb51696e5",
   "metadata": {},
   "source": [
    "### 6. Model\n",
    "Predecir si el estudiante va a ingresar a no a la universidad de acuerdo a SAT, GPA y merit"
   ]
  },
  {
   "cell_type": "code",
   "execution_count": 15,
   "id": "d448fa81-dbc1-474f-8d54-617ca0241262",
   "metadata": {},
   "outputs": [],
   "source": [
    "# split data\n",
    "X_train, X_test, y_train, y_test = train_test_split(\n",
    "     historical_data.loc[:, features],\n",
    "     historical_data.loc[:, target],\n",
    "     test_size=0.2,\n",
    "     random_state=42)"
   ]
  },
  {
   "cell_type": "code",
   "execution_count": 16,
   "id": "12407cda-bc0e-4217-a3f7-ae1ec5a6f9d0",
   "metadata": {},
   "outputs": [
    {
     "data": {
      "text/html": [
       "<div>\n",
       "<style scoped>\n",
       "    .dataframe tbody tr th:only-of-type {\n",
       "        vertical-align: middle;\n",
       "    }\n",
       "\n",
       "    .dataframe tbody tr th {\n",
       "        vertical-align: top;\n",
       "    }\n",
       "\n",
       "    .dataframe thead th {\n",
       "        text-align: right;\n",
       "    }\n",
       "</style>\n",
       "<table border=\"1\" class=\"dataframe\">\n",
       "  <thead>\n",
       "    <tr style=\"text-align: right;\">\n",
       "      <th></th>\n",
       "      <th>merit</th>\n",
       "      <th>SAT</th>\n",
       "      <th>GPA</th>\n",
       "    </tr>\n",
       "  </thead>\n",
       "  <tbody>\n",
       "    <tr>\n",
       "      <th>5895</th>\n",
       "      <td>1.87</td>\n",
       "      <td>1384</td>\n",
       "      <td>3.55</td>\n",
       "    </tr>\n",
       "    <tr>\n",
       "      <th>3729</th>\n",
       "      <td>1.36</td>\n",
       "      <td>1174</td>\n",
       "      <td>2.86</td>\n",
       "    </tr>\n",
       "    <tr>\n",
       "      <th>8959</th>\n",
       "      <td>0.00</td>\n",
       "      <td>1272</td>\n",
       "      <td>3.04</td>\n",
       "    </tr>\n",
       "    <tr>\n",
       "      <th>7672</th>\n",
       "      <td>0.00</td>\n",
       "      <td>1084</td>\n",
       "      <td>2.77</td>\n",
       "    </tr>\n",
       "    <tr>\n",
       "      <th>6000</th>\n",
       "      <td>0.00</td>\n",
       "      <td>1240</td>\n",
       "      <td>2.99</td>\n",
       "    </tr>\n",
       "  </tbody>\n",
       "</table>\n",
       "</div>"
      ],
      "text/plain": [
       "      merit   SAT   GPA\n",
       "5895   1.87  1384  3.55\n",
       "3729   1.36  1174  2.86\n",
       "8959   0.00  1272  3.04\n",
       "7672   0.00  1084  2.77\n",
       "6000   0.00  1240  2.99"
      ]
     },
     "execution_count": 16,
     "metadata": {},
     "output_type": "execute_result"
    }
   ],
   "source": [
    "X_train.head()"
   ]
  },
  {
   "cell_type": "code",
   "execution_count": 62,
   "id": "7a45d0a0-c69e-45ac-811f-6eaffede67c4",
   "metadata": {},
   "outputs": [
    {
     "name": "stdout",
     "output_type": "stream",
     "text": [
      "debugging - training\n"
     ]
    }
   ],
   "source": [
    "# Run our regression\n",
    "\n",
    "# LOGISTIC MODEL\n",
    "#model_ml = LogisticRegression(random_state = 42)\n",
    "\n",
    "\n",
    "\n",
    "# CUSTOM MODEL SINCE LOGISTIC MODEL\n",
    "class custom_logistic(LogisticRegression):\n",
    "    \"\"\"\n",
    "    Clase linear regression with any change. Only test if guroby accept this model\n",
    "    \"\"\"\n",
    "    def __init__(self):\n",
    "        super().__init__()\n",
    "            \n",
    "    def fit(self, X, y):\n",
    "        \"\"\"\n",
    "        Method custom train\n",
    "        \"\"\"\n",
    "        print('debugging - training')\n",
    "        super().fit(X, y)\n",
    "        #return self\n",
    "    \n",
    "    def predict(self, X):\n",
    "        \"\"\"\n",
    "        Method custom predict\n",
    "        \"\"\"\n",
    "        y_pred = super().predict(X)\n",
    "        # one change in the code. No effect the prediction\n",
    "        y_pred_change = y_pred + 1\n",
    "        return y_pred\n",
    "model_ml = custom_logistic()\n",
    "\n",
    "\n",
    "model_ml.fit(X = X_train, y = y_train)"
   ]
  },
  {
   "cell_type": "code",
   "execution_count": 63,
   "id": "08899d33-e5b7-4b77-9135-7f5bcbb152a7",
   "metadata": {},
   "outputs": [
    {
     "data": {
      "text/html": [
       "<style>#sk-container-id-2 {color: black;}#sk-container-id-2 pre{padding: 0;}#sk-container-id-2 div.sk-toggleable {background-color: white;}#sk-container-id-2 label.sk-toggleable__label {cursor: pointer;display: block;width: 100%;margin-bottom: 0;padding: 0.3em;box-sizing: border-box;text-align: center;}#sk-container-id-2 label.sk-toggleable__label-arrow:before {content: \"▸\";float: left;margin-right: 0.25em;color: #696969;}#sk-container-id-2 label.sk-toggleable__label-arrow:hover:before {color: black;}#sk-container-id-2 div.sk-estimator:hover label.sk-toggleable__label-arrow:before {color: black;}#sk-container-id-2 div.sk-toggleable__content {max-height: 0;max-width: 0;overflow: hidden;text-align: left;background-color: #f0f8ff;}#sk-container-id-2 div.sk-toggleable__content pre {margin: 0.2em;color: black;border-radius: 0.25em;background-color: #f0f8ff;}#sk-container-id-2 input.sk-toggleable__control:checked~div.sk-toggleable__content {max-height: 200px;max-width: 100%;overflow: auto;}#sk-container-id-2 input.sk-toggleable__control:checked~label.sk-toggleable__label-arrow:before {content: \"▾\";}#sk-container-id-2 div.sk-estimator input.sk-toggleable__control:checked~label.sk-toggleable__label {background-color: #d4ebff;}#sk-container-id-2 div.sk-label input.sk-toggleable__control:checked~label.sk-toggleable__label {background-color: #d4ebff;}#sk-container-id-2 input.sk-hidden--visually {border: 0;clip: rect(1px 1px 1px 1px);clip: rect(1px, 1px, 1px, 1px);height: 1px;margin: -1px;overflow: hidden;padding: 0;position: absolute;width: 1px;}#sk-container-id-2 div.sk-estimator {font-family: monospace;background-color: #f0f8ff;border: 1px dotted black;border-radius: 0.25em;box-sizing: border-box;margin-bottom: 0.5em;}#sk-container-id-2 div.sk-estimator:hover {background-color: #d4ebff;}#sk-container-id-2 div.sk-parallel-item::after {content: \"\";width: 100%;border-bottom: 1px solid gray;flex-grow: 1;}#sk-container-id-2 div.sk-label:hover label.sk-toggleable__label {background-color: #d4ebff;}#sk-container-id-2 div.sk-serial::before {content: \"\";position: absolute;border-left: 1px solid gray;box-sizing: border-box;top: 0;bottom: 0;left: 50%;z-index: 0;}#sk-container-id-2 div.sk-serial {display: flex;flex-direction: column;align-items: center;background-color: white;padding-right: 0.2em;padding-left: 0.2em;position: relative;}#sk-container-id-2 div.sk-item {position: relative;z-index: 1;}#sk-container-id-2 div.sk-parallel {display: flex;align-items: stretch;justify-content: center;background-color: white;position: relative;}#sk-container-id-2 div.sk-item::before, #sk-container-id-2 div.sk-parallel-item::before {content: \"\";position: absolute;border-left: 1px solid gray;box-sizing: border-box;top: 0;bottom: 0;left: 50%;z-index: -1;}#sk-container-id-2 div.sk-parallel-item {display: flex;flex-direction: column;z-index: 1;position: relative;background-color: white;}#sk-container-id-2 div.sk-parallel-item:first-child::after {align-self: flex-end;width: 50%;}#sk-container-id-2 div.sk-parallel-item:last-child::after {align-self: flex-start;width: 50%;}#sk-container-id-2 div.sk-parallel-item:only-child::after {width: 0;}#sk-container-id-2 div.sk-dashed-wrapped {border: 1px dashed gray;margin: 0 0.4em 0.5em 0.4em;box-sizing: border-box;padding-bottom: 0.4em;background-color: white;}#sk-container-id-2 div.sk-label label {font-family: monospace;font-weight: bold;display: inline-block;line-height: 1.2em;}#sk-container-id-2 div.sk-label-container {text-align: center;}#sk-container-id-2 div.sk-container {/* jupyter's `normalize.less` sets `[hidden] { display: none; }` but bootstrap.min.css set `[hidden] { display: none !important; }` so we also need the `!important` here to be able to override the default hidden behavior on the sphinx rendered scikit-learn.org. See: https://github.com/scikit-learn/scikit-learn/issues/21755 */display: inline-block !important;position: relative;}#sk-container-id-2 div.sk-text-repr-fallback {display: none;}</style><div id=\"sk-container-id-2\" class=\"sk-top-container\"><div class=\"sk-text-repr-fallback\"><pre>custom_logistic()</pre><b>In a Jupyter environment, please rerun this cell to show the HTML representation or trust the notebook. <br />On GitHub, the HTML representation is unable to render, please try loading this page with nbviewer.org.</b></div><div class=\"sk-container\" hidden><div class=\"sk-item\"><div class=\"sk-estimator sk-toggleable\"><input class=\"sk-toggleable__control sk-hidden--visually\" id=\"sk-estimator-id-2\" type=\"checkbox\" checked><label for=\"sk-estimator-id-2\" class=\"sk-toggleable__label sk-toggleable__label-arrow\">custom_logistic</label><div class=\"sk-toggleable__content\"><pre>custom_logistic()</pre></div></div></div></div></div>"
      ],
      "text/plain": [
       "custom_logistic()"
      ]
     },
     "execution_count": 63,
     "metadata": {},
     "output_type": "execute_result"
    }
   ],
   "source": [
    "model_ml"
   ]
  },
  {
   "cell_type": "code",
   "execution_count": null,
   "id": "e345d3cc-3e69-442c-b1db-ee628b93c877",
   "metadata": {},
   "outputs": [],
   "source": []
  },
  {
   "cell_type": "markdown",
   "id": "dabb7a45-f4c9-45cb-a04a-51bc98cd77c2",
   "metadata": {},
   "source": [
    "### 7. Evaluación modelo"
   ]
  },
  {
   "cell_type": "code",
   "execution_count": 64,
   "id": "1524751d-bcc5-4de1-a5a2-0618fa9c4f11",
   "metadata": {},
   "outputs": [],
   "source": [
    "y_pred_test = model_ml.predict(X_test)"
   ]
  },
  {
   "cell_type": "code",
   "execution_count": 65,
   "id": "8cf1a39b-438e-43e1-9783-a73633254756",
   "metadata": {},
   "outputs": [
    {
     "data": {
      "text/plain": [
       "0.993"
      ]
     },
     "execution_count": 65,
     "metadata": {},
     "output_type": "execute_result"
    }
   ],
   "source": [
    "# accuracy\n",
    "accuracy_score(y_true = y_test,\n",
    "               y_pred = y_pred_test\n",
    "               )"
   ]
  },
  {
   "cell_type": "code",
   "execution_count": 66,
   "id": "76e5663a-6e2b-4cd9-9a67-f6569e5dfd52",
   "metadata": {},
   "outputs": [
    {
     "data": {
      "text/plain": [
       "array([[1991,   15],\n",
       "       [  13, 1981]], dtype=int64)"
      ]
     },
     "execution_count": 66,
     "metadata": {},
     "output_type": "execute_result"
    }
   ],
   "source": [
    "# confusion matrix datos test\n",
    "\n",
    "confusion_matrix(y_true = y_test,\n",
    "                 y_pred = y_pred_test\n",
    "                 )"
   ]
  },
  {
   "cell_type": "code",
   "execution_count": null,
   "id": "e0b1e316-1cc4-4b6e-b832-26a5a688ff53",
   "metadata": {},
   "outputs": [],
   "source": []
  },
  {
   "cell_type": "markdown",
   "id": "9a6952b8-c65c-4c9e-8f36-66dd82786a75",
   "metadata": {},
   "source": [
    "### 8. Optimization model\n",
    "Luego de tener un modelo que dado: SAT, GPA y merit pueda calcular si el alumno va a ingresar a la universidad o no (utilizando datos históricos, ej postulaciones de la universidad de lo últimos 5 años), ahora con datos nuevos donde está la información de las variables no controlables SAT y GPA, ej de las postulaciones a la universidad de este año, la universidad busca conocer qué MERIT (beca económica) ofrecerle a este conjunto de estudiantes para maximar la cantidad de alumnos que entran con el presupuesto de becas que cuentanmente"
   ]
  },
  {
   "cell_type": "markdown",
   "id": "90230ccc-2bd2-4bed-8383-8a087da3e5c1",
   "metadata": {},
   "source": [
    "CARGAR DATA\n",
    "**Esta data no contiene las variables de decisión del modelo.** En este caso, contiene solo SAT y GPA ya que merit y enroll son variables de decisión X e y respectivamente\n",
    "\n",
    "PARÁMETROS\n",
    "- Los datos obtenidos del dataset SAT, GPA\n",
    "- Presupuesto\n",
    "\n",
    "VARIABLES DE DECISIÓN\n",
    "- **X**: en los datos, es la columna: **merit**. Variable continua. Es la cantidad de dinero que se le asigna como beca. Dinero medido en K.\n",
    "- **y**: en los datos, es la columna: **enroll**. variable binaria, si el estudiante ingresa a la universidad"
   ]
  },
  {
   "cell_type": "code",
   "execution_count": null,
   "id": "de7f2124-fad2-4a75-8901-ebeeb36ba32c",
   "metadata": {},
   "outputs": [],
   "source": []
  },
  {
   "cell_type": "code",
   "execution_count": null,
   "id": "8aa57504-690c-4200-bef7-1a28c81ca116",
   "metadata": {},
   "outputs": [],
   "source": []
  },
  {
   "cell_type": "markdown",
   "id": "a28b25fc-5e8b-428b-890b-d45fd495a036",
   "metadata": {},
   "source": [
    "#### 8.1 Cargar data"
   ]
  },
  {
   "cell_type": "code",
   "execution_count": 67,
   "id": "03e20be7-5bf1-4ad0-bdd8-34a3652e08db",
   "metadata": {},
   "outputs": [
    {
     "data": {
      "text/html": [
       "<div>\n",
       "<style scoped>\n",
       "    .dataframe tbody tr th:only-of-type {\n",
       "        vertical-align: middle;\n",
       "    }\n",
       "\n",
       "    .dataframe tbody tr th {\n",
       "        vertical-align: top;\n",
       "    }\n",
       "\n",
       "    .dataframe thead th {\n",
       "        text-align: right;\n",
       "    }\n",
       "</style>\n",
       "<table border=\"1\" class=\"dataframe\">\n",
       "  <thead>\n",
       "    <tr style=\"text-align: right;\">\n",
       "      <th></th>\n",
       "      <th>SAT</th>\n",
       "      <th>GPA</th>\n",
       "    </tr>\n",
       "    <tr>\n",
       "      <th>StudentID</th>\n",
       "      <th></th>\n",
       "      <th></th>\n",
       "    </tr>\n",
       "  </thead>\n",
       "  <tbody>\n",
       "    <tr>\n",
       "      <th>1</th>\n",
       "      <td>1240</td>\n",
       "      <td>3.22</td>\n",
       "    </tr>\n",
       "    <tr>\n",
       "      <th>2</th>\n",
       "      <td>1206</td>\n",
       "      <td>2.87</td>\n",
       "    </tr>\n",
       "    <tr>\n",
       "      <th>3</th>\n",
       "      <td>1520</td>\n",
       "      <td>3.74</td>\n",
       "    </tr>\n",
       "    <tr>\n",
       "      <th>4</th>\n",
       "      <td>1238</td>\n",
       "      <td>3.11</td>\n",
       "    </tr>\n",
       "    <tr>\n",
       "      <th>5</th>\n",
       "      <td>1142</td>\n",
       "      <td>2.74</td>\n",
       "    </tr>\n",
       "    <tr>\n",
       "      <th>...</th>\n",
       "      <td>...</td>\n",
       "      <td>...</td>\n",
       "    </tr>\n",
       "    <tr>\n",
       "      <th>5996</th>\n",
       "      <td>1332</td>\n",
       "      <td>3.14</td>\n",
       "    </tr>\n",
       "    <tr>\n",
       "      <th>5997</th>\n",
       "      <td>1228</td>\n",
       "      <td>2.95</td>\n",
       "    </tr>\n",
       "    <tr>\n",
       "      <th>5998</th>\n",
       "      <td>1165</td>\n",
       "      <td>2.81</td>\n",
       "    </tr>\n",
       "    <tr>\n",
       "      <th>5999</th>\n",
       "      <td>1400</td>\n",
       "      <td>3.43</td>\n",
       "    </tr>\n",
       "    <tr>\n",
       "      <th>6000</th>\n",
       "      <td>1097</td>\n",
       "      <td>2.65</td>\n",
       "    </tr>\n",
       "  </tbody>\n",
       "</table>\n",
       "<p>6000 rows × 2 columns</p>\n",
       "</div>"
      ],
      "text/plain": [
       "            SAT   GPA\n",
       "StudentID            \n",
       "1          1240  3.22\n",
       "2          1206  2.87\n",
       "3          1520  3.74\n",
       "4          1238  3.11\n",
       "5          1142  2.74\n",
       "...         ...   ...\n",
       "5996       1332  3.14\n",
       "5997       1228  2.95\n",
       "5998       1165  2.81\n",
       "5999       1400  3.43\n",
       "6000       1097  2.65\n",
       "\n",
       "[6000 rows x 2 columns]"
      ]
     },
     "execution_count": 67,
     "metadata": {},
     "output_type": "execute_result"
    }
   ],
   "source": [
    "# Retrieve new data used to build the optimization problem\n",
    "studentsdata = pd.read_csv(janos_data_url + \"college_applications6000.csv\", index_col=0)\n",
    "studentsdata"
   ]
  },
  {
   "cell_type": "code",
   "execution_count": 68,
   "id": "ff5fc2fe-3761-4582-90c4-bab8c04de885",
   "metadata": {},
   "outputs": [
    {
     "data": {
      "image/png": "[encoded data removed]",
      "text/plain": [
       "<Figure size 640x480 with 1 Axes>"
      ]
     },
     "metadata": {},
     "output_type": "display_data"
    }
   ],
   "source": [
    "# visualizar data para optimizador vs data historica - SAT\n",
    "plt.hist(studentsdata['SAT'], alpha = 0.2, label = 'data_para_optimizador')\n",
    "plt.hist(historical_data['SAT'], alpha = 0.2, label = 'data_historical')\n",
    "plt.legend()\n",
    "plt.title('SAT')\n",
    "plt.show()"
   ]
  },
  {
   "cell_type": "code",
   "execution_count": 69,
   "id": "6c4efbb0-3d43-4302-96f9-570e66eeb50c",
   "metadata": {},
   "outputs": [
    {
     "data": {
      "image/png": "[encoded data removed]",
      "text/plain": [
       "<Figure size 640x480 with 1 Axes>"
      ]
     },
     "metadata": {},
     "output_type": "display_data"
    }
   ],
   "source": [
    "# visualizar data para optimizador vs data historica - GPA\n",
    "plt.hist(studentsdata['GPA'], alpha = 0.2, label = 'data_para_optimizador')\n",
    "plt.hist(historical_data['GPA'], alpha = 0.2, label = 'data_historical')\n",
    "plt.legend()\n",
    "plt.title('GPA')\n",
    "plt.show()"
   ]
  },
  {
   "cell_type": "code",
   "execution_count": 70,
   "id": "5110e914-3050-4e77-8ae4-673d3f33d4d1",
   "metadata": {},
   "outputs": [],
   "source": [
    "# TODO:\n",
    "# validar igualdad de distribuciones\n",
    "# https://towardsdatascience.com/comparing-sample-distributions-with-the-kolmogorov-smirnov-ks-test-a2292ad6fee5"
   ]
  },
  {
   "cell_type": "code",
   "execution_count": null,
   "id": "bd2dc318-609c-4a0c-8846-61a827dfbb78",
   "metadata": {},
   "outputs": [],
   "source": []
  },
  {
   "cell_type": "markdown",
   "id": "ea912428-289c-4b4b-82a8-3696a02915db",
   "metadata": {},
   "source": [
    "### 8.2 Samplear por licencia gratuita\r\n",
    "Samplear datos por licencia gratuita que admite solo 250 índices"
   ]
  },
  {
   "cell_type": "code",
   "execution_count": 71,
   "id": "4f425ff6-5a6e-4112-93e7-d7775e415e78",
   "metadata": {},
   "outputs": [],
   "source": [
    "nstudents = 25\n",
    "\n",
    "# Select randomly nstudents in the data\n",
    "studentsdata = studentsdata.sample(nstudents)"
   ]
  },
  {
   "cell_type": "code",
   "execution_count": null,
   "id": "8008ec67-3c50-4e4b-bde4-18a86025e25f",
   "metadata": {},
   "outputs": [],
   "source": []
  },
  {
   "cell_type": "markdown",
   "id": "37d0abf6-0917-4bc5-ad17-5bc56b4c70b2",
   "metadata": {},
   "source": [
    "#### 8.3 Create Optimization model\r\n",
    "Since our data is in pandas data frames, we use the **package gurobipy-pandas to help create the variables directly using the index of the data frame**"
   ]
  },
  {
   "cell_type": "code",
   "execution_count": 72,
   "id": "1699ee15-ee1b-4c2d-8ac3-a4561fa0a0e3",
   "metadata": {},
   "outputs": [
    {
     "data": {
      "text/plain": [
       "<gurobi.Model Continuous instance Student Enrollment Model: 0 constrs, 0 vars, No parameter changes>"
      ]
     },
     "execution_count": 72,
     "metadata": {},
     "output_type": "execute_result"
    }
   ],
   "source": [
    "# Start with classical part of the model\n",
    "m = gp.Model(\"Student Enrollment Model\")\n",
    "m"
   ]
  },
  {
   "cell_type": "code",
   "execution_count": null,
   "id": "ed1e88c3-5871-4941-acb5-1ed1906ae9cb",
   "metadata": {},
   "outputs": [],
   "source": []
  },
  {
   "cell_type": "markdown",
   "id": "b37c54e3-80a0-44e6-a1dd-f4cf7a1f0401",
   "metadata": {},
   "source": [
    "#### 8.4 Agregar variables de decisión"
   ]
  },
  {
   "cell_type": "code",
   "execution_count": 73,
   "id": "d654509f-4db1-4ec3-a5d8-4147cac39091",
   "metadata": {},
   "outputs": [
    {
     "data": {
      "text/plain": [
       "StudentID\n",
       "584     <gurobi.Var *Awaiting Model Update*>\n",
       "4125    <gurobi.Var *Awaiting Model Update*>\n",
       "5661    <gurobi.Var *Awaiting Model Update*>\n",
       "340     <gurobi.Var *Awaiting Model Update*>\n",
       "4467    <gurobi.Var *Awaiting Model Update*>\n",
       "2718    <gurobi.Var *Awaiting Model Update*>\n",
       "4750    <gurobi.Var *Awaiting Model Update*>\n",
       "3379    <gurobi.Var *Awaiting Model Update*>\n",
       "5902    <gurobi.Var *Awaiting Model Update*>\n",
       "2560    <gurobi.Var *Awaiting Model Update*>\n",
       "1997    <gurobi.Var *Awaiting Model Update*>\n",
       "3353    <gurobi.Var *Awaiting Model Update*>\n",
       "555     <gurobi.Var *Awaiting Model Update*>\n",
       "5106    <gurobi.Var *Awaiting Model Update*>\n",
       "2695    <gurobi.Var *Awaiting Model Update*>\n",
       "1015    <gurobi.Var *Awaiting Model Update*>\n",
       "5554    <gurobi.Var *Awaiting Model Update*>\n",
       "4431    <gurobi.Var *Awaiting Model Update*>\n",
       "202     <gurobi.Var *Awaiting Model Update*>\n",
       "3609    <gurobi.Var *Awaiting Model Update*>\n",
       "2836    <gurobi.Var *Awaiting Model Update*>\n",
       "5435    <gurobi.Var *Awaiting Model Update*>\n",
       "2056    <gurobi.Var *Awaiting Model Update*>\n",
       "1862    <gurobi.Var *Awaiting Model Update*>\n",
       "3827    <gurobi.Var *Awaiting Model Update*>\n",
       "Name: enroll_probability, dtype: object"
      ]
     },
     "execution_count": 73,
     "metadata": {},
     "output_type": "execute_result"
    }
   ],
   "source": [
    "# Agregar variable de decisión: y\n",
    "# The y variables are modeling the probability of enrollment of each student. They are indexed by students data\n",
    "y = gppd.add_vars(m, studentsdata, name='enroll_probability')\n",
    "y"
   ]
  },
  {
   "cell_type": "code",
   "execution_count": 74,
   "id": "0dd31833-da70-4529-9ee1-1ed696e4f1a8",
   "metadata": {},
   "outputs": [],
   "source": [
    "# TODO YO: COMO RECONOCE QUE ES UNA VARIABLE BINARIA?"
   ]
  },
  {
   "cell_type": "code",
   "execution_count": null,
   "id": "bada33da-5ab9-4af2-a291-a578806bb79d",
   "metadata": {},
   "outputs": [],
   "source": []
  },
  {
   "cell_type": "code",
   "execution_count": 75,
   "id": "f405be72-ced4-4496-9443-484aaeb221a1",
   "metadata": {},
   "outputs": [],
   "source": [
    "# Agregar variable de decisión: X - agregarla directamente en el dataframe. \n",
    "# ESTO PORQUE PARA EL MODELO DE MACHINE LEARNING ES MAS FÁCIL PASAR EL DATAFRAME CON TODAS LAS FEATURES QUE NECESITA PARA HACER LA INFERENCIA\n",
    "# se le pasa el dataframe con las features que no son variables de decisión y se crean las columnas con las features que sí son variables de decisión\n",
    "\n",
    "\n",
    "# We add to studentsdata a column of variables to model the \"merit\" feature. Those variable are between 0 and 2.5.\n",
    "# They are added directly to the data frame using the gppd extension.\n",
    "studentsdata = studentsdata.gppd.add_vars(m, lb=0.0, ub=2.5, name='merit')"
   ]
  },
  {
   "cell_type": "code",
   "execution_count": 76,
   "id": "8ce65bc7-7de7-4ce8-b3fb-93e84b670703",
   "metadata": {},
   "outputs": [
    {
     "data": {
      "text/html": [
       "<div>\n",
       "<style scoped>\n",
       "    .dataframe tbody tr th:only-of-type {\n",
       "        vertical-align: middle;\n",
       "    }\n",
       "\n",
       "    .dataframe tbody tr th {\n",
       "        vertical-align: top;\n",
       "    }\n",
       "\n",
       "    .dataframe thead th {\n",
       "        text-align: right;\n",
       "    }\n",
       "</style>\n",
       "<table border=\"1\" class=\"dataframe\">\n",
       "  <thead>\n",
       "    <tr style=\"text-align: right;\">\n",
       "      <th></th>\n",
       "      <th>SAT</th>\n",
       "      <th>GPA</th>\n",
       "      <th>merit</th>\n",
       "    </tr>\n",
       "    <tr>\n",
       "      <th>StudentID</th>\n",
       "      <th></th>\n",
       "      <th></th>\n",
       "      <th></th>\n",
       "    </tr>\n",
       "  </thead>\n",
       "  <tbody>\n",
       "    <tr>\n",
       "      <th>584</th>\n",
       "      <td>1566</td>\n",
       "      <td>3.84</td>\n",
       "      <td>&lt;gurobi.Var *Awaiting Model Update*&gt;</td>\n",
       "    </tr>\n",
       "    <tr>\n",
       "      <th>4125</th>\n",
       "      <td>1100</td>\n",
       "      <td>2.72</td>\n",
       "      <td>&lt;gurobi.Var *Awaiting Model Update*&gt;</td>\n",
       "    </tr>\n",
       "    <tr>\n",
       "      <th>5661</th>\n",
       "      <td>1214</td>\n",
       "      <td>3.23</td>\n",
       "      <td>&lt;gurobi.Var *Awaiting Model Update*&gt;</td>\n",
       "    </tr>\n",
       "    <tr>\n",
       "      <th>340</th>\n",
       "      <td>1161</td>\n",
       "      <td>2.75</td>\n",
       "      <td>&lt;gurobi.Var *Awaiting Model Update*&gt;</td>\n",
       "    </tr>\n",
       "    <tr>\n",
       "      <th>4467</th>\n",
       "      <td>1073</td>\n",
       "      <td>2.62</td>\n",
       "      <td>&lt;gurobi.Var *Awaiting Model Update*&gt;</td>\n",
       "    </tr>\n",
       "  </tbody>\n",
       "</table>\n",
       "</div>"
      ],
      "text/plain": [
       "            SAT   GPA                                 merit\n",
       "StudentID                                                  \n",
       "584        1566  3.84  <gurobi.Var *Awaiting Model Update*>\n",
       "4125       1100  2.72  <gurobi.Var *Awaiting Model Update*>\n",
       "5661       1214  3.23  <gurobi.Var *Awaiting Model Update*>\n",
       "340        1161  2.75  <gurobi.Var *Awaiting Model Update*>\n",
       "4467       1073  2.62  <gurobi.Var *Awaiting Model Update*>"
      ]
     },
     "execution_count": 76,
     "metadata": {},
     "output_type": "execute_result"
    }
   ],
   "source": [
    "studentsdata.head()"
   ]
  },
  {
   "cell_type": "code",
   "execution_count": 77,
   "id": "00bc04df-cba5-4c6a-8c94-cd4c2af901a6",
   "metadata": {},
   "outputs": [
    {
     "data": {
      "text/plain": [
       "StudentID\n",
       "584     <gurobi.Var *Awaiting Model Update*>\n",
       "4125    <gurobi.Var *Awaiting Model Update*>\n",
       "5661    <gurobi.Var *Awaiting Model Update*>\n",
       "340     <gurobi.Var *Awaiting Model Update*>\n",
       "4467    <gurobi.Var *Awaiting Model Update*>\n",
       "2718    <gurobi.Var *Awaiting Model Update*>\n",
       "4750    <gurobi.Var *Awaiting Model Update*>\n",
       "3379    <gurobi.Var *Awaiting Model Update*>\n",
       "5902    <gurobi.Var *Awaiting Model Update*>\n",
       "2560    <gurobi.Var *Awaiting Model Update*>\n",
       "1997    <gurobi.Var *Awaiting Model Update*>\n",
       "3353    <gurobi.Var *Awaiting Model Update*>\n",
       "555     <gurobi.Var *Awaiting Model Update*>\n",
       "5106    <gurobi.Var *Awaiting Model Update*>\n",
       "2695    <gurobi.Var *Awaiting Model Update*>\n",
       "1015    <gurobi.Var *Awaiting Model Update*>\n",
       "5554    <gurobi.Var *Awaiting Model Update*>\n",
       "4431    <gurobi.Var *Awaiting Model Update*>\n",
       "202     <gurobi.Var *Awaiting Model Update*>\n",
       "3609    <gurobi.Var *Awaiting Model Update*>\n",
       "2836    <gurobi.Var *Awaiting Model Update*>\n",
       "5435    <gurobi.Var *Awaiting Model Update*>\n",
       "2056    <gurobi.Var *Awaiting Model Update*>\n",
       "1862    <gurobi.Var *Awaiting Model Update*>\n",
       "3827    <gurobi.Var *Awaiting Model Update*>\n",
       "Name: merit, dtype: object"
      ]
     },
     "execution_count": 77,
     "metadata": {},
     "output_type": "execute_result"
    }
   ],
   "source": [
    "# Definir variable de decisión X. AQUI SIMPLEMENTE SE DEFINE UNA VARIABLE DE PYTHON \"x\" sin las otras variables del dataframe porque para definir una restricción se hace de la forma x.sum(),\n",
    "# SIN EMBARGO ESTO ES TOTALMENTE INNECESARIO Y SE PUEDE OMITIR ESTA DEFICIÓN DE VARIABLES PARA EVITAR CONFUNDIR\n",
    "\n",
    "# We denote by x the (variable) \"merit\" feature\n",
    "x = studentsdata.loc[:, \"merit\"]\n",
    "x"
   ]
  },
  {
   "cell_type": "code",
   "execution_count": 78,
   "id": "5c9960d2-bef0-4037-8975-36ee9b383039",
   "metadata": {},
   "outputs": [
    {
     "data": {
      "text/html": [
       "<div>\n",
       "<style scoped>\n",
       "    .dataframe tbody tr th:only-of-type {\n",
       "        vertical-align: middle;\n",
       "    }\n",
       "\n",
       "    .dataframe tbody tr th {\n",
       "        vertical-align: top;\n",
       "    }\n",
       "\n",
       "    .dataframe thead th {\n",
       "        text-align: right;\n",
       "    }\n",
       "</style>\n",
       "<table border=\"1\" class=\"dataframe\">\n",
       "  <thead>\n",
       "    <tr style=\"text-align: right;\">\n",
       "      <th></th>\n",
       "      <th>merit</th>\n",
       "      <th>SAT</th>\n",
       "      <th>GPA</th>\n",
       "    </tr>\n",
       "    <tr>\n",
       "      <th>StudentID</th>\n",
       "      <th></th>\n",
       "      <th></th>\n",
       "      <th></th>\n",
       "    </tr>\n",
       "  </thead>\n",
       "  <tbody>\n",
       "    <tr>\n",
       "      <th>584</th>\n",
       "      <td>&lt;gurobi.Var *Awaiting Model Update*&gt;</td>\n",
       "      <td>1566</td>\n",
       "      <td>3.84</td>\n",
       "    </tr>\n",
       "    <tr>\n",
       "      <th>4125</th>\n",
       "      <td>&lt;gurobi.Var *Awaiting Model Update*&gt;</td>\n",
       "      <td>1100</td>\n",
       "      <td>2.72</td>\n",
       "    </tr>\n",
       "    <tr>\n",
       "      <th>5661</th>\n",
       "      <td>&lt;gurobi.Var *Awaiting Model Update*&gt;</td>\n",
       "      <td>1214</td>\n",
       "      <td>3.23</td>\n",
       "    </tr>\n",
       "    <tr>\n",
       "      <th>340</th>\n",
       "      <td>&lt;gurobi.Var *Awaiting Model Update*&gt;</td>\n",
       "      <td>1161</td>\n",
       "      <td>2.75</td>\n",
       "    </tr>\n",
       "    <tr>\n",
       "      <th>4467</th>\n",
       "      <td>&lt;gurobi.Var *Awaiting Model Update*&gt;</td>\n",
       "      <td>1073</td>\n",
       "      <td>2.62</td>\n",
       "    </tr>\n",
       "    <tr>\n",
       "      <th>2718</th>\n",
       "      <td>&lt;gurobi.Var *Awaiting Model Update*&gt;</td>\n",
       "      <td>1511</td>\n",
       "      <td>3.81</td>\n",
       "    </tr>\n",
       "    <tr>\n",
       "      <th>4750</th>\n",
       "      <td>&lt;gurobi.Var *Awaiting Model Update*&gt;</td>\n",
       "      <td>1115</td>\n",
       "      <td>2.99</td>\n",
       "    </tr>\n",
       "    <tr>\n",
       "      <th>3379</th>\n",
       "      <td>&lt;gurobi.Var *Awaiting Model Update*&gt;</td>\n",
       "      <td>1058</td>\n",
       "      <td>2.53</td>\n",
       "    </tr>\n",
       "    <tr>\n",
       "      <th>5902</th>\n",
       "      <td>&lt;gurobi.Var *Awaiting Model Update*&gt;</td>\n",
       "      <td>1451</td>\n",
       "      <td>3.70</td>\n",
       "    </tr>\n",
       "    <tr>\n",
       "      <th>2560</th>\n",
       "      <td>&lt;gurobi.Var *Awaiting Model Update*&gt;</td>\n",
       "      <td>1355</td>\n",
       "      <td>3.45</td>\n",
       "    </tr>\n",
       "    <tr>\n",
       "      <th>1997</th>\n",
       "      <td>&lt;gurobi.Var *Awaiting Model Update*&gt;</td>\n",
       "      <td>1192</td>\n",
       "      <td>2.94</td>\n",
       "    </tr>\n",
       "    <tr>\n",
       "      <th>3353</th>\n",
       "      <td>&lt;gurobi.Var *Awaiting Model Update*&gt;</td>\n",
       "      <td>1217</td>\n",
       "      <td>3.06</td>\n",
       "    </tr>\n",
       "    <tr>\n",
       "      <th>555</th>\n",
       "      <td>&lt;gurobi.Var *Awaiting Model Update*&gt;</td>\n",
       "      <td>1536</td>\n",
       "      <td>4.02</td>\n",
       "    </tr>\n",
       "    <tr>\n",
       "      <th>5106</th>\n",
       "      <td>&lt;gurobi.Var *Awaiting Model Update*&gt;</td>\n",
       "      <td>1214</td>\n",
       "      <td>3.13</td>\n",
       "    </tr>\n",
       "    <tr>\n",
       "      <th>2695</th>\n",
       "      <td>&lt;gurobi.Var *Awaiting Model Update*&gt;</td>\n",
       "      <td>1098</td>\n",
       "      <td>2.93</td>\n",
       "    </tr>\n",
       "    <tr>\n",
       "      <th>1015</th>\n",
       "      <td>&lt;gurobi.Var *Awaiting Model Update*&gt;</td>\n",
       "      <td>1314</td>\n",
       "      <td>3.44</td>\n",
       "    </tr>\n",
       "    <tr>\n",
       "      <th>5554</th>\n",
       "      <td>&lt;gurobi.Var *Awaiting Model Update*&gt;</td>\n",
       "      <td>1496</td>\n",
       "      <td>3.64</td>\n",
       "    </tr>\n",
       "    <tr>\n",
       "      <th>4431</th>\n",
       "      <td>&lt;gurobi.Var *Awaiting Model Update*&gt;</td>\n",
       "      <td>1319</td>\n",
       "      <td>3.36</td>\n",
       "    </tr>\n",
       "    <tr>\n",
       "      <th>202</th>\n",
       "      <td>&lt;gurobi.Var *Awaiting Model Update*&gt;</td>\n",
       "      <td>1151</td>\n",
       "      <td>2.85</td>\n",
       "    </tr>\n",
       "    <tr>\n",
       "      <th>3609</th>\n",
       "      <td>&lt;gurobi.Var *Awaiting Model Update*&gt;</td>\n",
       "      <td>1366</td>\n",
       "      <td>3.36</td>\n",
       "    </tr>\n",
       "    <tr>\n",
       "      <th>2836</th>\n",
       "      <td>&lt;gurobi.Var *Awaiting Model Update*&gt;</td>\n",
       "      <td>1435</td>\n",
       "      <td>3.49</td>\n",
       "    </tr>\n",
       "    <tr>\n",
       "      <th>5435</th>\n",
       "      <td>&lt;gurobi.Var *Awaiting Model Update*&gt;</td>\n",
       "      <td>1350</td>\n",
       "      <td>3.26</td>\n",
       "    </tr>\n",
       "    <tr>\n",
       "      <th>2056</th>\n",
       "      <td>&lt;gurobi.Var *Awaiting Model Update*&gt;</td>\n",
       "      <td>1417</td>\n",
       "      <td>3.49</td>\n",
       "    </tr>\n",
       "    <tr>\n",
       "      <th>1862</th>\n",
       "      <td>&lt;gurobi.Var *Awaiting Model Update*&gt;</td>\n",
       "      <td>1162</td>\n",
       "      <td>2.74</td>\n",
       "    </tr>\n",
       "    <tr>\n",
       "      <th>3827</th>\n",
       "      <td>&lt;gurobi.Var *Awaiting Model Update*&gt;</td>\n",
       "      <td>1042</td>\n",
       "      <td>2.73</td>\n",
       "    </tr>\n",
       "  </tbody>\n",
       "</table>\n",
       "</div>"
      ],
      "text/plain": [
       "                                          merit   SAT   GPA\n",
       "StudentID                                                  \n",
       "584        <gurobi.Var *Awaiting Model Update*>  1566  3.84\n",
       "4125       <gurobi.Var *Awaiting Model Update*>  1100  2.72\n",
       "5661       <gurobi.Var *Awaiting Model Update*>  1214  3.23\n",
       "340        <gurobi.Var *Awaiting Model Update*>  1161  2.75\n",
       "4467       <gurobi.Var *Awaiting Model Update*>  1073  2.62\n",
       "2718       <gurobi.Var *Awaiting Model Update*>  1511  3.81\n",
       "4750       <gurobi.Var *Awaiting Model Update*>  1115  2.99\n",
       "3379       <gurobi.Var *Awaiting Model Update*>  1058  2.53\n",
       "5902       <gurobi.Var *Awaiting Model Update*>  1451  3.70\n",
       "2560       <gurobi.Var *Awaiting Model Update*>  1355  3.45\n",
       "1997       <gurobi.Var *Awaiting Model Update*>  1192  2.94\n",
       "3353       <gurobi.Var *Awaiting Model Update*>  1217  3.06\n",
       "555        <gurobi.Var *Awaiting Model Update*>  1536  4.02\n",
       "5106       <gurobi.Var *Awaiting Model Update*>  1214  3.13\n",
       "2695       <gurobi.Var *Awaiting Model Update*>  1098  2.93\n",
       "1015       <gurobi.Var *Awaiting Model Update*>  1314  3.44\n",
       "5554       <gurobi.Var *Awaiting Model Update*>  1496  3.64\n",
       "4431       <gurobi.Var *Awaiting Model Update*>  1319  3.36\n",
       "202        <gurobi.Var *Awaiting Model Update*>  1151  2.85\n",
       "3609       <gurobi.Var *Awaiting Model Update*>  1366  3.36\n",
       "2836       <gurobi.Var *Awaiting Model Update*>  1435  3.49\n",
       "5435       <gurobi.Var *Awaiting Model Update*>  1350  3.26\n",
       "2056       <gurobi.Var *Awaiting Model Update*>  1417  3.49\n",
       "1862       <gurobi.Var *Awaiting Model Update*>  1162  2.74\n",
       "3827       <gurobi.Var *Awaiting Model Update*>  1042  2.73"
      ]
     },
     "execution_count": 78,
     "metadata": {},
     "output_type": "execute_result"
    }
   ],
   "source": [
    "# ordenar dataframe en el mismo orden de feautures utilizado para entrenar el modelo\n",
    "# Make sure that studentsdata contains only the features column and in the right order\n",
    "studentsdata = studentsdata.loc[:, features]\n",
    "studentsdata"
   ]
  },
  {
   "cell_type": "code",
   "execution_count": 79,
   "id": "63d31f8c-4a0c-412b-b6ac-bb43a5ebf238",
   "metadata": {},
   "outputs": [
    {
     "data": {
      "text/plain": [
       "<gurobi.Model Continuous instance Student Enrollment Model: 0 constrs, 50 vars, No parameter changes>"
      ]
     },
     "execution_count": 79,
     "metadata": {},
     "output_type": "execute_result"
    }
   ],
   "source": [
    "# \"compilar\" el modelo de optimización - cargando las variables de decisión - 6000 estudiantes - 6000 elementos en el conjunto i - Variables de decisión Xi = 6000 y yi = 6000 -> 12000 variables de decisión\n",
    "m.update()\n",
    "m"
   ]
  },
  {
   "cell_type": "code",
   "execution_count": 80,
   "id": "c5b69fa2-be06-4573-ba0d-d4f2876801df",
   "metadata": {},
   "outputs": [
    {
     "data": {
      "text/html": [
       "<div>\n",
       "<style scoped>\n",
       "    .dataframe tbody tr th:only-of-type {\n",
       "        vertical-align: middle;\n",
       "    }\n",
       "\n",
       "    .dataframe tbody tr th {\n",
       "        vertical-align: top;\n",
       "    }\n",
       "\n",
       "    .dataframe thead th {\n",
       "        text-align: right;\n",
       "    }\n",
       "</style>\n",
       "<table border=\"1\" class=\"dataframe\">\n",
       "  <thead>\n",
       "    <tr style=\"text-align: right;\">\n",
       "      <th></th>\n",
       "      <th>merit</th>\n",
       "      <th>SAT</th>\n",
       "      <th>GPA</th>\n",
       "    </tr>\n",
       "    <tr>\n",
       "      <th>StudentID</th>\n",
       "      <th></th>\n",
       "      <th></th>\n",
       "      <th></th>\n",
       "    </tr>\n",
       "  </thead>\n",
       "  <tbody>\n",
       "    <tr>\n",
       "      <th>584</th>\n",
       "      <td>&lt;gurobi.Var merit[584]&gt;</td>\n",
       "      <td>1566</td>\n",
       "      <td>3.84</td>\n",
       "    </tr>\n",
       "    <tr>\n",
       "      <th>4125</th>\n",
       "      <td>&lt;gurobi.Var merit[4125]&gt;</td>\n",
       "      <td>1100</td>\n",
       "      <td>2.72</td>\n",
       "    </tr>\n",
       "    <tr>\n",
       "      <th>5661</th>\n",
       "      <td>&lt;gurobi.Var merit[5661]&gt;</td>\n",
       "      <td>1214</td>\n",
       "      <td>3.23</td>\n",
       "    </tr>\n",
       "    <tr>\n",
       "      <th>340</th>\n",
       "      <td>&lt;gurobi.Var merit[340]&gt;</td>\n",
       "      <td>1161</td>\n",
       "      <td>2.75</td>\n",
       "    </tr>\n",
       "    <tr>\n",
       "      <th>4467</th>\n",
       "      <td>&lt;gurobi.Var merit[4467]&gt;</td>\n",
       "      <td>1073</td>\n",
       "      <td>2.62</td>\n",
       "    </tr>\n",
       "    <tr>\n",
       "      <th>2718</th>\n",
       "      <td>&lt;gurobi.Var merit[2718]&gt;</td>\n",
       "      <td>1511</td>\n",
       "      <td>3.81</td>\n",
       "    </tr>\n",
       "    <tr>\n",
       "      <th>4750</th>\n",
       "      <td>&lt;gurobi.Var merit[4750]&gt;</td>\n",
       "      <td>1115</td>\n",
       "      <td>2.99</td>\n",
       "    </tr>\n",
       "    <tr>\n",
       "      <th>3379</th>\n",
       "      <td>&lt;gurobi.Var merit[3379]&gt;</td>\n",
       "      <td>1058</td>\n",
       "      <td>2.53</td>\n",
       "    </tr>\n",
       "    <tr>\n",
       "      <th>5902</th>\n",
       "      <td>&lt;gurobi.Var merit[5902]&gt;</td>\n",
       "      <td>1451</td>\n",
       "      <td>3.70</td>\n",
       "    </tr>\n",
       "    <tr>\n",
       "      <th>2560</th>\n",
       "      <td>&lt;gurobi.Var merit[2560]&gt;</td>\n",
       "      <td>1355</td>\n",
       "      <td>3.45</td>\n",
       "    </tr>\n",
       "  </tbody>\n",
       "</table>\n",
       "</div>"
      ],
      "text/plain": [
       "                              merit   SAT   GPA\n",
       "StudentID                                      \n",
       "584         <gurobi.Var merit[584]>  1566  3.84\n",
       "4125       <gurobi.Var merit[4125]>  1100  2.72\n",
       "5661       <gurobi.Var merit[5661]>  1214  3.23\n",
       "340         <gurobi.Var merit[340]>  1161  2.75\n",
       "4467       <gurobi.Var merit[4467]>  1073  2.62\n",
       "2718       <gurobi.Var merit[2718]>  1511  3.81\n",
       "4750       <gurobi.Var merit[4750]>  1115  2.99\n",
       "3379       <gurobi.Var merit[3379]>  1058  2.53\n",
       "5902       <gurobi.Var merit[5902]>  1451  3.70\n",
       "2560       <gurobi.Var merit[2560]>  1355  3.45"
      ]
     },
     "execution_count": 80,
     "metadata": {},
     "output_type": "execute_result"
    }
   ],
   "source": [
    "# Let's look at our features dataframe for the optimization\n",
    "studentsdata[:10]"
   ]
  },
  {
   "cell_type": "code",
   "execution_count": null,
   "id": "f4f8c24a-826b-4431-b57f-e8d9909221e5",
   "metadata": {},
   "outputs": [],
   "source": []
  },
  {
   "cell_type": "markdown",
   "id": "3ae7e1ab-5811-49f4-a998-ac104778e23b",
   "metadata": {},
   "source": [
    "#### 8.4 Agregar función objetivo y restricciones"
   ]
  },
  {
   "cell_type": "code",
   "execution_count": 81,
   "id": "183f6f0b-a4a9-45b4-b6ea-bd767bff742c",
   "metadata": {},
   "outputs": [
    {
     "data": {
      "text/plain": [
       "<gurobi.LinExpr: enroll_probability[584] + enroll_probability[4125] + enroll_probability[5661] + enroll_probability[340] + enroll_probability[4467] + enroll_probability[2718] + enroll_probability[4750] + enroll_probability[3379] + enroll_probability[5902] + enroll_probability[2560] + enroll_probability[1997] + enroll_probability[3353] + enroll_probability[555] + enroll_probability[5106] + enroll_probability[2695] + enroll_probability[1015] + enroll_probability[5554] + enroll_probability[4431] + enroll_probability[202] + enroll_probability[3609] + enroll_probability[2836] + enroll_probability[5435] + enroll_probability[2056] + enroll_probability[1862] + enroll_probability[3827]>"
      ]
     },
     "execution_count": 81,
     "metadata": {},
     "output_type": "execute_result"
    }
   ],
   "source": [
    "# AGREGAR FUNCIÓN OBJETIVO. Al tomar como origen un dataframe, permite escribir sumatorias de variables como si fueran un dataframe\n",
    "y.sum()"
   ]
  },
  {
   "cell_type": "code",
   "execution_count": 82,
   "id": "372335e4-d30b-42ff-a24b-8bdcdb63affe",
   "metadata": {},
   "outputs": [],
   "source": [
    "# funcion objetivo del modelo\n",
    "m.setObjective(y.sum(), gp.GRB.MAXIMIZE)"
   ]
  },
  {
   "cell_type": "code",
   "execution_count": 83,
   "id": "64acc294-d136-4dfa-aeb8-854cb6d8bc12",
   "metadata": {},
   "outputs": [
    {
     "data": {
      "text/plain": [
       "<gurobi.Constr *Awaiting Model Update*>"
      ]
     },
     "execution_count": 83,
     "metadata": {},
     "output_type": "execute_result"
    }
   ],
   "source": [
    "### agregar restricciones del modelo - presupuesto para becas (ojo solo es una restricción)\n",
    "\n",
    "len_students = studentsdata.shape[0] # calcular la cantidad de estudiantes\n",
    "m.addConstr(x.sum() <= 0.2 * len_students)"
   ]
  },
  {
   "cell_type": "code",
   "execution_count": 84,
   "id": "0c0eb633-f14e-46ee-a5d9-154c86077807",
   "metadata": {},
   "outputs": [
    {
     "data": {
      "text/plain": [
       "5.0"
      ]
     },
     "execution_count": 84,
     "metadata": {},
     "output_type": "execute_result"
    }
   ],
   "source": [
    "0.2 * len_students # ver lado derecho de restricción, presupuesto disponible"
   ]
  },
  {
   "cell_type": "code",
   "execution_count": 85,
   "id": "76c7f098-da1b-4700-bb7b-cad93a81a2de",
   "metadata": {},
   "outputs": [
    {
     "data": {
      "text/plain": [
       "<gurobi.Model Continuous instance Student Enrollment Model: 0 constrs, 50 vars, No parameter changes>"
      ]
     },
     "execution_count": 85,
     "metadata": {},
     "output_type": "execute_result"
    }
   ],
   "source": [
    "# ver modelo antes de actualizarse - no tiene cargada las restricciones ni la función objetivo\n",
    "m"
   ]
  },
  {
   "cell_type": "code",
   "execution_count": 86,
   "id": "0035f194-b7a8-4d7b-b709-44d801372415",
   "metadata": {},
   "outputs": [],
   "source": [
    "# actualizar modelo\n",
    "m.update()"
   ]
  },
  {
   "cell_type": "code",
   "execution_count": 87,
   "id": "ebd023ea-0cdb-4e60-849d-578c4b2f01cc",
   "metadata": {},
   "outputs": [
    {
     "data": {
      "text/plain": [
       "<gurobi.Model Continuous instance Student Enrollment Model: 1 constrs, 50 vars, No parameter changes>"
      ]
     },
     "execution_count": 87,
     "metadata": {},
     "output_type": "execute_result"
    }
   ],
   "source": [
    "# ver modelo actualizado - se agregó SOLO UNA RESTRICCIÓN: limite de presupuesto\n",
    "m"
   ]
  },
  {
   "cell_type": "code",
   "execution_count": null,
   "id": "d66871ea-1acc-4a06-ac30-db9af70a5e76",
   "metadata": {},
   "outputs": [],
   "source": []
  },
  {
   "cell_type": "markdown",
   "id": "f8f72db6-1974-4384-becd-a302f63180e3",
   "metadata": {},
   "source": [
    "#### 8.6 Agregar restricción dada por el modelo de ML\r\n",
    "predicción de prob de unirse estudiantes dado GPA, SAT y merit\r\n",
    "\r\n",
    "**\"add_predictor_const\"**\r\n",
    "\r\n",
    "Documentación códigos: https://github.com/Gurobi/gurobi-machinelearning/blob/main/src/gurobi_ml/add_predictor.py\r\n",
    "\r\n",
    "Se deben de definir los siguientes parámetros de entrada:\r\n",
    "\r\n",
    "    gp_model : :gurobipy:`model`\r\n",
    "            The gurobipy model where the predictor should be inserted.\r\n",
    "    predictor:\r\n",
    "        The predictor to insert.\r\n",
    "    input_vars : mvar_array_like\r\n",
    "        Decision variables used as input for predictor in gp_model.\r\n",
    "    output_vars : mvar_array_like, optional\r\n",
    "        Decision variables used as output for predictor in gp_model."
   ]
  },
  {
   "cell_type": "code",
   "execution_count": 88,
   "id": "d60cc50b-2c9d-4eba-921f-f2c28b0f19ac",
   "metadata": {},
   "outputs": [
    {
     "ename": "NotRegistered",
     "evalue": "Object of type custom_logistic is not registered/supported with gurobi_ml",
     "output_type": "error",
     "traceback": [
      "\u001b[1;31m---------------------------------------------------------------------------\u001b[0m",
      "\u001b[1;31mNotRegistered\u001b[0m                             Traceback (most recent call last)",
      "Cell \u001b[1;32mIn[88], line 2\u001b[0m\n\u001b[0;32m      1\u001b[0m \u001b[38;5;66;03m# definir variable de entrada\u001b[39;00m\n\u001b[1;32m----> 2\u001b[0m pred_constr \u001b[38;5;241m=\u001b[39m \u001b[43madd_predictor_constr\u001b[49m\u001b[43m(\u001b[49m\n\u001b[0;32m      3\u001b[0m \u001b[43m    \u001b[49m\u001b[43mm\u001b[49m\u001b[43m,\u001b[49m\u001b[43m \u001b[49m\u001b[38;5;66;43;03m# model gurobi\u001b[39;49;00m\n\u001b[0;32m      4\u001b[0m \u001b[43m    \u001b[49m\u001b[43mmodel_ml\u001b[49m\u001b[43m,\u001b[49m\u001b[43m \u001b[49m\u001b[38;5;66;43;03m# predictor - artefacto modelo ml\u001b[39;49;00m\n\u001b[0;32m      5\u001b[0m \u001b[43m    \u001b[49m\u001b[43mstudentsdata\u001b[49m\u001b[43m,\u001b[49m\u001b[43m \u001b[49m\u001b[38;5;66;43;03m# input_var - dataframe que contiene las instancias de entrada del modelo de optimización. valores numéricos y variables de decisión\u001b[39;49;00m\n\u001b[0;32m      6\u001b[0m \u001b[43m    \u001b[49m\u001b[43my\u001b[49m\u001b[43m,\u001b[49m\u001b[43m \u001b[49m\u001b[38;5;66;43;03m# output_var - variables de decisión\u001b[39;49;00m\n\u001b[0;32m      7\u001b[0m \u001b[43m    \u001b[49m\u001b[43moutput_type\u001b[49m\u001b[38;5;241;43m=\u001b[39;49m\u001b[38;5;124;43m\"\u001b[39;49m\u001b[38;5;124;43mprobability_1\u001b[39;49m\u001b[38;5;124;43m\"\u001b[39;49m\n\u001b[0;32m      8\u001b[0m \u001b[43m)\u001b[49m\n",
      "File \u001b[1;32mD:\\Anaconda\\envs\\data-science-python-3-10-explanaible-ai\\lib\\site-packages\\gurobi_ml\\add_predictor.py:80\u001b[0m, in \u001b[0;36madd_predictor_constr\u001b[1;34m(gp_model, predictor, input_vars, output_vars, **kwargs)\u001b[0m\n\u001b[0;32m     78\u001b[0m convertor \u001b[38;5;241m=\u001b[39m get_convertor(predictor, convertors)\n\u001b[0;32m     79\u001b[0m \u001b[38;5;28;01mif\u001b[39;00m convertor \u001b[38;5;129;01mis\u001b[39;00m \u001b[38;5;28;01mNone\u001b[39;00m:\n\u001b[1;32m---> 80\u001b[0m     \u001b[38;5;28;01mraise\u001b[39;00m NotRegistered(\u001b[38;5;28mtype\u001b[39m(predictor)\u001b[38;5;241m.\u001b[39m\u001b[38;5;18m__name__\u001b[39m)\n\u001b[0;32m     81\u001b[0m \u001b[38;5;28;01mreturn\u001b[39;00m convertor(gp_model, predictor, input_vars, output_vars, \u001b[38;5;241m*\u001b[39m\u001b[38;5;241m*\u001b[39mkwargs)\n",
      "\u001b[1;31mNotRegistered\u001b[0m: Object of type custom_logistic is not registered/supported with gurobi_ml"
     ]
    }
   ],
   "source": [
    "# definir variable de entrada\n",
    "pred_constr = add_predictor_constr(\n",
    "    m, # model gurobi\n",
    "    model_ml, # predictor - artefacto modelo ml\n",
    "    studentsdata, # input_var - dataframe que contiene las instancias de entrada del modelo de optimización. valores numéricos y variables de decisión\n",
    "    y, # output_var - variables de decisión\n",
    "    output_type=\"probability_1\"\n",
    ")"
   ]
  },
  {
   "cell_type": "code",
   "execution_count": 43,
   "id": "96b724d3-c650-42dd-b8d9-f49182027d03",
   "metadata": {},
   "outputs": [
    {
     "data": {
      "text/html": [
       "<div>\n",
       "<style scoped>\n",
       "    .dataframe tbody tr th:only-of-type {\n",
       "        vertical-align: middle;\n",
       "    }\n",
       "\n",
       "    .dataframe tbody tr th {\n",
       "        vertical-align: top;\n",
       "    }\n",
       "\n",
       "    .dataframe thead th {\n",
       "        text-align: right;\n",
       "    }\n",
       "</style>\n",
       "<table border=\"1\" class=\"dataframe\">\n",
       "  <thead>\n",
       "    <tr style=\"text-align: right;\">\n",
       "      <th></th>\n",
       "      <th>merit</th>\n",
       "      <th>SAT</th>\n",
       "      <th>GPA</th>\n",
       "    </tr>\n",
       "    <tr>\n",
       "      <th>StudentID</th>\n",
       "      <th></th>\n",
       "      <th></th>\n",
       "      <th></th>\n",
       "    </tr>\n",
       "  </thead>\n",
       "  <tbody>\n",
       "    <tr>\n",
       "      <th>4836</th>\n",
       "      <td>&lt;gurobi.Var merit[4836]&gt;</td>\n",
       "      <td>1041</td>\n",
       "      <td>2.56</td>\n",
       "    </tr>\n",
       "    <tr>\n",
       "      <th>104</th>\n",
       "      <td>&lt;gurobi.Var merit[104]&gt;</td>\n",
       "      <td>1228</td>\n",
       "      <td>2.88</td>\n",
       "    </tr>\n",
       "    <tr>\n",
       "      <th>3926</th>\n",
       "      <td>&lt;gurobi.Var merit[3926]&gt;</td>\n",
       "      <td>1115</td>\n",
       "      <td>2.79</td>\n",
       "    </tr>\n",
       "    <tr>\n",
       "      <th>218</th>\n",
       "      <td>&lt;gurobi.Var merit[218]&gt;</td>\n",
       "      <td>1552</td>\n",
       "      <td>3.76</td>\n",
       "    </tr>\n",
       "    <tr>\n",
       "      <th>2480</th>\n",
       "      <td>&lt;gurobi.Var merit[2480]&gt;</td>\n",
       "      <td>1372</td>\n",
       "      <td>3.35</td>\n",
       "    </tr>\n",
       "    <tr>\n",
       "      <th>1781</th>\n",
       "      <td>&lt;gurobi.Var merit[1781]&gt;</td>\n",
       "      <td>1446</td>\n",
       "      <td>3.69</td>\n",
       "    </tr>\n",
       "    <tr>\n",
       "      <th>3024</th>\n",
       "      <td>&lt;gurobi.Var merit[3024]&gt;</td>\n",
       "      <td>1309</td>\n",
       "      <td>3.25</td>\n",
       "    </tr>\n",
       "    <tr>\n",
       "      <th>4340</th>\n",
       "      <td>&lt;gurobi.Var merit[4340]&gt;</td>\n",
       "      <td>1331</td>\n",
       "      <td>3.32</td>\n",
       "    </tr>\n",
       "    <tr>\n",
       "      <th>2015</th>\n",
       "      <td>&lt;gurobi.Var merit[2015]&gt;</td>\n",
       "      <td>1133</td>\n",
       "      <td>2.84</td>\n",
       "    </tr>\n",
       "    <tr>\n",
       "      <th>2944</th>\n",
       "      <td>&lt;gurobi.Var merit[2944]&gt;</td>\n",
       "      <td>1229</td>\n",
       "      <td>3.13</td>\n",
       "    </tr>\n",
       "    <tr>\n",
       "      <th>303</th>\n",
       "      <td>&lt;gurobi.Var merit[303]&gt;</td>\n",
       "      <td>1082</td>\n",
       "      <td>2.53</td>\n",
       "    </tr>\n",
       "    <tr>\n",
       "      <th>2931</th>\n",
       "      <td>&lt;gurobi.Var merit[2931]&gt;</td>\n",
       "      <td>1091</td>\n",
       "      <td>2.77</td>\n",
       "    </tr>\n",
       "    <tr>\n",
       "      <th>4858</th>\n",
       "      <td>&lt;gurobi.Var merit[4858]&gt;</td>\n",
       "      <td>1469</td>\n",
       "      <td>3.84</td>\n",
       "    </tr>\n",
       "    <tr>\n",
       "      <th>835</th>\n",
       "      <td>&lt;gurobi.Var merit[835]&gt;</td>\n",
       "      <td>1154</td>\n",
       "      <td>2.88</td>\n",
       "    </tr>\n",
       "    <tr>\n",
       "      <th>3110</th>\n",
       "      <td>&lt;gurobi.Var merit[3110]&gt;</td>\n",
       "      <td>1193</td>\n",
       "      <td>2.82</td>\n",
       "    </tr>\n",
       "    <tr>\n",
       "      <th>506</th>\n",
       "      <td>&lt;gurobi.Var merit[506]&gt;</td>\n",
       "      <td>1185</td>\n",
       "      <td>2.94</td>\n",
       "    </tr>\n",
       "    <tr>\n",
       "      <th>3641</th>\n",
       "      <td>&lt;gurobi.Var merit[3641]&gt;</td>\n",
       "      <td>1222</td>\n",
       "      <td>2.95</td>\n",
       "    </tr>\n",
       "    <tr>\n",
       "      <th>3798</th>\n",
       "      <td>&lt;gurobi.Var merit[3798]&gt;</td>\n",
       "      <td>1385</td>\n",
       "      <td>3.43</td>\n",
       "    </tr>\n",
       "    <tr>\n",
       "      <th>4562</th>\n",
       "      <td>&lt;gurobi.Var merit[4562]&gt;</td>\n",
       "      <td>1378</td>\n",
       "      <td>3.49</td>\n",
       "    </tr>\n",
       "    <tr>\n",
       "      <th>4161</th>\n",
       "      <td>&lt;gurobi.Var merit[4161]&gt;</td>\n",
       "      <td>1312</td>\n",
       "      <td>3.21</td>\n",
       "    </tr>\n",
       "    <tr>\n",
       "      <th>719</th>\n",
       "      <td>&lt;gurobi.Var merit[719]&gt;</td>\n",
       "      <td>1508</td>\n",
       "      <td>3.58</td>\n",
       "    </tr>\n",
       "    <tr>\n",
       "      <th>2871</th>\n",
       "      <td>&lt;gurobi.Var merit[2871]&gt;</td>\n",
       "      <td>1436</td>\n",
       "      <td>3.44</td>\n",
       "    </tr>\n",
       "    <tr>\n",
       "      <th>122</th>\n",
       "      <td>&lt;gurobi.Var merit[122]&gt;</td>\n",
       "      <td>1470</td>\n",
       "      <td>3.54</td>\n",
       "    </tr>\n",
       "    <tr>\n",
       "      <th>1728</th>\n",
       "      <td>&lt;gurobi.Var merit[1728]&gt;</td>\n",
       "      <td>1020</td>\n",
       "      <td>2.62</td>\n",
       "    </tr>\n",
       "    <tr>\n",
       "      <th>5650</th>\n",
       "      <td>&lt;gurobi.Var merit[5650]&gt;</td>\n",
       "      <td>1057</td>\n",
       "      <td>2.72</td>\n",
       "    </tr>\n",
       "  </tbody>\n",
       "</table>\n",
       "</div>"
      ],
      "text/plain": [
       "                              merit   SAT   GPA\n",
       "StudentID                                      \n",
       "4836       <gurobi.Var merit[4836]>  1041  2.56\n",
       "104         <gurobi.Var merit[104]>  1228  2.88\n",
       "3926       <gurobi.Var merit[3926]>  1115  2.79\n",
       "218         <gurobi.Var merit[218]>  1552  3.76\n",
       "2480       <gurobi.Var merit[2480]>  1372  3.35\n",
       "1781       <gurobi.Var merit[1781]>  1446  3.69\n",
       "3024       <gurobi.Var merit[3024]>  1309  3.25\n",
       "4340       <gurobi.Var merit[4340]>  1331  3.32\n",
       "2015       <gurobi.Var merit[2015]>  1133  2.84\n",
       "2944       <gurobi.Var merit[2944]>  1229  3.13\n",
       "303         <gurobi.Var merit[303]>  1082  2.53\n",
       "2931       <gurobi.Var merit[2931]>  1091  2.77\n",
       "4858       <gurobi.Var merit[4858]>  1469  3.84\n",
       "835         <gurobi.Var merit[835]>  1154  2.88\n",
       "3110       <gurobi.Var merit[3110]>  1193  2.82\n",
       "506         <gurobi.Var merit[506]>  1185  2.94\n",
       "3641       <gurobi.Var merit[3641]>  1222  2.95\n",
       "3798       <gurobi.Var merit[3798]>  1385  3.43\n",
       "4562       <gurobi.Var merit[4562]>  1378  3.49\n",
       "4161       <gurobi.Var merit[4161]>  1312  3.21\n",
       "719         <gurobi.Var merit[719]>  1508  3.58\n",
       "2871       <gurobi.Var merit[2871]>  1436  3.44\n",
       "122         <gurobi.Var merit[122]>  1470  3.54\n",
       "1728       <gurobi.Var merit[1728]>  1020  2.62\n",
       "5650       <gurobi.Var merit[5650]>  1057  2.72"
      ]
     },
     "execution_count": 43,
     "metadata": {},
     "output_type": "execute_result"
    }
   ],
   "source": [
    "studentsdata"
   ]
  },
  {
   "cell_type": "code",
   "execution_count": 44,
   "id": "85482bce-2797-48f6-8d86-b499b02d834b",
   "metadata": {},
   "outputs": [
    {
     "data": {
      "text/plain": [
       "<gurobi_ml.sklearn.logistic_regression.LogisticRegressionConstr at 0x2df99bc57b0>"
      ]
     },
     "execution_count": 44,
     "metadata": {},
     "output_type": "execute_result"
    }
   ],
   "source": [
    "pred_constr"
   ]
  },
  {
   "cell_type": "code",
   "execution_count": 45,
   "id": "6f9da4dd-6af6-4eb0-a833-24374eabbf78",
   "metadata": {},
   "outputs": [
    {
     "data": {
      "text/plain": [
       "<gurobi.Model MIP instance Student Enrollment Model: 26 constrs, 125 vars, No parameter changes>"
      ]
     },
     "execution_count": 45,
     "metadata": {},
     "output_type": "execute_result"
    }
   ],
   "source": [
    "# no se necesita hacer un model.update(), por lo que se ve, se actualiza de forma inmediata agregando las restricciones\n",
    "m"
   ]
  },
  {
   "cell_type": "code",
   "execution_count": 46,
   "id": "1a0ad9ef-39dd-43a5-96c8-d09ee88bcc79",
   "metadata": {},
   "outputs": [
    {
     "name": "stdout",
     "output_type": "stream",
     "text": [
      "Model for log_reg:\n",
      "75 variables\n",
      "25 constraints\n",
      "25 general constraints\n",
      "Input has shape (25, 3)\n",
      "Output has shape (25, 1)\n"
     ]
    }
   ],
   "source": [
    "# estadísticas de los modelos agregados como restricciones\n",
    "# referencia: son 6000 estudiantes, por lo tanto son 6000 elementos en el conjunto i\n",
    "pred_constr.print_stats()"
   ]
  },
  {
   "cell_type": "code",
   "execution_count": null,
   "id": "c2664f69-bf2f-4db5-b83e-ecd799c85c79",
   "metadata": {},
   "outputs": [],
   "source": []
  },
  {
   "cell_type": "markdown",
   "id": "8da9ee77-7c48-460d-9966-0ee235c7aad7",
   "metadata": {},
   "source": [
    "### 8.7 Optimizar"
   ]
  },
  {
   "cell_type": "code",
   "execution_count": 47,
   "id": "ffb65218-7e61-44af-b83c-de8db90350cf",
   "metadata": {},
   "outputs": [
    {
     "name": "stdout",
     "output_type": "stream",
     "text": [
      "Gurobi Optimizer version 11.0.0 build v11.0.0rc2 (win64 - Windows 10.0 (19043.2))\n",
      "\n",
      "CPU model: Intel(R) Core(TM) i7-10750H CPU @ 2.60GHz, instruction set [SSE2|AVX|AVX2]\n",
      "Thread count: 6 physical cores, 12 logical processors, using up to 12 threads\n",
      "\n",
      "Optimize a model with 26 rows, 125 columns and 125 nonzeros\n",
      "Model fingerprint: 0xe711f9a0\n",
      "Model has 25 general constraints\n",
      "Variable types: 125 continuous, 0 integer (0 binary)\n",
      "Coefficient statistics:\n",
      "  Matrix range     [9e-02, 2e+01]\n",
      "  Objective range  [1e+00, 1e+00]\n",
      "  Bounds range     [3e+00, 2e+03]\n",
      "  RHS range        [5e+00, 2e+02]\n",
      "Presolve removed 25 rows and 87 columns\n",
      "Presolve time: 0.00s\n",
      "Presolved: 120 rows, 39 columns, 263 nonzeros\n",
      "Presolved model has 19 nonlinear constraint(s)\n",
      "\n",
      "Solving non-convex MINLP\n",
      "\n",
      "Variable types: 39 continuous, 0 integer (0 binary)\n",
      "Found heuristic solution: objective 15.9427358\n",
      "\n",
      "Root relaxation: objective 1.623637e+01, 17 iterations, 0.00 seconds (0.00 work units)\n",
      "\n",
      "    Nodes    |    Current Node    |     Objective Bounds      |     Work\n",
      " Expl Unexpl |  Obj  Depth IntInf | Incumbent    BestBd   Gap | It/Node Time\n",
      "\n",
      "     0     0   16.23637    0    7   15.94274   16.23637  1.84%     -    0s\n",
      "     0     0   16.23637    0    7   15.94274   16.23637  1.84%     -    0s\n",
      "     0     0   16.19912    0    8   15.94274   16.19912  1.61%     -    0s\n",
      "     0     0   16.19268    0    7   15.94274   16.19268  1.57%     -    0s\n",
      "     0     0   16.19111    0    7   15.94274   16.19111  1.56%     -    0s\n",
      "     0     0   16.19058    0    7   15.94274   16.19058  1.55%     -    0s\n",
      "     0     2   16.19058    0    7   15.94274   16.19058  1.55%     -    0s\n",
      "H   28     4                      15.9427358   15.95273  0.06%  10.0    0s\n",
      "\n",
      "Explored 52 nodes (514 simplex iterations) in 0.12 seconds (0.01 work units)\n",
      "Thread count was 12 (of 12 available processors)\n",
      "\n",
      "Solution count 1: 15.9427 \n",
      "\n",
      "Optimal solution found (tolerance 1.00e-04)\n",
      "Best objective 1.594273582845e+01, best bound 1.594339677132e+01, gap 0.0041%\n"
     ]
    }
   ],
   "source": [
    "m.optimize()"
   ]
  },
  {
   "cell_type": "code",
   "execution_count": null,
   "id": "71b79410-ea88-4359-9677-72a444369fd1",
   "metadata": {},
   "outputs": [],
   "source": []
  },
  {
   "cell_type": "markdown",
   "id": "261f32b7-d17e-4a3d-93f3-da8fc4115716",
   "metadata": {},
   "source": [
    "### 8.9 Resultados"
   ]
  },
  {
   "cell_type": "code",
   "execution_count": 48,
   "id": "afb820b3-5ba2-4efb-978a-5a6cedaa819f",
   "metadata": {},
   "outputs": [
    {
     "data": {
      "text/html": [
       "<div>\n",
       "<style scoped>\n",
       "    .dataframe tbody tr th:only-of-type {\n",
       "        vertical-align: middle;\n",
       "    }\n",
       "\n",
       "    .dataframe tbody tr th {\n",
       "        vertical-align: top;\n",
       "    }\n",
       "\n",
       "    .dataframe thead th {\n",
       "        text-align: right;\n",
       "    }\n",
       "</style>\n",
       "<table border=\"1\" class=\"dataframe\">\n",
       "  <thead>\n",
       "    <tr style=\"text-align: right;\">\n",
       "      <th></th>\n",
       "      <th>merit</th>\n",
       "      <th>SAT</th>\n",
       "      <th>GPA</th>\n",
       "    </tr>\n",
       "    <tr>\n",
       "      <th>StudentID</th>\n",
       "      <th></th>\n",
       "      <th></th>\n",
       "      <th></th>\n",
       "    </tr>\n",
       "  </thead>\n",
       "  <tbody>\n",
       "    <tr>\n",
       "      <th>4836</th>\n",
       "      <td>0.000000</td>\n",
       "      <td>1041.0</td>\n",
       "      <td>2.56</td>\n",
       "    </tr>\n",
       "    <tr>\n",
       "      <th>104</th>\n",
       "      <td>0.162219</td>\n",
       "      <td>1228.0</td>\n",
       "      <td>2.88</td>\n",
       "    </tr>\n",
       "    <tr>\n",
       "      <th>3926</th>\n",
       "      <td>0.000000</td>\n",
       "      <td>1115.0</td>\n",
       "      <td>2.79</td>\n",
       "    </tr>\n",
       "    <tr>\n",
       "      <th>218</th>\n",
       "      <td>0.000000</td>\n",
       "      <td>1552.0</td>\n",
       "      <td>3.76</td>\n",
       "    </tr>\n",
       "    <tr>\n",
       "      <th>2480</th>\n",
       "      <td>0.000002</td>\n",
       "      <td>1372.0</td>\n",
       "      <td>3.35</td>\n",
       "    </tr>\n",
       "    <tr>\n",
       "      <th>1781</th>\n",
       "      <td>0.000002</td>\n",
       "      <td>1446.0</td>\n",
       "      <td>3.69</td>\n",
       "    </tr>\n",
       "    <tr>\n",
       "      <th>3024</th>\n",
       "      <td>1.291927</td>\n",
       "      <td>1309.0</td>\n",
       "      <td>3.25</td>\n",
       "    </tr>\n",
       "    <tr>\n",
       "      <th>4340</th>\n",
       "      <td>1.556484</td>\n",
       "      <td>1331.0</td>\n",
       "      <td>3.32</td>\n",
       "    </tr>\n",
       "    <tr>\n",
       "      <th>2015</th>\n",
       "      <td>0.000000</td>\n",
       "      <td>1133.0</td>\n",
       "      <td>2.84</td>\n",
       "    </tr>\n",
       "    <tr>\n",
       "      <th>2944</th>\n",
       "      <td>0.516441</td>\n",
       "      <td>1229.0</td>\n",
       "      <td>3.13</td>\n",
       "    </tr>\n",
       "    <tr>\n",
       "      <th>303</th>\n",
       "      <td>0.000000</td>\n",
       "      <td>1082.0</td>\n",
       "      <td>2.53</td>\n",
       "    </tr>\n",
       "    <tr>\n",
       "      <th>2931</th>\n",
       "      <td>0.000000</td>\n",
       "      <td>1091.0</td>\n",
       "      <td>2.77</td>\n",
       "    </tr>\n",
       "    <tr>\n",
       "      <th>4858</th>\n",
       "      <td>0.000002</td>\n",
       "      <td>1469.0</td>\n",
       "      <td>3.84</td>\n",
       "    </tr>\n",
       "    <tr>\n",
       "      <th>835</th>\n",
       "      <td>0.000003</td>\n",
       "      <td>1154.0</td>\n",
       "      <td>2.88</td>\n",
       "    </tr>\n",
       "    <tr>\n",
       "      <th>3110</th>\n",
       "      <td>0.000004</td>\n",
       "      <td>1193.0</td>\n",
       "      <td>2.82</td>\n",
       "    </tr>\n",
       "    <tr>\n",
       "      <th>506</th>\n",
       "      <td>0.000005</td>\n",
       "      <td>1185.0</td>\n",
       "      <td>2.94</td>\n",
       "    </tr>\n",
       "    <tr>\n",
       "      <th>3641</th>\n",
       "      <td>0.213586</td>\n",
       "      <td>1222.0</td>\n",
       "      <td>2.95</td>\n",
       "    </tr>\n",
       "    <tr>\n",
       "      <th>3798</th>\n",
       "      <td>0.000002</td>\n",
       "      <td>1385.0</td>\n",
       "      <td>3.43</td>\n",
       "    </tr>\n",
       "    <tr>\n",
       "      <th>4562</th>\n",
       "      <td>0.000002</td>\n",
       "      <td>1378.0</td>\n",
       "      <td>3.49</td>\n",
       "    </tr>\n",
       "    <tr>\n",
       "      <th>4161</th>\n",
       "      <td>1.259311</td>\n",
       "      <td>1312.0</td>\n",
       "      <td>3.21</td>\n",
       "    </tr>\n",
       "    <tr>\n",
       "      <th>719</th>\n",
       "      <td>0.000002</td>\n",
       "      <td>1508.0</td>\n",
       "      <td>3.58</td>\n",
       "    </tr>\n",
       "    <tr>\n",
       "      <th>2871</th>\n",
       "      <td>0.000002</td>\n",
       "      <td>1436.0</td>\n",
       "      <td>3.44</td>\n",
       "    </tr>\n",
       "    <tr>\n",
       "      <th>122</th>\n",
       "      <td>0.000002</td>\n",
       "      <td>1470.0</td>\n",
       "      <td>3.54</td>\n",
       "    </tr>\n",
       "    <tr>\n",
       "      <th>1728</th>\n",
       "      <td>0.000000</td>\n",
       "      <td>1020.0</td>\n",
       "      <td>2.62</td>\n",
       "    </tr>\n",
       "    <tr>\n",
       "      <th>5650</th>\n",
       "      <td>0.000000</td>\n",
       "      <td>1057.0</td>\n",
       "      <td>2.72</td>\n",
       "    </tr>\n",
       "  </tbody>\n",
       "</table>\n",
       "</div>"
      ],
      "text/plain": [
       "              merit     SAT   GPA\n",
       "StudentID                        \n",
       "4836       0.000000  1041.0  2.56\n",
       "104        0.162219  1228.0  2.88\n",
       "3926       0.000000  1115.0  2.79\n",
       "218        0.000000  1552.0  3.76\n",
       "2480       0.000002  1372.0  3.35\n",
       "1781       0.000002  1446.0  3.69\n",
       "3024       1.291927  1309.0  3.25\n",
       "4340       1.556484  1331.0  3.32\n",
       "2015       0.000000  1133.0  2.84\n",
       "2944       0.516441  1229.0  3.13\n",
       "303        0.000000  1082.0  2.53\n",
       "2931       0.000000  1091.0  2.77\n",
       "4858       0.000002  1469.0  3.84\n",
       "835        0.000003  1154.0  2.88\n",
       "3110       0.000004  1193.0  2.82\n",
       "506        0.000005  1185.0  2.94\n",
       "3641       0.213586  1222.0  2.95\n",
       "3798       0.000002  1385.0  3.43\n",
       "4562       0.000002  1378.0  3.49\n",
       "4161       1.259311  1312.0  3.21\n",
       "719        0.000002  1508.0  3.58\n",
       "2871       0.000002  1436.0  3.44\n",
       "122        0.000002  1470.0  3.54\n",
       "1728       0.000000  1020.0  2.62\n",
       "5650       0.000000  1057.0  2.72"
      ]
     },
     "execution_count": 48,
     "metadata": {},
     "output_type": "execute_result"
    }
   ],
   "source": [
    "pred_constr.input_values"
   ]
  },
  {
   "cell_type": "code",
   "execution_count": 49,
   "id": "e5673370-e8b7-418b-a614-53f79e3bd8f1",
   "metadata": {},
   "outputs": [
    {
     "data": {
      "text/plain": [
       "array([[1.00000000e+00],\n",
       "       [9.91203066e-01],\n",
       "       [1.00000000e+00],\n",
       "       [0.00000000e+00],\n",
       "       [2.36038668e-08],\n",
       "       [0.00000000e+00],\n",
       "       [9.91202953e-01],\n",
       "       [9.91202948e-01],\n",
       "       [9.99993329e-01],\n",
       "       [9.91202975e-01],\n",
       "       [1.00000000e+00],\n",
       "       [1.00000000e+00],\n",
       "       [0.00000000e+00],\n",
       "       [9.99917727e-01],\n",
       "       [9.99004771e-01],\n",
       "       [9.96602040e-01],\n",
       "       [9.91203030e-01],\n",
       "       [2.03929605e-09],\n",
       "       [1.43893218e-09],\n",
       "       [9.91202954e-01],\n",
       "       [0.00000000e+00],\n",
       "       [4.73383345e-09],\n",
       "       [2.60439917e-09],\n",
       "       [1.00000000e+00],\n",
       "       [1.00000000e+00]])"
      ]
     },
     "execution_count": 49,
     "metadata": {},
     "output_type": "execute_result"
    }
   ],
   "source": [
    "pred_constr.output_values"
   ]
  },
  {
   "cell_type": "code",
   "execution_count": 50,
   "id": "15f28de6-c56d-43d7-93e5-6e84999d661e",
   "metadata": {},
   "outputs": [
    {
     "data": {
      "text/html": [
       "<div>\n",
       "<style scoped>\n",
       "    .dataframe tbody tr th:only-of-type {\n",
       "        vertical-align: middle;\n",
       "    }\n",
       "\n",
       "    .dataframe tbody tr th {\n",
       "        vertical-align: top;\n",
       "    }\n",
       "\n",
       "    .dataframe thead th {\n",
       "        text-align: right;\n",
       "    }\n",
       "</style>\n",
       "<table border=\"1\" class=\"dataframe\">\n",
       "  <thead>\n",
       "    <tr style=\"text-align: right;\">\n",
       "      <th></th>\n",
       "      <th>0</th>\n",
       "    </tr>\n",
       "  </thead>\n",
       "  <tbody>\n",
       "    <tr>\n",
       "      <th>0</th>\n",
       "      <td>1.000000e+00</td>\n",
       "    </tr>\n",
       "    <tr>\n",
       "      <th>1</th>\n",
       "      <td>9.912031e-01</td>\n",
       "    </tr>\n",
       "    <tr>\n",
       "      <th>2</th>\n",
       "      <td>1.000000e+00</td>\n",
       "    </tr>\n",
       "    <tr>\n",
       "      <th>3</th>\n",
       "      <td>0.000000e+00</td>\n",
       "    </tr>\n",
       "    <tr>\n",
       "      <th>4</th>\n",
       "      <td>2.360387e-08</td>\n",
       "    </tr>\n",
       "    <tr>\n",
       "      <th>5</th>\n",
       "      <td>0.000000e+00</td>\n",
       "    </tr>\n",
       "    <tr>\n",
       "      <th>6</th>\n",
       "      <td>9.912030e-01</td>\n",
       "    </tr>\n",
       "    <tr>\n",
       "      <th>7</th>\n",
       "      <td>9.912029e-01</td>\n",
       "    </tr>\n",
       "    <tr>\n",
       "      <th>8</th>\n",
       "      <td>9.999933e-01</td>\n",
       "    </tr>\n",
       "    <tr>\n",
       "      <th>9</th>\n",
       "      <td>9.912030e-01</td>\n",
       "    </tr>\n",
       "    <tr>\n",
       "      <th>10</th>\n",
       "      <td>1.000000e+00</td>\n",
       "    </tr>\n",
       "    <tr>\n",
       "      <th>11</th>\n",
       "      <td>1.000000e+00</td>\n",
       "    </tr>\n",
       "    <tr>\n",
       "      <th>12</th>\n",
       "      <td>0.000000e+00</td>\n",
       "    </tr>\n",
       "    <tr>\n",
       "      <th>13</th>\n",
       "      <td>9.999177e-01</td>\n",
       "    </tr>\n",
       "    <tr>\n",
       "      <th>14</th>\n",
       "      <td>9.990048e-01</td>\n",
       "    </tr>\n",
       "    <tr>\n",
       "      <th>15</th>\n",
       "      <td>9.966020e-01</td>\n",
       "    </tr>\n",
       "    <tr>\n",
       "      <th>16</th>\n",
       "      <td>9.912030e-01</td>\n",
       "    </tr>\n",
       "    <tr>\n",
       "      <th>17</th>\n",
       "      <td>2.039296e-09</td>\n",
       "    </tr>\n",
       "    <tr>\n",
       "      <th>18</th>\n",
       "      <td>1.438932e-09</td>\n",
       "    </tr>\n",
       "    <tr>\n",
       "      <th>19</th>\n",
       "      <td>9.912030e-01</td>\n",
       "    </tr>\n",
       "    <tr>\n",
       "      <th>20</th>\n",
       "      <td>0.000000e+00</td>\n",
       "    </tr>\n",
       "    <tr>\n",
       "      <th>21</th>\n",
       "      <td>4.733833e-09</td>\n",
       "    </tr>\n",
       "    <tr>\n",
       "      <th>22</th>\n",
       "      <td>2.604399e-09</td>\n",
       "    </tr>\n",
       "    <tr>\n",
       "      <th>23</th>\n",
       "      <td>1.000000e+00</td>\n",
       "    </tr>\n",
       "    <tr>\n",
       "      <th>24</th>\n",
       "      <td>1.000000e+00</td>\n",
       "    </tr>\n",
       "  </tbody>\n",
       "</table>\n",
       "</div>"
      ],
      "text/plain": [
       "               0\n",
       "0   1.000000e+00\n",
       "1   9.912031e-01\n",
       "2   1.000000e+00\n",
       "3   0.000000e+00\n",
       "4   2.360387e-08\n",
       "5   0.000000e+00\n",
       "6   9.912030e-01\n",
       "7   9.912029e-01\n",
       "8   9.999933e-01\n",
       "9   9.912030e-01\n",
       "10  1.000000e+00\n",
       "11  1.000000e+00\n",
       "12  0.000000e+00\n",
       "13  9.999177e-01\n",
       "14  9.990048e-01\n",
       "15  9.966020e-01\n",
       "16  9.912030e-01\n",
       "17  2.039296e-09\n",
       "18  1.438932e-09\n",
       "19  9.912030e-01\n",
       "20  0.000000e+00\n",
       "21  4.733833e-09\n",
       "22  2.604399e-09\n",
       "23  1.000000e+00\n",
       "24  1.000000e+00"
      ]
     },
     "execution_count": 50,
     "metadata": {},
     "output_type": "execute_result"
    }
   ],
   "source": [
    "pd.DataFrame(pred_constr.output_values)"
   ]
  },
  {
   "cell_type": "code",
   "execution_count": 51,
   "id": "a94ebaa9-c66d-4a9f-9235-c2e73b9c1d78",
   "metadata": {},
   "outputs": [
    {
     "data": {
      "text/plain": [
       "array([[<Axes: title={'center': '0'}>]], dtype=object)"
      ]
     },
     "execution_count": 51,
     "metadata": {},
     "output_type": "execute_result"
    },
    {
     "data": {
      "image/png": "[encoded data removed]",
      "text/plain": [
       "<Figure size 640x480 with 1 Axes>"
      ]
     },
     "metadata": {},
     "output_type": "display_data"
    }
   ],
   "source": [
    "pd.DataFrame(pred_constr.output_values).hist()"
   ]
  },
  {
   "cell_type": "code",
   "execution_count": 52,
   "id": "4b26cda5-29a8-4bc7-8d08-d49a53fb6531",
   "metadata": {},
   "outputs": [
    {
     "data": {
      "text/plain": [
       "StudentID\n",
       "4836                 <gurobi.Var merit[4836] (value 0.0)>\n",
       "104     <gurobi.Var merit[104] (value 0.16221910203573...\n",
       "3926                 <gurobi.Var merit[3926] (value 0.0)>\n",
       "218                   <gurobi.Var merit[218] (value 0.0)>\n",
       "2480    <gurobi.Var merit[2480] (value 1.9790305816336...\n",
       "1781    <gurobi.Var merit[1781] (value 1.6223410854721...\n",
       "3024    <gurobi.Var merit[3024] (value 1.2919268601660...\n",
       "4340    <gurobi.Var merit[4340] (value 1.5564836038620...\n",
       "2015                 <gurobi.Var merit[2015] (value 0.0)>\n",
       "2944    <gurobi.Var merit[2944] (value 0.5164409080153...\n",
       "303                   <gurobi.Var merit[303] (value 0.0)>\n",
       "2931                 <gurobi.Var merit[2931] (value 0.0)>\n",
       "4858    <gurobi.Var merit[4858] (value 1.6223397132364...\n",
       "835     <gurobi.Var merit[835] (value 3.27548910938890...\n",
       "3110    <gurobi.Var merit[3110] (value 3.6621502280675...\n",
       "506     <gurobi.Var merit[506] (value 5.30474551380111...\n",
       "3641    <gurobi.Var merit[3641] (value 0.2135856587835...\n",
       "3798    <gurobi.Var merit[3798] (value 1.6596229530652...\n",
       "4562    <gurobi.Var merit[4562] (value 1.6486824365724...\n",
       "4161    <gurobi.Var merit[4161] (value 1.2593112345130...\n",
       "719     <gurobi.Var merit[719] (value 1.62233975187220...\n",
       "2871    <gurobi.Var merit[2871] (value 1.6226804668839...\n",
       "122     <gurobi.Var merit[122] (value 1.62234174538866...\n",
       "1728                 <gurobi.Var merit[1728] (value 0.0)>\n",
       "5650                 <gurobi.Var merit[5650] (value 0.0)>\n",
       "Name: merit, dtype: object"
      ]
     },
     "execution_count": 52,
     "metadata": {},
     "output_type": "execute_result"
    }
   ],
   "source": [
    "x"
   ]
  },
  {
   "cell_type": "code",
   "execution_count": 53,
   "id": "d2fe6518-6c67-4883-bf6e-5ded1dd09df8",
   "metadata": {},
   "outputs": [
    {
     "data": {
      "text/plain": [
       "StudentID\n",
       "4836    <gurobi.Var enroll_probability[4836] (value 1.0)>\n",
       "104     <gurobi.Var enroll_probability[104] (value 0.9...\n",
       "3926    <gurobi.Var enroll_probability[3926] (value 1.0)>\n",
       "218      <gurobi.Var enroll_probability[218] (value 0.0)>\n",
       "2480    <gurobi.Var enroll_probability[2480] (value 2....\n",
       "1781    <gurobi.Var enroll_probability[1781] (value 0.0)>\n",
       "3024    <gurobi.Var enroll_probability[3024] (value 0....\n",
       "4340    <gurobi.Var enroll_probability[4340] (value 0....\n",
       "2015    <gurobi.Var enroll_probability[2015] (value 0....\n",
       "2944    <gurobi.Var enroll_probability[2944] (value 0....\n",
       "303      <gurobi.Var enroll_probability[303] (value 1.0)>\n",
       "2931    <gurobi.Var enroll_probability[2931] (value 1.0)>\n",
       "4858    <gurobi.Var enroll_probability[4858] (value 0.0)>\n",
       "835     <gurobi.Var enroll_probability[835] (value 0.9...\n",
       "3110    <gurobi.Var enroll_probability[3110] (value 0....\n",
       "506     <gurobi.Var enroll_probability[506] (value 0.9...\n",
       "3641    <gurobi.Var enroll_probability[3641] (value 0....\n",
       "3798    <gurobi.Var enroll_probability[3798] (value 2....\n",
       "4562    <gurobi.Var enroll_probability[4562] (value 1....\n",
       "4161    <gurobi.Var enroll_probability[4161] (value 0....\n",
       "719      <gurobi.Var enroll_probability[719] (value 0.0)>\n",
       "2871    <gurobi.Var enroll_probability[2871] (value 4....\n",
       "122     <gurobi.Var enroll_probability[122] (value 2.6...\n",
       "1728    <gurobi.Var enroll_probability[1728] (value 1.0)>\n",
       "5650    <gurobi.Var enroll_probability[5650] (value 1.0)>\n",
       "Name: enroll_probability, dtype: object"
      ]
     },
     "execution_count": 53,
     "metadata": {},
     "output_type": "execute_result"
    }
   ],
   "source": [
    "y"
   ]
  },
  {
   "cell_type": "code",
   "execution_count": 54,
   "id": "3921d4fd-d05b-41ce-9336-821a85403561",
   "metadata": {},
   "outputs": [
    {
     "data": {
      "text/plain": [
       "<gurobi.Var merit[4836] (value 0.0)>"
      ]
     },
     "execution_count": 54,
     "metadata": {},
     "output_type": "execute_result"
    }
   ],
   "source": [
    "x.iloc[0]"
   ]
  },
  {
   "cell_type": "code",
   "execution_count": 55,
   "id": "9fd16971-a1b2-44df-8ad3-c528bc9b2ed1",
   "metadata": {},
   "outputs": [
    {
     "data": {
      "text/plain": [
       "<gurobi.Var enroll_probability[4836] (value 1.0)>"
      ]
     },
     "execution_count": 55,
     "metadata": {},
     "output_type": "execute_result"
    }
   ],
   "source": [
    "y.iloc[0]"
   ]
  },
  {
   "cell_type": "code",
   "execution_count": 56,
   "id": "30106246-4acd-43d9-b3b3-982856594a48",
   "metadata": {},
   "outputs": [
    {
     "data": {
      "text/plain": [
       "1.0"
      ]
     },
     "execution_count": 56,
     "metadata": {},
     "output_type": "execute_result"
    }
   ],
   "source": [
    "# obtener un valor individual de las variables de decisión\n",
    "y.iloc[0].X"
   ]
  },
  {
   "cell_type": "code",
   "execution_count": 57,
   "id": "3e305294-a589-4102-9882-a78216fb7bb9",
   "metadata": {},
   "outputs": [
    {
     "data": {
      "text/plain": [
       "0.0"
      ]
     },
     "execution_count": 57,
     "metadata": {},
     "output_type": "execute_result"
    }
   ],
   "source": [
    "# obtener un valor individual de las variables de decisión\n",
    "x.iloc[0].X"
   ]
  },
  {
   "cell_type": "code",
   "execution_count": 58,
   "id": "98f03a96-aa5f-41c5-a32a-c8ee1d09fb92",
   "metadata": {},
   "outputs": [
    {
     "data": {
      "text/plain": [
       "[0.0,\n",
       " 0.16221910203573806,\n",
       " 0.0,\n",
       " 0.0,\n",
       " 1.979030581633623e-06,\n",
       " 1.622341085472101e-06,\n",
       " 1.2919268601660456,\n",
       " 1.5564836038620968,\n",
       " 0.0,\n",
       " 0.5164409080153809,\n",
       " 0.0,\n",
       " 0.0,\n",
       " 1.6223397132364425e-06,\n",
       " 3.275489109388907e-06,\n",
       " 3.6621502280675955e-06,\n",
       " 5.304745513801112e-06,\n",
       " 0.21358565878357477,\n",
       " 1.6596229530652096e-06,\n",
       " 1.6486824365724573e-06,\n",
       " 1.259311234513063,\n",
       " 1.6223397518722038e-06,\n",
       " 1.6226804668839634e-06,\n",
       " 1.6223417453886668e-06,\n",
       " 0.0,\n",
       " 0.0]"
      ]
     },
     "execution_count": 58,
     "metadata": {},
     "output_type": "execute_result"
    }
   ],
   "source": [
    "# obtener valores desde un for\n",
    "x_values = []\n",
    "for index in range(x.shape[0]):\n",
    "  x_values.append(x.iloc[index].X)\n",
    "\n",
    "x_values"
   ]
  },
  {
   "cell_type": "code",
   "execution_count": 59,
   "id": "049a9888-8d02-4d8e-abb2-da6544ee6dea",
   "metadata": {},
   "outputs": [
    {
     "name": "stdout",
     "output_type": "stream",
     "text": [
      "Optimal objective value: 15.942735828453836\n"
     ]
    }
   ],
   "source": [
    "print(f\"Optimal objective value: {m.objVal}\")"
   ]
  },
  {
   "cell_type": "code",
   "execution_count": 60,
   "id": "e7b164a5-c6fd-49d0-a461-448f7e0c8a3c",
   "metadata": {},
   "outputs": [
    {
     "data": {
      "text/plain": [
       "StudentID\n",
       "4836    0.000000\n",
       "104     0.162219\n",
       "3926    0.000000\n",
       "218     0.000000\n",
       "2480    0.000002\n",
       "1781    0.000002\n",
       "3024    1.291927\n",
       "4340    1.556484\n",
       "2015    0.000000\n",
       "2944    0.516441\n",
       "303     0.000000\n",
       "2931    0.000000\n",
       "4858    0.000002\n",
       "835     0.000003\n",
       "3110    0.000004\n",
       "506     0.000005\n",
       "3641    0.213586\n",
       "3798    0.000002\n",
       "4562    0.000002\n",
       "4161    1.259311\n",
       "719     0.000002\n",
       "2871    0.000002\n",
       "122     0.000002\n",
       "1728    0.000000\n",
       "5650    0.000000\n",
       "Name: merit, dtype: float64"
      ]
     },
     "execution_count": 60,
     "metadata": {},
     "output_type": "execute_result"
    }
   ],
   "source": [
    "# # para obtener los valores de la variable de decisión como serie de pandas bien ----> AL FINAL ESTA ES LA MEJOR FORMA PARA OBTENER LOS VALORES\n",
    "# DE LAS VARIABLES DE DECISIÓN DEL MODELO DE OPTIMIZACIÓN\n",
    "x.gppd.X"
   ]
  },
  {
   "cell_type": "code",
   "execution_count": null,
   "id": "e1f85bc5-1735-4768-9617-cfc0b975ecc4",
   "metadata": {},
   "outputs": [],
   "source": []
  },
  {
   "cell_type": "code",
   "execution_count": null,
   "id": "d7eff490-e911-474d-a159-072d146205c9",
   "metadata": {},
   "outputs": [],
   "source": []
  }
 ],
 "metadata": {
  "kernelspec": {
   "display_name": "Python 3 (ipykernel)",
   "language": "python",
   "name": "python3"
  },
  "language_info": {
   "codemirror_mode": {
    "name": "ipython",
    "version": 3
   },
   "file_extension": ".py",
   "mimetype": "text/x-python",
   "name": "python",
   "nbconvert_exporter": "python",
   "pygments_lexer": "ipython3",
   "version": "3.10.12"
  }
 },
 "nbformat": 4,
 "nbformat_minor": 5
}
