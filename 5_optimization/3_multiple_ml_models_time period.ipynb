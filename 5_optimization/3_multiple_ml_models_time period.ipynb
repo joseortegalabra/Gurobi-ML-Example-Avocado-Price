{
 "cells": [
  {
   "cell_type": "markdown",
   "id": "ec518247-2417-4eb6-bbde-41b6d6d3bc2a",
   "metadata": {},
   "source": [
    "# Gurobi optimization using multiple machine learning models\n",
    "## Optimize for Price and Supply of Avocados - time horizon\n",
    "\n",
    "THIS IS THE SAME OPTIMIZATION PROBLEM OF NOTEBOOK 2 BUT WITH THE DIFFERENCE TO CONSIDERING A TIME HORIZON PLANNING. SO OPTIMIZATION PROBLEM IS RE DEFINED TO ADD TIME BUT THE MACHINE LEARNINGS MODELS OF NOTEBOOKS 2 ARE THE SAME.\n",
    "**SO, The ml models predict to one time horizon (and it is the same of notebook 2), but the optimization model consider the time horizon**"
   ]
  },
  {
   "cell_type": "markdown",
   "id": "21836f43-aec3-40bd-aab3-0ee783e92ce1",
   "metadata": {},
   "source": [
    "**DOCUMENTATION**\n",
    "- In this example there multiple linear regressions, but gurobi machine learning acept multiple models. Documentation **\"gurobi-machinelearning\"**\n",
    "\n",
    "https://gurobi-machinelearning.readthedocs.io/en/stable/api.html\n",
    "\n",
    "\n",
    "- In addition, to define the decision variables, parameters, restriction, etc of the optimization model are used **\"gurobipy-pandas\"**. Using this package is possible define the optimization model using pandas DataFrames\n",
    "\n",
    "https://gurobipy-pandas.readthedocs.io/en/stable/"
   ]
  },
  {
   "cell_type": "code",
   "execution_count": 1,
   "id": "f13dc83a-84fa-43c6-a95f-9950d3f5f061",
   "metadata": {},
   "outputs": [],
   "source": [
    "import pickle\n",
    "import pandas as pd\n",
    "import numpy as np\n",
    "\n",
    "#gurobi\n",
    "import gurobipy_pandas as gppd\n",
    "from gurobi_ml import add_predictor_constr\n",
    "import gurobipy as gp"
   ]
  },
  {
   "cell_type": "code",
   "execution_count": null,
   "id": "fe000d94-8818-46fa-aad1-8f4ec76e9877",
   "metadata": {},
   "outputs": [],
   "source": []
  },
  {
   "cell_type": "markdown",
   "id": "d81b8287-8b66-4e5d-b1c1-a8bbc8c3a3f4",
   "metadata": {},
   "source": [
    "### 0. Root repo"
   ]
  },
  {
   "cell_type": "code",
   "execution_count": 2,
   "id": "00faa458-a860-4445-84c0-2d7eb32102b9",
   "metadata": {},
   "outputs": [
    {
     "name": "stdout",
     "output_type": "stream",
     "text": [
      "root path:  D:\\github-mi-repo\\Examples-Gurobi-ML\n"
     ]
    }
   ],
   "source": [
    "import os\n",
    "# fix root path to save outputs\n",
    "actual_path = os.path.abspath(os.getcwd())\n",
    "list_root_path = actual_path.split('\\\\')[:-1]\n",
    "root_path = '\\\\'.join(list_root_path)\n",
    "os.chdir(root_path)\n",
    "print('root path: ', root_path)"
   ]
  },
  {
   "cell_type": "code",
   "execution_count": null,
   "id": "699469b7-d017-4df8-9339-ddd7c6c9f508",
   "metadata": {},
   "outputs": [],
   "source": []
  },
  {
   "cell_type": "markdown",
   "id": "a88d5cfa-efee-436f-9f30-696a23517824",
   "metadata": {},
   "source": [
    "## PREPARATION"
   ]
  },
  {
   "cell_type": "markdown",
   "id": "9279de0e-974a-4aff-9967-3e3e3554791e",
   "metadata": {},
   "source": [
    "### 1. Load data needs to use\n",
    "In this example data is loaded because it is necesary to generate parameters of optimization model\n",
    "\n",
    "IMPORTANT: the data is defined to each region but in one unique time interval, but now the optimization problem is defined to multi time optimization, so for this example, it assume that the data is the same in all times"
   ]
  },
  {
   "cell_type": "code",
   "execution_count": 3,
   "id": "4878f497-6db5-4101-b237-d15d80614ea2",
   "metadata": {},
   "outputs": [],
   "source": [
    "# read data that have all the units sold for each region\n",
    "path_data_basic_features = 'artifacts/data/data_basic_features.pkl'\n",
    "data_units_sold = pd.read_pickle(path_data_basic_features)"
   ]
  },
  {
   "cell_type": "code",
   "execution_count": 4,
   "id": "64d13119-ce3c-45f0-92ef-b224afa0448d",
   "metadata": {},
   "outputs": [],
   "source": [
    "##### use data to generate parameters for optimization model\n",
    "\n",
    "# min, max deliry each region\n",
    "data_min_delivery_mean = data_units_sold.groupby(\"region\")[\"units_sold\"].min().rename('min_delivery')\n",
    "data_max_delivery_mean = data_units_sold.groupby(\"region\")[\"units_sold\"].max().rename('max_delivery')\n",
    "\n",
    "# historical distribution of price each region\n",
    "data_historical_max_price = data_units_sold.groupby(\"region\")[\"price\"].max().rename('max_price')"
   ]
  },
  {
   "cell_type": "code",
   "execution_count": 5,
   "id": "f1bfd27f-ea50-4abb-b5e5-3e3a146184b6",
   "metadata": {},
   "outputs": [
    {
     "data": {
      "text/plain": [
       "region\n",
       "Great_Lakes             2.063574\n",
       "Midsouth                1.845443\n",
       "Northeast               2.364424\n",
       "Northern_New_England    0.219690\n",
       "Plains                  1.058938\n",
       "SouthCentral            3.687130\n",
       "Southeast               2.197764\n",
       "West                    3.260102\n",
       "Name: min_delivery, dtype: float64"
      ]
     },
     "execution_count": 5,
     "metadata": {},
     "output_type": "execute_result"
    }
   ],
   "source": [
    "data_min_delivery_mean"
   ]
  },
  {
   "cell_type": "code",
   "execution_count": 6,
   "id": "70c3fda4-4d5d-44d5-975b-0cccdff1390a",
   "metadata": {},
   "outputs": [
    {
     "data": {
      "text/plain": [
       "region\n",
       "Great_Lakes             1.980000\n",
       "Midsouth                1.720000\n",
       "Northeast               1.750000\n",
       "Northern_New_England    1.880000\n",
       "Plains                  1.810000\n",
       "SouthCentral            1.366446\n",
       "Southeast               1.820000\n",
       "West                    1.648013\n",
       "Name: max_price, dtype: float64"
      ]
     },
     "execution_count": 6,
     "metadata": {},
     "output_type": "execute_result"
    }
   ],
   "source": [
    "data_historical_max_price"
   ]
  },
  {
   "cell_type": "code",
   "execution_count": null,
   "id": "305bdc72-039b-475e-991a-605b7277a6d8",
   "metadata": {},
   "outputs": [],
   "source": []
  },
  {
   "cell_type": "code",
   "execution_count": null,
   "id": "2b34d060-e03e-41e5-bb14-b914d886d121",
   "metadata": {},
   "outputs": [],
   "source": []
  },
  {
   "cell_type": "markdown",
   "id": "dad1fc4c-2849-4383-a5c5-13ab26ceb5e5",
   "metadata": {},
   "source": [
    "### 2. Load model machine learning\n",
    "Load models that given an input (price of each regions and other features) predict the price (One different model to predict the price of each region)\n",
    "\n",
    "The model was trained in the notebook \"models/5_prices_regions_multiple_lr\""
   ]
  },
  {
   "cell_type": "code",
   "execution_count": 7,
   "id": "561f5640-ebbe-46ef-8255-0afab5472be2",
   "metadata": {},
   "outputs": [],
   "source": [
    "# params\n",
    "\n",
    "# path folder models\n",
    "path_folder_artifacts = 'artifacts/models/5_prices_regions_multiple_lr/'\n",
    "\n",
    "# list models names \"model_name\".pkl\n",
    "list_models_names = ['Great_Lakes', 'Midsouth', 'Northeast', 'Northeast', 'Northern_New_England', \\\n",
    "                     'Plains', 'SouthCentral', 'Southeast', 'West']"
   ]
  },
  {
   "cell_type": "code",
   "execution_count": 8,
   "id": "aa36bff9-b30a-4eb2-a2cf-e4126e55009b",
   "metadata": {},
   "outputs": [
    {
     "name": "stdout",
     "output_type": "stream",
     "text": [
      "loading model: Great_Lakes\n",
      "loading model: Midsouth\n",
      "loading model: Northeast\n",
      "loading model: Northeast\n",
      "loading model: Northern_New_England\n",
      "loading model: Plains\n",
      "loading model: SouthCentral\n",
      "loading model: Southeast\n",
      "loading model: West\n"
     ]
    }
   ],
   "source": [
    "### load models\n",
    "dict_models = {}\n",
    "for model_name in list_models_names:\n",
    "    print(f'loading model: {model_name}')\n",
    "    path_model = path_folder_artifacts + f'model_{model_name}.pkl'\n",
    "    with open(path_model, 'rb') as artifact:\n",
    "        dict_models[model_name] = pickle.load(artifact)"
   ]
  },
  {
   "cell_type": "code",
   "execution_count": null,
   "id": "4690f1f7-8675-4c81-b297-f8935dd661cb",
   "metadata": {},
   "outputs": [],
   "source": []
  },
  {
   "cell_type": "code",
   "execution_count": null,
   "id": "cbeba7b5-9d88-4b1f-a8f3-8b49a03212d2",
   "metadata": {},
   "outputs": [],
   "source": []
  },
  {
   "cell_type": "markdown",
   "id": "dec2d181-1424-455f-b7a1-2b35ad47fbfa",
   "metadata": {},
   "source": [
    "## RUN OPTIMIZATION"
   ]
  },
  {
   "cell_type": "markdown",
   "id": "03bcf94f-2240-4a7a-a6d4-76d869e86a19",
   "metadata": {},
   "source": [
    "### 0. Load transversal params - sets of optimization model\n",
    "Transversal all codes, not only this code. For example order in features in the data.\n",
    "\n",
    "Save the sets of optimization model as pandas index"
   ]
  },
  {
   "cell_type": "markdown",
   "id": "01a7ddea-0f61-4e47-b27f-70e22123191a",
   "metadata": {},
   "source": [
    "#### Define sets \n",
    "Ouput pandas index with the values of each set"
   ]
  },
  {
   "cell_type": "code",
   "execution_count": 9,
   "id": "ffa9b403-6e71-4863-a887-9b8ff4a2fdb1",
   "metadata": {},
   "outputs": [
    {
     "data": {
      "text/plain": [
       "Index(['Great_Lakes', 'Midsouth', 'Northeast', 'Northern_New_England',\n",
       "       'Plains', 'SouthCentral', 'Southeast', 'West'],\n",
       "      dtype='object')"
      ]
     },
     "execution_count": 9,
     "metadata": {},
     "output_type": "execute_result"
    }
   ],
   "source": [
    "############## set regions - index pandas ##############\n",
    "\n",
    "# generate a pandas index with the values of the regions. This works as sets of optimization model\n",
    "list_regions = ['Great_Lakes', 'Midsouth', 'Northeast', 'Northern_New_England', 'Plains', 'SouthCentral', 'Southeast', 'West']\n",
    "regions = list_regions\n",
    "\n",
    "# index pandas region\n",
    "index_regions = pd.Index(regions)\n",
    "index_regions"
   ]
  },
  {
   "cell_type": "code",
   "execution_count": 10,
   "id": "c3f7bd84-3fd6-4fa3-a062-6f1954b52e15",
   "metadata": {},
   "outputs": [
    {
     "data": {
      "text/plain": [
       "Index(['t1', 't2', 't3', 't4', 't5'], dtype='object')"
      ]
     },
     "execution_count": 10,
     "metadata": {},
     "output_type": "execute_result"
    }
   ],
   "source": [
    "############## set time - index pandas ##############\n",
    "\n",
    "# generate a pandas index with time horizon planning\n",
    "time_horizon_planning = ['t1', 't2', 't3', 't4', 't5']\n",
    "\n",
    "# index pandas time\n",
    "index_time = pd.Index(time_horizon_planning)\n",
    "index_time"
   ]
  },
  {
   "cell_type": "code",
   "execution_count": 11,
   "id": "89414dc5-284f-40e7-916d-55073516e382",
   "metadata": {},
   "outputs": [
    {
     "data": {
      "text/plain": [
       "MultiIndex([(         'Great_Lakes', 't1'),\n",
       "            (         'Great_Lakes', 't2'),\n",
       "            (         'Great_Lakes', 't3'),\n",
       "            (         'Great_Lakes', 't4'),\n",
       "            (         'Great_Lakes', 't5'),\n",
       "            (            'Midsouth', 't1'),\n",
       "            (            'Midsouth', 't2'),\n",
       "            (            'Midsouth', 't3'),\n",
       "            (            'Midsouth', 't4'),\n",
       "            (            'Midsouth', 't5'),\n",
       "            (           'Northeast', 't1'),\n",
       "            (           'Northeast', 't2'),\n",
       "            (           'Northeast', 't3'),\n",
       "            (           'Northeast', 't4'),\n",
       "            (           'Northeast', 't5'),\n",
       "            ('Northern_New_England', 't1'),\n",
       "            ('Northern_New_England', 't2'),\n",
       "            ('Northern_New_England', 't3'),\n",
       "            ('Northern_New_England', 't4'),\n",
       "            ('Northern_New_England', 't5'),\n",
       "            (              'Plains', 't1'),\n",
       "            (              'Plains', 't2'),\n",
       "            (              'Plains', 't3'),\n",
       "            (              'Plains', 't4'),\n",
       "            (              'Plains', 't5'),\n",
       "            (        'SouthCentral', 't1'),\n",
       "            (        'SouthCentral', 't2'),\n",
       "            (        'SouthCentral', 't3'),\n",
       "            (        'SouthCentral', 't4'),\n",
       "            (        'SouthCentral', 't5'),\n",
       "            (           'Southeast', 't1'),\n",
       "            (           'Southeast', 't2'),\n",
       "            (           'Southeast', 't3'),\n",
       "            (           'Southeast', 't4'),\n",
       "            (           'Southeast', 't5'),\n",
       "            (                'West', 't1'),\n",
       "            (                'West', 't2'),\n",
       "            (                'West', 't3'),\n",
       "            (                'West', 't4'),\n",
       "            (                'West', 't5')],\n",
       "           names=['region', 'time'])"
      ]
     },
     "execution_count": 11,
     "metadata": {},
     "output_type": "execute_result"
    }
   ],
   "source": [
    "############## multi set region&time - index pandas ##############\n",
    "\n",
    "#index pandas multiindex region-time\n",
    "index_region_time = pd.MultiIndex.from_product((regions, time_horizon_planning), \n",
    "                                               names = ('region', 'time')\n",
    "                                              )\n",
    "index_region_time"
   ]
  },
  {
   "cell_type": "code",
   "execution_count": null,
   "id": "29b6fc29-0c76-4a7d-8072-0a33d5088a22",
   "metadata": {},
   "outputs": [],
   "source": []
  },
  {
   "cell_type": "code",
   "execution_count": null,
   "id": "b1d5a59b-d938-4e9d-9e46-ff0081d23ee1",
   "metadata": {},
   "outputs": [],
   "source": []
  },
  {
   "cell_type": "markdown",
   "id": "3857e7c6-5f08-4220-a4a3-571f29ee9ab1",
   "metadata": {},
   "source": [
    "### 1. Create guroby optimization model\n",
    "Documentation: https://www.gurobi.com/documentation/current/refman/py_model.html"
   ]
  },
  {
   "cell_type": "code",
   "execution_count": 12,
   "id": "d0be0947-0bd6-4f6b-8f12-a9bd8c2ca3ef",
   "metadata": {},
   "outputs": [
    {
     "name": "stdout",
     "output_type": "stream",
     "text": [
      "Restricted license - for non-production use only - expires 2025-11-24\n"
     ]
    }
   ],
   "source": [
    "# env = gp.Env(params=params)\n",
    "\n",
    "#Create the model within the Gurobi environment\n",
    "model_opt = gp.Model(name = \"Avocado_Price_Allocation_time_horizon\")"
   ]
  },
  {
   "cell_type": "code",
   "execution_count": null,
   "id": "bdd2ced3-f0fc-45cb-9937-e13280af8a48",
   "metadata": {},
   "outputs": [],
   "source": []
  },
  {
   "cell_type": "markdown",
   "id": "97dec9f4-559b-40dd-98a7-4e4e9fa29cf0",
   "metadata": {},
   "source": [
    "### 2. Upper bounds and lower bounds of decision variables\n",
    "Values that are boundss in decision variables. In gurobi the upper and lower boundss could be defined in the same moment that variables are created and not are defined as restrictions explicitly \n",
    "\n",
    "- $a_{min},a_{max}$: minimum and maximum price ($\\$$) per avocado (price is a input of machine learning model)\n",
    "- $b^r_{min},b^r_{max}$: minimum and maximum number of avocados allocated to region $r$"
   ]
  },
  {
   "cell_type": "code",
   "execution_count": 35,
   "id": "29d7894e-3713-4894-ad04-9a9d34935291",
   "metadata": {},
   "outputs": [],
   "source": [
    "# a_min, a_max: min and max price of product A. \n",
    "# IMPORTANT IF A UNIQUE VALUE IS DEFINED, GUROBI ADAPT THE VALUE TO THE FORMAT OF VARIABLE (repeat value if the decision variable is defined to one set or multiple sets)\n",
    "a_min = 0\n",
    "a_max = 2\n",
    "\n",
    "\n",
    "# IMPORTANT THE DATA IS DEFINED TO SET \"regions\", but the decision variable has sets \"regions\" and \"time\". REPLICATE THE VALUE FOR EACH TIME\n",
    "# b_min(r), b_max(r): min and max historical products send to each region (value get from historical data)\n",
    "b_min = data_min_delivery_mean\n",
    "b_max = data_max_delivery_mean\n",
    "\n",
    "# transform into bounds for decision variable with indexes 2 sets (regio  and time)\n",
    "b_min_time = pd.Series(index = index_region_time, name = 'min_delivery')\n",
    "for region in regions:\n",
    "    for time_horizon in time_horizon_planning:\n",
    "        b_min_time.loc[region] = b_min.loc[region]\n",
    "\n",
    "b_max_time = pd.Series(index = index_region_time, name = 'max_delivery')\n",
    "for region in regions:\n",
    "    for time_horizon in time_horizon_planning:\n",
    "        b_max_time.loc[region] = b_max.loc[region]"
   ]
  },
  {
   "cell_type": "code",
   "execution_count": 36,
   "id": "a1157c72-5737-40db-b9c2-12f22dbaeb01",
   "metadata": {},
   "outputs": [
    {
     "data": {
      "text/plain": [
       "0"
      ]
     },
     "execution_count": 36,
     "metadata": {},
     "output_type": "execute_result"
    }
   ],
   "source": [
    "# show lower bound - if the limitd is defined as scalar, gurobi can repeated in the decision variable for each sets\n",
    "a_min"
   ]
  },
  {
   "cell_type": "code",
   "execution_count": 37,
   "id": "4249291b-cbd7-4b4e-97e0-d7746525a300",
   "metadata": {},
   "outputs": [
    {
     "data": {
      "text/plain": [
       "region                time\n",
       "Great_Lakes           t1      2.063574\n",
       "                      t2      2.063574\n",
       "                      t3      2.063574\n",
       "                      t4      2.063574\n",
       "                      t5      2.063574\n",
       "Midsouth              t1      1.845443\n",
       "                      t2      1.845443\n",
       "                      t3      1.845443\n",
       "                      t4      1.845443\n",
       "                      t5      1.845443\n",
       "Northeast             t1      2.364424\n",
       "                      t2      2.364424\n",
       "                      t3      2.364424\n",
       "                      t4      2.364424\n",
       "                      t5      2.364424\n",
       "Northern_New_England  t1      0.219690\n",
       "                      t2      0.219690\n",
       "                      t3      0.219690\n",
       "                      t4      0.219690\n",
       "                      t5      0.219690\n",
       "Plains                t1      1.058938\n",
       "                      t2      1.058938\n",
       "                      t3      1.058938\n",
       "                      t4      1.058938\n",
       "                      t5      1.058938\n",
       "SouthCentral          t1      3.687130\n",
       "                      t2      3.687130\n",
       "                      t3      3.687130\n",
       "                      t4      3.687130\n",
       "                      t5      3.687130\n",
       "Southeast             t1      2.197764\n",
       "                      t2      2.197764\n",
       "                      t3      2.197764\n",
       "                      t4      2.197764\n",
       "                      t5      2.197764\n",
       "West                  t1      3.260102\n",
       "                      t2      3.260102\n",
       "                      t3      3.260102\n",
       "                      t4      3.260102\n",
       "                      t5      3.260102\n",
       "Name: min_delivery, dtype: float64"
      ]
     },
     "execution_count": 37,
     "metadata": {},
     "output_type": "execute_result"
    }
   ],
   "source": [
    "# show lower bound - if the limit is defined as a vector, its dimensions needs to be the same as the dimensions of decision variable\n",
    "b_min_time"
   ]
  },
  {
   "cell_type": "code",
   "execution_count": 38,
   "id": "d1f09682-e201-4768-8c6a-50d4ee25777b",
   "metadata": {},
   "outputs": [
    {
     "data": {
      "text/plain": [
       "region                time\n",
       "Great_Lakes           t1       7.094765\n",
       "                      t2       7.094765\n",
       "                      t3       7.094765\n",
       "                      t4       7.094765\n",
       "                      t5       7.094765\n",
       "Midsouth              t1       6.168572\n",
       "                      t2       6.168572\n",
       "                      t3       6.168572\n",
       "                      t4       6.168572\n",
       "                      t5       6.168572\n",
       "Northeast             t1       8.836406\n",
       "                      t2       8.836406\n",
       "                      t3       8.836406\n",
       "                      t4       8.836406\n",
       "                      t5       8.836406\n",
       "Northern_New_England  t1       0.917984\n",
       "                      t2       0.917984\n",
       "                      t3       0.917984\n",
       "                      t4       0.917984\n",
       "                      t5       0.917984\n",
       "Plains                t1       3.575499\n",
       "                      t2       3.575499\n",
       "                      t3       3.575499\n",
       "                      t4       3.575499\n",
       "                      t5       3.575499\n",
       "SouthCentral          t1      10.323175\n",
       "                      t2      10.323175\n",
       "                      t3      10.323175\n",
       "                      t4      10.323175\n",
       "                      t5      10.323175\n",
       "Southeast             t1       7.810475\n",
       "                      t2       7.810475\n",
       "                      t3       7.810475\n",
       "                      t4       7.810475\n",
       "                      t5       7.810475\n",
       "West                  t1      11.274749\n",
       "                      t2      11.274749\n",
       "                      t3      11.274749\n",
       "                      t4      11.274749\n",
       "                      t5      11.274749\n",
       "Name: max_delivery, dtype: float64"
      ]
     },
     "execution_count": 38,
     "metadata": {},
     "output_type": "execute_result"
    }
   ],
   "source": [
    "b_max_time"
   ]
  },
  {
   "cell_type": "code",
   "execution_count": null,
   "id": "6b1de9a1-83b6-4304-ac16-957c41e7f71c",
   "metadata": {},
   "outputs": [],
   "source": []
  },
  {
   "cell_type": "markdown",
   "id": "71476d65-cbb9-4c58-8fbf-48c6bc0a6bae",
   "metadata": {},
   "source": [
    "### 3. Input parameters of optimization model\n",
    "##### That are not decision variables either parameters of machine learning model)\n",
    "\n",
    "**Set**\n",
    "- $r$ : will be used to denote each region\n",
    "\n",
    "\n",
    "**Parameters Optimization Model**\n",
    "- $B (t)$: available avocados to be distributed across the regions.Total amount of avocado supply. The amount change between periods (t)\n",
    "\n",
    "- $c_{waste}$: cost ($\\$$) per wasted avocado\n",
    "\n",
    "- $c^r_{transport}$: cost ($\\$$) of transporting a avocado to region $r$"
   ]
  },
  {
   "cell_type": "code",
   "execution_count": 16,
   "id": "99fa181c-08e1-4a07-a0a6-85ecffcbf27b",
   "metadata": {},
   "outputs": [],
   "source": [
    "# B: supply product\n",
    "B_time = pd.Series(\n",
    "    {\n",
    "        \"t1\": 30,\n",
    "        \"t2\": 25,\n",
    "        \"t3\": 30,\n",
    "        \"t4\": 35,\n",
    "        \"t5\": 40,\n",
    "    }, name = 'supply')\n",
    "B_time = B_time.loc[time_horizon_planning]\n",
    "\n",
    "# c_waste: cost of waste product\n",
    "c_waste = 0.1\n",
    "\n",
    "\n",
    "# c_transport(r): cost transport for each region\n",
    "c_transport = pd.Series(\n",
    "    {\n",
    "        \"Great_Lakes\": 0.3,\n",
    "        \"Midsouth\": 0.1,\n",
    "        \"Northeast\": 0.4,\n",
    "        \"Northern_New_England\": 0.5,\n",
    "        \"SouthCentral\": 0.3,\n",
    "        \"Southeast\": 0.2,\n",
    "        \"West\": 0.2,\n",
    "        \"Plains\": 0.2,\n",
    "    }, name='transport_cost')\n",
    "c_transport = c_transport.loc[regions]"
   ]
  },
  {
   "cell_type": "code",
   "execution_count": null,
   "id": "16a088e4-c72f-4323-a453-47e8a12f5564",
   "metadata": {},
   "outputs": [],
   "source": []
  },
  {
   "cell_type": "markdown",
   "id": "c11376a0-0796-4e1c-9c56-5f89e6cbc283",
   "metadata": {},
   "source": [
    "### 4. Features input machine learning model fixed (that are not decision variables or parameters in optimization model)\n",
    "Define the features that are inputs of machine learning model that are not decision variables of optimization model (so this values doesn't change). And also, this features that are not parameters of optimization model, so this values are not used in the restrictions"
   ]
  },
  {
   "cell_type": "code",
   "execution_count": 17,
   "id": "82268367-4e18-4ae7-9eb7-ea827037e9fe",
   "metadata": {},
   "outputs": [
    {
     "data": {
      "text/plain": [
       "0"
      ]
     },
     "execution_count": 17,
     "metadata": {},
     "output_type": "execute_result"
    }
   ],
   "source": [
    "# seasonality: 1 if it is the peak season; 0 if isn't\n",
    "peak_or_not = 0\n",
    "peak_or_not"
   ]
  },
  {
   "cell_type": "code",
   "execution_count": 18,
   "id": "4c68c568-3be9-4aee-a29a-527a97c019c2",
   "metadata": {},
   "outputs": [
    {
     "data": {
      "text/plain": [
       "Index(['t1', 't2', 't3', 't4', 't5'], dtype='object')"
      ]
     },
     "execution_count": 18,
     "metadata": {},
     "output_type": "execute_result"
    }
   ],
   "source": [
    "index_time"
   ]
  },
  {
   "cell_type": "code",
   "execution_count": 19,
   "id": "615bf8fd-3999-403b-85da-4b84ba3d9de2",
   "metadata": {},
   "outputs": [
    {
     "data": {
      "text/html": [
       "<div>\n",
       "<style scoped>\n",
       "    .dataframe tbody tr th:only-of-type {\n",
       "        vertical-align: middle;\n",
       "    }\n",
       "\n",
       "    .dataframe tbody tr th {\n",
       "        vertical-align: top;\n",
       "    }\n",
       "\n",
       "    .dataframe thead th {\n",
       "        text-align: right;\n",
       "    }\n",
       "</style>\n",
       "<table border=\"1\" class=\"dataframe\">\n",
       "  <thead>\n",
       "    <tr style=\"text-align: right;\">\n",
       "      <th></th>\n",
       "      <th>peak</th>\n",
       "    </tr>\n",
       "  </thead>\n",
       "  <tbody>\n",
       "    <tr>\n",
       "      <th>t1</th>\n",
       "      <td>0</td>\n",
       "    </tr>\n",
       "    <tr>\n",
       "      <th>t2</th>\n",
       "      <td>0</td>\n",
       "    </tr>\n",
       "    <tr>\n",
       "      <th>t3</th>\n",
       "      <td>0</td>\n",
       "    </tr>\n",
       "    <tr>\n",
       "      <th>t4</th>\n",
       "      <td>0</td>\n",
       "    </tr>\n",
       "    <tr>\n",
       "      <th>t5</th>\n",
       "      <td>0</td>\n",
       "    </tr>\n",
       "  </tbody>\n",
       "</table>\n",
       "</div>"
      ],
      "text/plain": [
       "    peak\n",
       "t1     0\n",
       "t2     0\n",
       "t3     0\n",
       "t4     0\n",
       "t5     0"
      ]
     },
     "execution_count": 19,
     "metadata": {},
     "output_type": "execute_result"
    }
   ],
   "source": [
    "# generate a dataframe with the \"fixed\" features of optimization model. \n",
    "# This is an instance of machine learning model. In this part only have the features that have fixed values for this optimization\n",
    "instance_ml_model = pd.DataFrame(\n",
    "    data={\n",
    "        \"peak\": peak_or_not\n",
    "    },\n",
    "    index=index_time\n",
    ")\n",
    "instance_ml_model"
   ]
  },
  {
   "cell_type": "markdown",
   "id": "e03f732d-f128-461c-b30d-2f6908fbcbad",
   "metadata": {},
   "source": [
    "### 5. Decision variables of optimization model\n",
    "\n",
    "Let us now define the decision variables. In our model, we want to store the price and number of avocados allocated to each region. We also want variables that track how many avocados are predicted to be sold and how many are predicted to be wasted. \n",
    "\n",
    "- $p(r, t)$ the price of an avocado ($\\$$) in each region in each time. The maxium price. It is a feature of machine learning model\n",
    "- $x(r, t)$ the number of avocados supplied to each region in each time\n",
    "- $s(r, t)$ the predicted number of avocados sold in each region in each time\n",
    "- $u(r, t)$ the predicted number of avocados unsold (wasted). (Inventory) in each region each time\n",
    "- $d(r, t)$ the predicted demand in each region in each time. It is the target of machine learning model (because this value change according the input, it is a decision variable)\n",
    "\n",
    "All those variables are created using gurobipy-pandas, with the function `gppd.add_vars`. To use this function it is necessary to define:\n",
    "- model: optimization model of gurobi\n",
    "- index: pandas index. With this index it can defined the sets of the decision variables\n",
    "- name: name of the decision variable\n",
    "- Example: x = gppd.add_vars(model, index, name=\"x\")"
   ]
  },
  {
   "cell_type": "code",
   "execution_count": 20,
   "id": "8145e863-8cc2-4492-b00d-2d0a48e97a4a",
   "metadata": {},
   "outputs": [],
   "source": [
    "# p(r): price. feature of machine learning model\n",
    "p = gppd.add_vars(model_opt, index_region_time, lb = a_min, ub = a_max, name = 'price') # bounds prices\n",
    "\n",
    "\n",
    "# x(r): supply\n",
    "x = gppd.add_vars(model_opt, index_region_time, lb = b_min_time, ub= b_max_time, name = 'supply') # bounds supply - using historical data\n",
    "\n",
    "\n",
    "# s(r): solds given a certain price\n",
    "s = gppd.add_vars(model_opt, index_region_time, name = \"solds\")\n",
    "\n",
    "\n",
    "# u(r): inventary. units not sold. waste.\n",
    "u = gppd.add_vars(model_opt, index_region_time, name = \"inventory\") \n",
    "\n",
    "\n",
    "# d(r): demand. output of machine learning model\n",
    "d = gppd.add_vars(model_opt, index_region_time, lb = -gp.GRB.INFINITY, name = \"demand_predicted\") # BY DEFULT LOWER BOUND IS ZERO\n",
    "\n"
   ]
  },
  {
   "cell_type": "code",
   "execution_count": null,
   "id": "346aad4d-8578-42ee-9de4-fb79d30af326",
   "metadata": {},
   "outputs": [],
   "source": []
  },
  {
   "cell_type": "markdown",
   "id": "6455507f-2965-48c4-adb4-338b1b80e6f3",
   "metadata": {},
   "source": [
    "### 6. Constraints (constraints that are not generated by a ml model)"
   ]
  },
  {
   "cell_type": "markdown",
   "id": "18b2d0d5-e11b-488e-ae0a-308d5cf2fa24",
   "metadata": {},
   "source": [
    "#### 6.1 Add the Supply Constraint\n",
    "Make sure that the total number of avocados supplied is equal to $B$\n",
    "\\begin{align*} \\sum_{r} x_r(t) &= B(t)        \\:\\:\\:\\:\\forall t \\end{align*} "
   ]
  },
  {
   "cell_type": "code",
   "execution_count": 21,
   "id": "8a4a1bc4-69a7-46eb-a3d7-c704aa92f8ce",
   "metadata": {},
   "outputs": [
    {
     "data": {
      "text/plain": [
       "t1    <gurobi.Constr *Awaiting Model Update*>\n",
       "t2    <gurobi.Constr *Awaiting Model Update*>\n",
       "t3    <gurobi.Constr *Awaiting Model Update*>\n",
       "t4    <gurobi.Constr *Awaiting Model Update*>\n",
       "t5    <gurobi.Constr *Awaiting Model Update*>\n",
       "Name: supply periods, dtype: object"
      ]
     },
     "execution_count": 21,
     "metadata": {},
     "output_type": "execute_result"
    }
   ],
   "source": [
    "# supply for each time\n",
    "\n",
    "gppd.add_constrs(model_opt, x.groupby('time').sum(), gp.GRB.EQUAL, B_time, name = 'supply periods')"
   ]
  },
  {
   "cell_type": "code",
   "execution_count": null,
   "id": "06254881-5a69-437e-8ce4-f96e5c886967",
   "metadata": {},
   "outputs": [],
   "source": []
  },
  {
   "cell_type": "markdown",
   "id": "f45578d8-a427-4732-9e7a-99877087cbd2",
   "metadata": {},
   "source": [
    "#### 6.2 Add Constraints That Define Sales Quantity\n",
    "The sales quantity is the minimum of the allocated quantity and the predicted demand, i.e., $s_r = \\min \\{x_r,d_r(p_r)\\}$ This relationship can be modeled by the following two constraints for each region $r$.\n",
    "\n",
    "\\begin{align*} s_r(t) &\\leq x_r(t)                \\:\\:\\:\\:\\forall r \\forall t\\\\\n",
    "s_r(t) &\\leq d(r)(t)                   \\:\\:\\:\\:\\forall r \\forall t\\end{align*}"
   ]
  },
  {
   "cell_type": "code",
   "execution_count": 22,
   "id": "956b018f-7d6a-431b-ac79-8d5dcde4a026",
   "metadata": {},
   "outputs": [
    {
     "data": {
      "text/plain": [
       "region                time\n",
       "Great_Lakes           t1      <gurobi.Constr *Awaiting Model Update*>\n",
       "                      t2      <gurobi.Constr *Awaiting Model Update*>\n",
       "                      t3      <gurobi.Constr *Awaiting Model Update*>\n",
       "                      t4      <gurobi.Constr *Awaiting Model Update*>\n",
       "                      t5      <gurobi.Constr *Awaiting Model Update*>\n",
       "Midsouth              t1      <gurobi.Constr *Awaiting Model Update*>\n",
       "                      t2      <gurobi.Constr *Awaiting Model Update*>\n",
       "                      t3      <gurobi.Constr *Awaiting Model Update*>\n",
       "                      t4      <gurobi.Constr *Awaiting Model Update*>\n",
       "                      t5      <gurobi.Constr *Awaiting Model Update*>\n",
       "Northeast             t1      <gurobi.Constr *Awaiting Model Update*>\n",
       "                      t2      <gurobi.Constr *Awaiting Model Update*>\n",
       "                      t3      <gurobi.Constr *Awaiting Model Update*>\n",
       "                      t4      <gurobi.Constr *Awaiting Model Update*>\n",
       "                      t5      <gurobi.Constr *Awaiting Model Update*>\n",
       "Northern_New_England  t1      <gurobi.Constr *Awaiting Model Update*>\n",
       "                      t2      <gurobi.Constr *Awaiting Model Update*>\n",
       "                      t3      <gurobi.Constr *Awaiting Model Update*>\n",
       "                      t4      <gurobi.Constr *Awaiting Model Update*>\n",
       "                      t5      <gurobi.Constr *Awaiting Model Update*>\n",
       "Plains                t1      <gurobi.Constr *Awaiting Model Update*>\n",
       "                      t2      <gurobi.Constr *Awaiting Model Update*>\n",
       "                      t3      <gurobi.Constr *Awaiting Model Update*>\n",
       "                      t4      <gurobi.Constr *Awaiting Model Update*>\n",
       "                      t5      <gurobi.Constr *Awaiting Model Update*>\n",
       "SouthCentral          t1      <gurobi.Constr *Awaiting Model Update*>\n",
       "                      t2      <gurobi.Constr *Awaiting Model Update*>\n",
       "                      t3      <gurobi.Constr *Awaiting Model Update*>\n",
       "                      t4      <gurobi.Constr *Awaiting Model Update*>\n",
       "                      t5      <gurobi.Constr *Awaiting Model Update*>\n",
       "Southeast             t1      <gurobi.Constr *Awaiting Model Update*>\n",
       "                      t2      <gurobi.Constr *Awaiting Model Update*>\n",
       "                      t3      <gurobi.Constr *Awaiting Model Update*>\n",
       "                      t4      <gurobi.Constr *Awaiting Model Update*>\n",
       "                      t5      <gurobi.Constr *Awaiting Model Update*>\n",
       "West                  t1      <gurobi.Constr *Awaiting Model Update*>\n",
       "                      t2      <gurobi.Constr *Awaiting Model Update*>\n",
       "                      t3      <gurobi.Constr *Awaiting Model Update*>\n",
       "                      t4      <gurobi.Constr *Awaiting Model Update*>\n",
       "                      t5      <gurobi.Constr *Awaiting Model Update*>\n",
       "Name: solds <= demand, dtype: object"
      ]
     },
     "execution_count": 22,
     "metadata": {},
     "output_type": "execute_result"
    }
   ],
   "source": [
    "gppd.add_constrs(model_opt, s, gp.GRB.LESS_EQUAL, x, name = 'solds <= supply') # for each region (8 constraints)\n",
    "gppd.add_constrs(model_opt, s, gp.GRB.LESS_EQUAL, d, name = 'solds <= demand')\n",
    "\n",
    "# add_constrs: write the constraint with left side, \"operator\", right side"
   ]
  },
  {
   "cell_type": "code",
   "execution_count": null,
   "id": "a6771182-3c75-4b2f-97a9-1da4d3be4f79",
   "metadata": {},
   "outputs": [],
   "source": []
  },
  {
   "cell_type": "markdown",
   "id": "d2b3f1c9-7df1-434c-af68-f2674687879a",
   "metadata": {},
   "source": [
    "#### 6.3 Add the Wastage Constraints\n",
    "Define the predicted unsold number of avocados in each region, given by the supplied quantity that is not sold. For each region $r$.\n",
    "\n",
    "\\begin{align*}\n",
    "u_r(t) &= x_r(t) - s_r(t)                 \\:\\:\\:\\:\\forall r \\forall t\n",
    "\\end{align*}"
   ]
  },
  {
   "cell_type": "code",
   "execution_count": 23,
   "id": "37157007-53d2-4a67-a49c-6650581bda74",
   "metadata": {},
   "outputs": [
    {
     "data": {
      "text/plain": [
       "region                time\n",
       "Great_Lakes           t1      <gurobi.Constr *Awaiting Model Update*>\n",
       "                      t2      <gurobi.Constr *Awaiting Model Update*>\n",
       "                      t3      <gurobi.Constr *Awaiting Model Update*>\n",
       "                      t4      <gurobi.Constr *Awaiting Model Update*>\n",
       "                      t5      <gurobi.Constr *Awaiting Model Update*>\n",
       "Midsouth              t1      <gurobi.Constr *Awaiting Model Update*>\n",
       "                      t2      <gurobi.Constr *Awaiting Model Update*>\n",
       "                      t3      <gurobi.Constr *Awaiting Model Update*>\n",
       "                      t4      <gurobi.Constr *Awaiting Model Update*>\n",
       "                      t5      <gurobi.Constr *Awaiting Model Update*>\n",
       "Northeast             t1      <gurobi.Constr *Awaiting Model Update*>\n",
       "                      t2      <gurobi.Constr *Awaiting Model Update*>\n",
       "                      t3      <gurobi.Constr *Awaiting Model Update*>\n",
       "                      t4      <gurobi.Constr *Awaiting Model Update*>\n",
       "                      t5      <gurobi.Constr *Awaiting Model Update*>\n",
       "Northern_New_England  t1      <gurobi.Constr *Awaiting Model Update*>\n",
       "                      t2      <gurobi.Constr *Awaiting Model Update*>\n",
       "                      t3      <gurobi.Constr *Awaiting Model Update*>\n",
       "                      t4      <gurobi.Constr *Awaiting Model Update*>\n",
       "                      t5      <gurobi.Constr *Awaiting Model Update*>\n",
       "Plains                t1      <gurobi.Constr *Awaiting Model Update*>\n",
       "                      t2      <gurobi.Constr *Awaiting Model Update*>\n",
       "                      t3      <gurobi.Constr *Awaiting Model Update*>\n",
       "                      t4      <gurobi.Constr *Awaiting Model Update*>\n",
       "                      t5      <gurobi.Constr *Awaiting Model Update*>\n",
       "SouthCentral          t1      <gurobi.Constr *Awaiting Model Update*>\n",
       "                      t2      <gurobi.Constr *Awaiting Model Update*>\n",
       "                      t3      <gurobi.Constr *Awaiting Model Update*>\n",
       "                      t4      <gurobi.Constr *Awaiting Model Update*>\n",
       "                      t5      <gurobi.Constr *Awaiting Model Update*>\n",
       "Southeast             t1      <gurobi.Constr *Awaiting Model Update*>\n",
       "                      t2      <gurobi.Constr *Awaiting Model Update*>\n",
       "                      t3      <gurobi.Constr *Awaiting Model Update*>\n",
       "                      t4      <gurobi.Constr *Awaiting Model Update*>\n",
       "                      t5      <gurobi.Constr *Awaiting Model Update*>\n",
       "West                  t1      <gurobi.Constr *Awaiting Model Update*>\n",
       "                      t2      <gurobi.Constr *Awaiting Model Update*>\n",
       "                      t3      <gurobi.Constr *Awaiting Model Update*>\n",
       "                      t4      <gurobi.Constr *Awaiting Model Update*>\n",
       "                      t5      <gurobi.Constr *Awaiting Model Update*>\n",
       "Name: waste, dtype: object"
      ]
     },
     "execution_count": 23,
     "metadata": {},
     "output_type": "execute_result"
    }
   ],
   "source": [
    "gppd.add_constrs(model_opt, u, gp.GRB.EQUAL, x - s, name = 'waste')"
   ]
  },
  {
   "cell_type": "code",
   "execution_count": null,
   "id": "2e755e38-8382-425c-ae80-41dd1293263d",
   "metadata": {},
   "outputs": [],
   "source": []
  },
  {
   "cell_type": "code",
   "execution_count": null,
   "id": "f8309027-548d-4406-bd8f-35ea150015d9",
   "metadata": {},
   "outputs": [],
   "source": []
  },
  {
   "cell_type": "markdown",
   "id": "a223323d-a948-4255-9f21-f1b11a76a054",
   "metadata": {},
   "source": [
    "#### 6.4 Model update - add the constraint to gurobi model"
   ]
  },
  {
   "cell_type": "code",
   "execution_count": 24,
   "id": "3a42b139-6af0-4749-a411-b18d792115b8",
   "metadata": {},
   "outputs": [],
   "source": [
    "model_opt.update()"
   ]
  },
  {
   "cell_type": "code",
   "execution_count": 25,
   "id": "95200646-690c-4ada-9ae7-29a7f7b2192c",
   "metadata": {},
   "outputs": [
    {
     "data": {
      "text/plain": [
       "region                time\n",
       "Great_Lakes           t1       7.094765\n",
       "                      t2       7.094765\n",
       "                      t3       7.094765\n",
       "                      t4       7.094765\n",
       "                      t5       7.094765\n",
       "Midsouth              t1       6.168572\n",
       "                      t2       6.168572\n",
       "                      t3       6.168572\n",
       "                      t4       6.168572\n",
       "                      t5       6.168572\n",
       "Northeast             t1       8.836406\n",
       "                      t2       8.836406\n",
       "                      t3       8.836406\n",
       "                      t4       8.836406\n",
       "                      t5       8.836406\n",
       "Northern_New_England  t1       0.917984\n",
       "                      t2       0.917984\n",
       "                      t3       0.917984\n",
       "                      t4       0.917984\n",
       "                      t5       0.917984\n",
       "Plains                t1       3.575499\n",
       "                      t2       3.575499\n",
       "                      t3       3.575499\n",
       "                      t4       3.575499\n",
       "                      t5       3.575499\n",
       "SouthCentral          t1      10.323175\n",
       "                      t2      10.323175\n",
       "                      t3      10.323175\n",
       "                      t4      10.323175\n",
       "                      t5      10.323175\n",
       "Southeast             t1       7.810475\n",
       "                      t2       7.810475\n",
       "                      t3       7.810475\n",
       "                      t4       7.810475\n",
       "                      t5       7.810475\n",
       "West                  t1      11.274749\n",
       "                      t2      11.274749\n",
       "                      t3      11.274749\n",
       "                      t4      11.274749\n",
       "                      t5      11.274749\n",
       "Name: supply, dtype: float64"
      ]
     },
     "execution_count": 25,
     "metadata": {},
     "output_type": "execute_result"
    }
   ],
   "source": [
    "### show all decision variables - debugging problems - validate after compile decision varaibles\n",
    "#x.gppd.VarName  # see name\n",
    "#x.gppd.ub # upper bound\n",
    "x.gppd.lb # lowe bound\n",
    "\n",
    "#p.gbpd.X # see value of decision variable - only works after optimization"
   ]
  },
  {
   "cell_type": "code",
   "execution_count": 26,
   "id": "055f4f61-466b-428a-9fcd-8633ede4404d",
   "metadata": {},
   "outputs": [
    {
     "data": {
      "text/plain": [
       "<gurobi.Model Continuous instance Avocado_Price_Allocation_time_horizon: 125 constrs, 200 vars, No parameter changes>"
      ]
     },
     "execution_count": 26,
     "metadata": {},
     "output_type": "execute_result"
    }
   ],
   "source": [
    "model_opt"
   ]
  },
  {
   "cell_type": "code",
   "execution_count": null,
   "id": "58c2fe27-37a1-46b2-952f-cfbe585d9ca6",
   "metadata": {},
   "outputs": [],
   "source": []
  },
  {
   "cell_type": "markdown",
   "id": "d00c9c20-5457-4875-bb44-558c4e010ea4",
   "metadata": {},
   "source": [
    "### 7. Add constraints that are machine learning models\n",
    "To add constraints that have machine learning models it is necessary define a dataframe that are the instance of prediction (it has columns as gurobi decision variables) and then create the constraint in gurobi.\n",
    "\n",
    "In this example, where each region has its own model, the dataframe instance also needs to be defined indidually. For the decision variable that are defined in the set \"regions\" it is important filter the dataframe instance with the correct element of the set region\n",
    "\n",
    "**So, for each element in set region will be defined the instance dataframe and a constraint. Each region has it own model**Also, the instance has only one row, so now it is possible define a optimization model with set \"time\" and each row of the dataframe could be the instance of time t, t+1, t+2, etc\n",
    "\n",
    "\n",
    "**IMPORTANT: LOGICALLY, FOR THIS EXAMPLE, TO DEFINE THE CONSTRAINTS OF ML MODELS, A FOR COULD HAVE BEEN MADE IN THE SET \"REGIONS\" BUT IT WAS NOT DONE CONSCIOUSLY THINKING OF AN EXAMPLE IN WHICH RESTRICTIONS HAVE TO BE DEFINED IN DIFFERENT SETS**"
   ]
  },
  {
   "cell_type": "code",
   "execution_count": 27,
   "id": "586849df-aed5-4629-937a-1397495c11eb",
   "metadata": {},
   "outputs": [
    {
     "name": "stdout",
     "output_type": "stream",
     "text": [
      "-- loading constraints machine learning models --\n",
      "loading constraints of demand of region: Great_Lakes\n",
      "loading constraints of demand of region: Midsouth\n",
      "loading constraints of demand of region: Northeast\n",
      "loading constraints of demand of region: Northern_New_England\n",
      "loading constraints of demand of region: Plains\n",
      "loading constraints of demand of region: SouthCentral\n",
      "loading constraints of demand of region: Southeast\n",
      "loading constraints of demand of region: West\n"
     ]
    }
   ],
   "source": [
    "############ create instance for predict demand fo each time ############\n",
    "\n",
    "\n",
    "\n",
    "print('-- loading constraints machine learning models --')\n",
    "for region in regions:\n",
    "    print(f'loading constraints of demand of region: {region}')\n",
    "\n",
    "    # there is a dataframe with features fixed (no decision variables). ROWS \"time\"\n",
    "    aux_features_fixed = instance_ml_model\n",
    "    \n",
    "    # create a dataframe with decision variables gurobi. filter it by time. In this example the price of all regions are features of the ml model\n",
    "    aux_features_decision =  pd.DataFrame(p.unstack(level = 0))\n",
    "    \n",
    "    #name_columns_feature_decision = aux_features_decision.columns # CORRECTION NAME COLUMNS TO BE THE SAME COLUMNS NAMES IN DATAFRAME USED TO TRAIN\n",
    "    name_columns_feature_decision = ['price_' + name_region for name_region in list_regions]\n",
    "    name_columns_feature_decision = [column.lower() for column in name_columns_feature_decision]\n",
    "    aux_features_decision.columns = name_columns_feature_decision\n",
    "    \n",
    "    # join into a dataframe instance\n",
    "    instance = pd.concat([aux_features_fixed, aux_features_decision], axis=1) # generate instance\n",
    "    \n",
    "    \n",
    "    ############ create constraint based in machine learning model ############\n",
    "    # load model\n",
    "    model_ml = dict_models[region]\n",
    "    \n",
    "    ## add model to predict the demand for each region in differents time horizon with the SAME MODEL\n",
    "    add_predictor_constr(gp_model = model_opt, \n",
    "                                       predictor = model_ml, \n",
    "                                       input_vars = instance,  #ROWS \"time\"\n",
    "                                       output_vars = d[region], # filter decision variable for the element of the set region, ROWS \"time\"\n",
    "                                       name = f'model_predict_{region}'\n",
    "                                      )"
   ]
  },
  {
   "cell_type": "code",
   "execution_count": 28,
   "id": "53394d81-f25f-4c5f-8a20-b3b735d14fec",
   "metadata": {},
   "outputs": [
    {
     "data": {
      "text/html": [
       "<div>\n",
       "<style scoped>\n",
       "    .dataframe tbody tr th:only-of-type {\n",
       "        vertical-align: middle;\n",
       "    }\n",
       "\n",
       "    .dataframe tbody tr th {\n",
       "        vertical-align: top;\n",
       "    }\n",
       "\n",
       "    .dataframe thead th {\n",
       "        text-align: right;\n",
       "    }\n",
       "</style>\n",
       "<table border=\"1\" class=\"dataframe\">\n",
       "  <thead>\n",
       "    <tr style=\"text-align: right;\">\n",
       "      <th></th>\n",
       "      <th>peak</th>\n",
       "      <th>price_great_lakes</th>\n",
       "      <th>price_midsouth</th>\n",
       "      <th>price_northeast</th>\n",
       "      <th>price_northern_new_england</th>\n",
       "      <th>price_plains</th>\n",
       "      <th>price_southcentral</th>\n",
       "      <th>price_southeast</th>\n",
       "      <th>price_west</th>\n",
       "    </tr>\n",
       "  </thead>\n",
       "  <tbody>\n",
       "    <tr>\n",
       "      <th>t1</th>\n",
       "      <td>0</td>\n",
       "      <td>&lt;gurobi.Var price[Great_Lakes,t1]&gt;</td>\n",
       "      <td>&lt;gurobi.Var price[Midsouth,t1]&gt;</td>\n",
       "      <td>&lt;gurobi.Var price[Northeast,t1]&gt;</td>\n",
       "      <td>&lt;gurobi.Var price[Northern_New_England,t1]&gt;</td>\n",
       "      <td>&lt;gurobi.Var price[Plains,t1]&gt;</td>\n",
       "      <td>&lt;gurobi.Var price[SouthCentral,t1]&gt;</td>\n",
       "      <td>&lt;gurobi.Var price[Southeast,t1]&gt;</td>\n",
       "      <td>&lt;gurobi.Var price[West,t1]&gt;</td>\n",
       "    </tr>\n",
       "    <tr>\n",
       "      <th>t2</th>\n",
       "      <td>0</td>\n",
       "      <td>&lt;gurobi.Var price[Great_Lakes,t2]&gt;</td>\n",
       "      <td>&lt;gurobi.Var price[Midsouth,t2]&gt;</td>\n",
       "      <td>&lt;gurobi.Var price[Northeast,t2]&gt;</td>\n",
       "      <td>&lt;gurobi.Var price[Northern_New_England,t2]&gt;</td>\n",
       "      <td>&lt;gurobi.Var price[Plains,t2]&gt;</td>\n",
       "      <td>&lt;gurobi.Var price[SouthCentral,t2]&gt;</td>\n",
       "      <td>&lt;gurobi.Var price[Southeast,t2]&gt;</td>\n",
       "      <td>&lt;gurobi.Var price[West,t2]&gt;</td>\n",
       "    </tr>\n",
       "    <tr>\n",
       "      <th>t3</th>\n",
       "      <td>0</td>\n",
       "      <td>&lt;gurobi.Var price[Great_Lakes,t3]&gt;</td>\n",
       "      <td>&lt;gurobi.Var price[Midsouth,t3]&gt;</td>\n",
       "      <td>&lt;gurobi.Var price[Northeast,t3]&gt;</td>\n",
       "      <td>&lt;gurobi.Var price[Northern_New_England,t3]&gt;</td>\n",
       "      <td>&lt;gurobi.Var price[Plains,t3]&gt;</td>\n",
       "      <td>&lt;gurobi.Var price[SouthCentral,t3]&gt;</td>\n",
       "      <td>&lt;gurobi.Var price[Southeast,t3]&gt;</td>\n",
       "      <td>&lt;gurobi.Var price[West,t3]&gt;</td>\n",
       "    </tr>\n",
       "    <tr>\n",
       "      <th>t4</th>\n",
       "      <td>0</td>\n",
       "      <td>&lt;gurobi.Var price[Great_Lakes,t4]&gt;</td>\n",
       "      <td>&lt;gurobi.Var price[Midsouth,t4]&gt;</td>\n",
       "      <td>&lt;gurobi.Var price[Northeast,t4]&gt;</td>\n",
       "      <td>&lt;gurobi.Var price[Northern_New_England,t4]&gt;</td>\n",
       "      <td>&lt;gurobi.Var price[Plains,t4]&gt;</td>\n",
       "      <td>&lt;gurobi.Var price[SouthCentral,t4]&gt;</td>\n",
       "      <td>&lt;gurobi.Var price[Southeast,t4]&gt;</td>\n",
       "      <td>&lt;gurobi.Var price[West,t4]&gt;</td>\n",
       "    </tr>\n",
       "    <tr>\n",
       "      <th>t5</th>\n",
       "      <td>0</td>\n",
       "      <td>&lt;gurobi.Var price[Great_Lakes,t5]&gt;</td>\n",
       "      <td>&lt;gurobi.Var price[Midsouth,t5]&gt;</td>\n",
       "      <td>&lt;gurobi.Var price[Northeast,t5]&gt;</td>\n",
       "      <td>&lt;gurobi.Var price[Northern_New_England,t5]&gt;</td>\n",
       "      <td>&lt;gurobi.Var price[Plains,t5]&gt;</td>\n",
       "      <td>&lt;gurobi.Var price[SouthCentral,t5]&gt;</td>\n",
       "      <td>&lt;gurobi.Var price[Southeast,t5]&gt;</td>\n",
       "      <td>&lt;gurobi.Var price[West,t5]&gt;</td>\n",
       "    </tr>\n",
       "  </tbody>\n",
       "</table>\n",
       "</div>"
      ],
      "text/plain": [
       "    peak                   price_great_lakes                   price_midsouth  \\\n",
       "t1     0  <gurobi.Var price[Great_Lakes,t1]>  <gurobi.Var price[Midsouth,t1]>   \n",
       "t2     0  <gurobi.Var price[Great_Lakes,t2]>  <gurobi.Var price[Midsouth,t2]>   \n",
       "t3     0  <gurobi.Var price[Great_Lakes,t3]>  <gurobi.Var price[Midsouth,t3]>   \n",
       "t4     0  <gurobi.Var price[Great_Lakes,t4]>  <gurobi.Var price[Midsouth,t4]>   \n",
       "t5     0  <gurobi.Var price[Great_Lakes,t5]>  <gurobi.Var price[Midsouth,t5]>   \n",
       "\n",
       "                     price_northeast  \\\n",
       "t1  <gurobi.Var price[Northeast,t1]>   \n",
       "t2  <gurobi.Var price[Northeast,t2]>   \n",
       "t3  <gurobi.Var price[Northeast,t3]>   \n",
       "t4  <gurobi.Var price[Northeast,t4]>   \n",
       "t5  <gurobi.Var price[Northeast,t5]>   \n",
       "\n",
       "                     price_northern_new_england  \\\n",
       "t1  <gurobi.Var price[Northern_New_England,t1]>   \n",
       "t2  <gurobi.Var price[Northern_New_England,t2]>   \n",
       "t3  <gurobi.Var price[Northern_New_England,t3]>   \n",
       "t4  <gurobi.Var price[Northern_New_England,t4]>   \n",
       "t5  <gurobi.Var price[Northern_New_England,t5]>   \n",
       "\n",
       "                     price_plains                   price_southcentral  \\\n",
       "t1  <gurobi.Var price[Plains,t1]>  <gurobi.Var price[SouthCentral,t1]>   \n",
       "t2  <gurobi.Var price[Plains,t2]>  <gurobi.Var price[SouthCentral,t2]>   \n",
       "t3  <gurobi.Var price[Plains,t3]>  <gurobi.Var price[SouthCentral,t3]>   \n",
       "t4  <gurobi.Var price[Plains,t4]>  <gurobi.Var price[SouthCentral,t4]>   \n",
       "t5  <gurobi.Var price[Plains,t5]>  <gurobi.Var price[SouthCentral,t5]>   \n",
       "\n",
       "                     price_southeast                   price_west  \n",
       "t1  <gurobi.Var price[Southeast,t1]>  <gurobi.Var price[West,t1]>  \n",
       "t2  <gurobi.Var price[Southeast,t2]>  <gurobi.Var price[West,t2]>  \n",
       "t3  <gurobi.Var price[Southeast,t3]>  <gurobi.Var price[West,t3]>  \n",
       "t4  <gurobi.Var price[Southeast,t4]>  <gurobi.Var price[West,t4]>  \n",
       "t5  <gurobi.Var price[Southeast,t5]>  <gurobi.Var price[West,t5]>  "
      ]
     },
     "execution_count": 28,
     "metadata": {},
     "output_type": "execute_result"
    }
   ],
   "source": [
    "# example instance\n",
    "instance"
   ]
  },
  {
   "cell_type": "code",
   "execution_count": null,
   "id": "533afbdf-6625-47ac-b21d-a6715189f419",
   "metadata": {},
   "outputs": [],
   "source": []
  },
  {
   "cell_type": "code",
   "execution_count": null,
   "id": "062476d5-8324-47f4-85b8-dcb2f31f22f8",
   "metadata": {},
   "outputs": [],
   "source": []
  },
  {
   "cell_type": "markdown",
   "id": "2e102749-f327-4307-9608-43fb04c4ed3b",
   "metadata": {},
   "source": [
    "#### DOCUMENTATION GUROBI MACHINE LEARNING\n",
    "\n",
    "Call\n",
    "[add_predictor_constr](https://gurobi-machinelearning.readthedocs.io/en/stable/auto_generated/gurobi_ml.add_predictor_constr.html)\n",
    "to insert the constraints linking the features and the demand into the model `m`.\n",
    "\n",
    "It is important that you keep the columns in the order above, otherwise you will see an error. The columns must be in the same order as the training data.\n",
    "\n",
    "Obs: to add this constraints the way is little different and it is not neccesary call model.update()\n",
    "\n",
    "**Documentation - parameters**\n",
    "\n",
    "- gp_model (gurobipy model) – The gurobipy model where the predictor should be inserted.\n",
    "\n",
    "- predictor – The predictor to insert.\n",
    "\n",
    "- input_vars (mvar_array_like) – Decision variables used as input for predictor in gp_model.\n",
    "\n",
    "- output_vars (mvar_array_like, optional) – Decision variables used as output for predictor in gp_model."
   ]
  },
  {
   "cell_type": "code",
   "execution_count": null,
   "id": "e39045b4-7757-42f5-b589-0293f6ef2c12",
   "metadata": {},
   "outputs": [],
   "source": []
  },
  {
   "cell_type": "code",
   "execution_count": null,
   "id": "41aad436-b673-4c07-a934-af91312691c2",
   "metadata": {},
   "outputs": [],
   "source": []
  },
  {
   "cell_type": "markdown",
   "id": "eae2618c-b69f-4c54-b63b-91ea6a0f6c56",
   "metadata": {},
   "source": [
    "### 8. Define Objetive Function\n",
    "The goal is to maximize the **net revenue**, which is the product of price and quantity, minus costs over all regions. This model assumes the purchase costs are fixed (since the amount $B$ is fixed) and are therefore not incorporated.\n",
    "\n",
    "\\begin{align} \n",
    "\\textrm{maximize} &  \\sum_{r}\\sum_{t}  (p_r * s_r - c_{waste} * u_r -\n",
    "c^r_{transport} * x_r)& \n",
    "\\end{align}"
   ]
  },
  {
   "cell_type": "code",
   "execution_count": 29,
   "id": "2a7024a4-44f7-4fff-81d6-bc2cd3032060",
   "metadata": {},
   "outputs": [],
   "source": [
    "### sum values across the set \"time\". show the value for each \"region\"\n",
    "#x.groupby('region').sum()"
   ]
  },
  {
   "cell_type": "code",
   "execution_count": 30,
   "id": "062427d8-df20-45bb-be94-869cde638c9f",
   "metadata": {},
   "outputs": [],
   "source": [
    "model_opt.setObjective((p * s).sum() - c_waste * u.sum() - (c_transport * x.groupby('region').sum()).sum(),\n",
    "                       gp.GRB.MAXIMIZE)"
   ]
  },
  {
   "cell_type": "code",
   "execution_count": null,
   "id": "1c0d7f8b-ad52-4dc4-acb6-1884192dfc3d",
   "metadata": {},
   "outputs": [],
   "source": []
  },
  {
   "cell_type": "code",
   "execution_count": null,
   "id": "6b02898c-4b8a-4db7-a689-57a3af81904f",
   "metadata": {},
   "outputs": [],
   "source": []
  },
  {
   "cell_type": "markdown",
   "id": "14bfbd7e-ff7a-48b6-8dab-5d5c8e832f8c",
   "metadata": {},
   "source": [
    "### 9. Solve optimization problem\n",
    "The objective is **quadratic** since we take the product of price and the predicted sales, both of which are variables. Maximizing a quadratic\n",
    "term is said to be **non-convex**, and we specify this by setting the value of the [Gurobi NonConvex\n",
    "parameter](https://www.gurobi.com/documentation/10.0/refman/nonconvex.html) to be $2$."
   ]
  },
  {
   "cell_type": "markdown",
   "id": "d35e6d5e-ee76-413e-a02b-6f45d14c382b",
   "metadata": {},
   "source": [
    "#### 9.1 Solve optimization problem"
   ]
  },
  {
   "cell_type": "code",
   "execution_count": 31,
   "id": "b645dcf1-b3bc-4a78-947d-294263bc5acd",
   "metadata": {},
   "outputs": [
    {
     "name": "stdout",
     "output_type": "stream",
     "text": [
      "Set parameter NonConvex to value 2\n"
     ]
    }
   ],
   "source": [
    "# solve cuadratic problems\n",
    "model_opt.Params.NonConvex = 2"
   ]
  },
  {
   "cell_type": "code",
   "execution_count": 32,
   "id": "d524177d-48cd-4252-b31c-c19c4a03bb36",
   "metadata": {},
   "outputs": [
    {
     "name": "stdout",
     "output_type": "stream",
     "text": [
      "Gurobi Optimizer version 11.0.0 build v11.0.0rc2 (win64 - Windows 10.0 (19043.2))\n",
      "\n",
      "CPU model: Intel(R) Core(TM) i7-10750H CPU @ 2.60GHz, instruction set [SSE2|AVX|AVX2]\n",
      "Thread count: 6 physical cores, 12 logical processors, using up to 12 threads\n",
      "\n"
     ]
    },
    {
     "ename": "GurobiError",
     "evalue": "Model too large for size-limited license; visit https://www.gurobi.com/free-trial for a full license",
     "output_type": "error",
     "traceback": [
      "\u001b[1;31m---------------------------------------------------------------------------\u001b[0m",
      "\u001b[1;31mGurobiError\u001b[0m                               Traceback (most recent call last)",
      "Cell \u001b[1;32mIn[32], line 2\u001b[0m\n\u001b[0;32m      1\u001b[0m \u001b[38;5;66;03m# solve\u001b[39;00m\n\u001b[1;32m----> 2\u001b[0m \u001b[43mmodel_opt\u001b[49m\u001b[38;5;241;43m.\u001b[39;49m\u001b[43moptimize\u001b[49m\u001b[43m(\u001b[49m\u001b[43m)\u001b[49m\n",
      "File \u001b[1;32msrc\\\\gurobipy\\\\model.pxi:893\u001b[0m, in \u001b[0;36mgurobipy.Model.optimize\u001b[1;34m()\u001b[0m\n",
      "\u001b[1;31mGurobiError\u001b[0m: Model too large for size-limited license; visit https://www.gurobi.com/free-trial for a full license"
     ]
    }
   ],
   "source": [
    "# solve\n",
    "model_opt.optimize()"
   ]
  },
  {
   "cell_type": "code",
   "execution_count": 39,
   "id": "7b1864d3-fb87-4054-a789-355089cc5a5b",
   "metadata": {},
   "outputs": [
    {
     "data": {
      "text/plain": [
       "1"
      ]
     },
     "execution_count": 39,
     "metadata": {},
     "output_type": "execute_result"
    }
   ],
   "source": [
    "#### know the status of the model - 2 a optimal solution was founded\n",
    "# docu: https://www.gurobi.com/documentation/current/refman/optimization_status_codes.html#sec:StatusCodes\n",
    "model_opt.Status"
   ]
  },
  {
   "cell_type": "code",
   "execution_count": null,
   "id": "b54e4944-8471-4659-9747-49ecf5b782ec",
   "metadata": {},
   "outputs": [],
   "source": []
  },
  {
   "cell_type": "markdown",
   "id": "35408af3-867e-42b7-8191-8b58e237205b",
   "metadata": {},
   "source": [
    "#### 9.2 Save optimal values in a dataframe\n",
    "To get the optimal values of decision variables it is neccesary call \"var.gppd.X\""
   ]
  },
  {
   "cell_type": "code",
   "execution_count": null,
   "id": "92c62a68-2364-456c-af2f-792908179173",
   "metadata": {},
   "outputs": [],
   "source": [
    "# create dataframe with index\n",
    "solution = pd.DataFrame(index=index_regions)\n",
    "\n",
    "# save optimal values\n",
    "solution[\"Price\"] = p.gppd.X\n",
    "solution[\"Historical_Max_Price\"] = data_historical_max_price  # this is informative value get from historical data\n",
    "solution[\"Allocated\"] = x.gppd.X\n",
    "solution[\"Sold\"] = s.gppd.X\n",
    "solution[\"Wasted\"] = u.gppd.X\n",
    "solution[\"Pred_demand\"] = d.gppd.X\n",
    "\n",
    "# round values\n",
    "solution = solution.round(3)\n",
    "\n",
    "\n",
    "# get value objetive function\n",
    "opt_revenue = m.ObjVal"
   ]
  },
  {
   "cell_type": "code",
   "execution_count": null,
   "id": "c542883a-f36d-4efb-a187-601c93760cf9",
   "metadata": {},
   "outputs": [],
   "source": [
    "# show value objetive function\n",
    "print(\"\\n The optimal net revenue: $%f million\" % opt_revenue)"
   ]
  },
  {
   "cell_type": "code",
   "execution_count": null,
   "id": "2f72543c-2194-4d7c-acf4-567924fa962c",
   "metadata": {},
   "outputs": [],
   "source": [
    "# show value decision variables\n",
    "solution"
   ]
  },
  {
   "cell_type": "markdown",
   "id": "11f207fe-ee4c-4a17-81c7-fd817fe5e6f6",
   "metadata": {},
   "source": [
    "We can also check the error in the estimate of the Gurobi solution for the regression model."
   ]
  },
  {
   "cell_type": "code",
   "execution_count": null,
   "id": "02c1c2a3-5acd-4f78-bc23-ce45f71d909c",
   "metadata": {},
   "outputs": [],
   "source": [
    "print(\n",
    "    \"Maximum error in approximating the regression {:.6}\".format(\n",
    "        np.max(pred_constr.get_error())\n",
    "    )\n",
    ")"
   ]
  },
  {
   "cell_type": "code",
   "execution_count": null,
   "id": "81704fed-ae72-49f8-880c-99ccd1adf5c7",
   "metadata": {},
   "outputs": [],
   "source": []
  },
  {
   "cell_type": "code",
   "execution_count": null,
   "id": "5dfcc5cc-97c3-4544-95aa-21017aa264d4",
   "metadata": {},
   "outputs": [],
   "source": []
  },
  {
   "cell_type": "markdown",
   "id": "b9acd4b2-d3cf-446a-85f3-5d413c2c9d0a",
   "metadata": {},
   "source": [
    "## Important question\n",
    "If it is a real use case, and I want to train different models more complex that the previous models, how I can to know the impact to have a better model (better metrics, upper r2 or lower rmse) in the output of optimization and get better values of optimal net revenue"
   ]
  },
  {
   "cell_type": "code",
   "execution_count": null,
   "id": "24265fc1-5b3e-4d12-b08e-a56517f778f8",
   "metadata": {},
   "outputs": [],
   "source": []
  }
 ],
 "metadata": {
  "kernelspec": {
   "display_name": "Python 3 (ipykernel)",
   "language": "python",
   "name": "python3"
  },
  "language_info": {
   "codemirror_mode": {
    "name": "ipython",
    "version": 3
   },
   "file_extension": ".py",
   "mimetype": "text/x-python",
   "name": "python",
   "nbconvert_exporter": "python",
   "pygments_lexer": "ipython3",
   "version": "3.10.12"
  }
 },
 "nbformat": 4,
 "nbformat_minor": 5
}
