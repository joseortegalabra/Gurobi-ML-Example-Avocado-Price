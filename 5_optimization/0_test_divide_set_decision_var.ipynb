{
 "cells": [
  {
   "cell_type": "markdown",
   "id": "33c55ba9-bfc1-40b8-b55d-ee61e5810743",
   "metadata": {},
   "source": [
    "# TESTEAR QUE A LAS RESTRICCIONES DEFINA MODELOS DE FORMA INDEPENDIENTES"
   ]
  },
  {
   "cell_type": "markdown",
   "id": "ec518247-2417-4eb6-bbde-41b6d6d3bc2a",
   "metadata": {},
   "source": [
    "# Gurobi optimization using one machine learning model\n",
    "## Optimize for Price and Supply of Avocados\n",
    "\n",
    "- In this example is only linear regressions, but gurobi machine learning acept multiple models\n",
    "\n",
    "https://gurobi-machinelearning.readthedocs.io/en/stable/api.html\n",
    "\n",
    "\n",
    "- In addition, to define the decision variables, parameters, restriction, etc of the optimization model are used \"gurobipy-pandas\". Using this package is possible define the optimization model using pandas DataFrames"
   ]
  },
  {
   "cell_type": "code",
   "execution_count": 1,
   "id": "f13dc83a-84fa-43c6-a95f-9950d3f5f061",
   "metadata": {},
   "outputs": [],
   "source": [
    "import pickle\n",
    "import pandas as pd\n",
    "import numpy as np\n",
    "\n",
    "#gurobi\n",
    "import gurobipy_pandas as gppd\n",
    "from gurobi_ml import add_predictor_constr\n",
    "import gurobipy as gp"
   ]
  },
  {
   "cell_type": "code",
   "execution_count": null,
   "id": "fe000d94-8818-46fa-aad1-8f4ec76e9877",
   "metadata": {},
   "outputs": [],
   "source": []
  },
  {
   "cell_type": "markdown",
   "id": "d81b8287-8b66-4e5d-b1c1-a8bbc8c3a3f4",
   "metadata": {},
   "source": [
    "### 0. Root repo"
   ]
  },
  {
   "cell_type": "code",
   "execution_count": 2,
   "id": "00faa458-a860-4445-84c0-2d7eb32102b9",
   "metadata": {},
   "outputs": [
    {
     "name": "stdout",
     "output_type": "stream",
     "text": [
      "root path:  D:\\github-mi-repo\\Examples-Gurobi-ML\n"
     ]
    }
   ],
   "source": [
    "import os\n",
    "# fix root path to save outputs\n",
    "actual_path = os.path.abspath(os.getcwd())\n",
    "list_root_path = actual_path.split('\\\\')[:-1]\n",
    "root_path = '\\\\'.join(list_root_path)\n",
    "os.chdir(root_path)\n",
    "print('root path: ', root_path)"
   ]
  },
  {
   "cell_type": "code",
   "execution_count": null,
   "id": "699469b7-d017-4df8-9339-ddd7c6c9f508",
   "metadata": {},
   "outputs": [],
   "source": []
  },
  {
   "cell_type": "markdown",
   "id": "a88d5cfa-efee-436f-9f30-696a23517824",
   "metadata": {},
   "source": [
    "## PREPARATION"
   ]
  },
  {
   "cell_type": "markdown",
   "id": "9279de0e-974a-4aff-9967-3e3e3554791e",
   "metadata": {},
   "source": [
    "### 1. Load data needs to use\n",
    "In this example data is loaded because it is necesary to generate parameters of optimization model"
   ]
  },
  {
   "cell_type": "code",
   "execution_count": 3,
   "id": "4878f497-6db5-4101-b237-d15d80614ea2",
   "metadata": {},
   "outputs": [],
   "source": [
    "# read data that have all the units sold for each region\n",
    "path_data_basic_features = 'artifacts/data/data_basic_features.pkl'\n",
    "data_units_sold = pd.read_pickle(path_data_basic_features)"
   ]
  },
  {
   "cell_type": "code",
   "execution_count": 4,
   "id": "64d13119-ce3c-45f0-92ef-b224afa0448d",
   "metadata": {},
   "outputs": [],
   "source": [
    "##### use data to generate parameters for optimization model\n",
    "\n",
    "# min, max deliry each region\n",
    "data_min_delivery = data_units_sold.groupby(\"region\")[\"units_sold\"].min().rename('min_delivery')\n",
    "data_max_delivery = data_units_sold.groupby(\"region\")[\"units_sold\"].max().rename('max_delivery')\n",
    "\n",
    "# historical distribution of price each region\n",
    "data_historical_max_price = data_units_sold.groupby(\"region\")[\"price\"].max().rename('max_price')"
   ]
  },
  {
   "cell_type": "code",
   "execution_count": null,
   "id": "2b34d060-e03e-41e5-bb14-b914d886d121",
   "metadata": {},
   "outputs": [],
   "source": []
  },
  {
   "cell_type": "markdown",
   "id": "dad1fc4c-2849-4383-a5c5-13ab26ceb5e5",
   "metadata": {},
   "source": [
    "### 2. Load model machine learning\n",
    "Load model that given an input (price and other features) predict the price.\n",
    "\n",
    "The model was trained in the notebook \"models/1_basic_features_one_lr\""
   ]
  },
  {
   "cell_type": "code",
   "execution_count": 5,
   "id": "561f5640-ebbe-46ef-8255-0afab5472be2",
   "metadata": {},
   "outputs": [
    {
     "data": {
      "text/html": [
       "<style>#sk-container-id-1 {color: black;}#sk-container-id-1 pre{padding: 0;}#sk-container-id-1 div.sk-toggleable {background-color: white;}#sk-container-id-1 label.sk-toggleable__label {cursor: pointer;display: block;width: 100%;margin-bottom: 0;padding: 0.3em;box-sizing: border-box;text-align: center;}#sk-container-id-1 label.sk-toggleable__label-arrow:before {content: \"▸\";float: left;margin-right: 0.25em;color: #696969;}#sk-container-id-1 label.sk-toggleable__label-arrow:hover:before {color: black;}#sk-container-id-1 div.sk-estimator:hover label.sk-toggleable__label-arrow:before {color: black;}#sk-container-id-1 div.sk-toggleable__content {max-height: 0;max-width: 0;overflow: hidden;text-align: left;background-color: #f0f8ff;}#sk-container-id-1 div.sk-toggleable__content pre {margin: 0.2em;color: black;border-radius: 0.25em;background-color: #f0f8ff;}#sk-container-id-1 input.sk-toggleable__control:checked~div.sk-toggleable__content {max-height: 200px;max-width: 100%;overflow: auto;}#sk-container-id-1 input.sk-toggleable__control:checked~label.sk-toggleable__label-arrow:before {content: \"▾\";}#sk-container-id-1 div.sk-estimator input.sk-toggleable__control:checked~label.sk-toggleable__label {background-color: #d4ebff;}#sk-container-id-1 div.sk-label input.sk-toggleable__control:checked~label.sk-toggleable__label {background-color: #d4ebff;}#sk-container-id-1 input.sk-hidden--visually {border: 0;clip: rect(1px 1px 1px 1px);clip: rect(1px, 1px, 1px, 1px);height: 1px;margin: -1px;overflow: hidden;padding: 0;position: absolute;width: 1px;}#sk-container-id-1 div.sk-estimator {font-family: monospace;background-color: #f0f8ff;border: 1px dotted black;border-radius: 0.25em;box-sizing: border-box;margin-bottom: 0.5em;}#sk-container-id-1 div.sk-estimator:hover {background-color: #d4ebff;}#sk-container-id-1 div.sk-parallel-item::after {content: \"\";width: 100%;border-bottom: 1px solid gray;flex-grow: 1;}#sk-container-id-1 div.sk-label:hover label.sk-toggleable__label {background-color: #d4ebff;}#sk-container-id-1 div.sk-serial::before {content: \"\";position: absolute;border-left: 1px solid gray;box-sizing: border-box;top: 0;bottom: 0;left: 50%;z-index: 0;}#sk-container-id-1 div.sk-serial {display: flex;flex-direction: column;align-items: center;background-color: white;padding-right: 0.2em;padding-left: 0.2em;position: relative;}#sk-container-id-1 div.sk-item {position: relative;z-index: 1;}#sk-container-id-1 div.sk-parallel {display: flex;align-items: stretch;justify-content: center;background-color: white;position: relative;}#sk-container-id-1 div.sk-item::before, #sk-container-id-1 div.sk-parallel-item::before {content: \"\";position: absolute;border-left: 1px solid gray;box-sizing: border-box;top: 0;bottom: 0;left: 50%;z-index: -1;}#sk-container-id-1 div.sk-parallel-item {display: flex;flex-direction: column;z-index: 1;position: relative;background-color: white;}#sk-container-id-1 div.sk-parallel-item:first-child::after {align-self: flex-end;width: 50%;}#sk-container-id-1 div.sk-parallel-item:last-child::after {align-self: flex-start;width: 50%;}#sk-container-id-1 div.sk-parallel-item:only-child::after {width: 0;}#sk-container-id-1 div.sk-dashed-wrapped {border: 1px dashed gray;margin: 0 0.4em 0.5em 0.4em;box-sizing: border-box;padding-bottom: 0.4em;background-color: white;}#sk-container-id-1 div.sk-label label {font-family: monospace;font-weight: bold;display: inline-block;line-height: 1.2em;}#sk-container-id-1 div.sk-label-container {text-align: center;}#sk-container-id-1 div.sk-container {/* jupyter's `normalize.less` sets `[hidden] { display: none; }` but bootstrap.min.css set `[hidden] { display: none !important; }` so we also need the `!important` here to be able to override the default hidden behavior on the sphinx rendered scikit-learn.org. See: https://github.com/scikit-learn/scikit-learn/issues/21755 */display: inline-block !important;position: relative;}#sk-container-id-1 div.sk-text-repr-fallback {display: none;}</style><div id=\"sk-container-id-1\" class=\"sk-top-container\"><div class=\"sk-text-repr-fallback\"><pre>Pipeline(steps=[(&#x27;columntransformer&#x27;,\n",
       "                 ColumnTransformer(transformers=[(&#x27;onehotencoder&#x27;,\n",
       "                                                  OneHotEncoder(drop=&#x27;first&#x27;),\n",
       "                                                  [&#x27;region&#x27;]),\n",
       "                                                 (&#x27;standardscaler&#x27;,\n",
       "                                                  StandardScaler(), [&#x27;price&#x27;]),\n",
       "                                                 (&#x27;passthrough&#x27;, &#x27;passthrough&#x27;,\n",
       "                                                  [&#x27;peak&#x27;])],\n",
       "                                   verbose_feature_names_out=False)),\n",
       "                (&#x27;linearregression&#x27;, LinearRegression())])</pre><b>In a Jupyter environment, please rerun this cell to show the HTML representation or trust the notebook. <br />On GitHub, the HTML representation is unable to render, please try loading this page with nbviewer.org.</b></div><div class=\"sk-container\" hidden><div class=\"sk-item sk-dashed-wrapped\"><div class=\"sk-label-container\"><div class=\"sk-label sk-toggleable\"><input class=\"sk-toggleable__control sk-hidden--visually\" id=\"sk-estimator-id-1\" type=\"checkbox\" ><label for=\"sk-estimator-id-1\" class=\"sk-toggleable__label sk-toggleable__label-arrow\">Pipeline</label><div class=\"sk-toggleable__content\"><pre>Pipeline(steps=[(&#x27;columntransformer&#x27;,\n",
       "                 ColumnTransformer(transformers=[(&#x27;onehotencoder&#x27;,\n",
       "                                                  OneHotEncoder(drop=&#x27;first&#x27;),\n",
       "                                                  [&#x27;region&#x27;]),\n",
       "                                                 (&#x27;standardscaler&#x27;,\n",
       "                                                  StandardScaler(), [&#x27;price&#x27;]),\n",
       "                                                 (&#x27;passthrough&#x27;, &#x27;passthrough&#x27;,\n",
       "                                                  [&#x27;peak&#x27;])],\n",
       "                                   verbose_feature_names_out=False)),\n",
       "                (&#x27;linearregression&#x27;, LinearRegression())])</pre></div></div></div><div class=\"sk-serial\"><div class=\"sk-item sk-dashed-wrapped\"><div class=\"sk-label-container\"><div class=\"sk-label sk-toggleable\"><input class=\"sk-toggleable__control sk-hidden--visually\" id=\"sk-estimator-id-2\" type=\"checkbox\" ><label for=\"sk-estimator-id-2\" class=\"sk-toggleable__label sk-toggleable__label-arrow\">columntransformer: ColumnTransformer</label><div class=\"sk-toggleable__content\"><pre>ColumnTransformer(transformers=[(&#x27;onehotencoder&#x27;, OneHotEncoder(drop=&#x27;first&#x27;),\n",
       "                                 [&#x27;region&#x27;]),\n",
       "                                (&#x27;standardscaler&#x27;, StandardScaler(), [&#x27;price&#x27;]),\n",
       "                                (&#x27;passthrough&#x27;, &#x27;passthrough&#x27;, [&#x27;peak&#x27;])],\n",
       "                  verbose_feature_names_out=False)</pre></div></div></div><div class=\"sk-parallel\"><div class=\"sk-parallel-item\"><div class=\"sk-item\"><div class=\"sk-label-container\"><div class=\"sk-label sk-toggleable\"><input class=\"sk-toggleable__control sk-hidden--visually\" id=\"sk-estimator-id-3\" type=\"checkbox\" ><label for=\"sk-estimator-id-3\" class=\"sk-toggleable__label sk-toggleable__label-arrow\">onehotencoder</label><div class=\"sk-toggleable__content\"><pre>[&#x27;region&#x27;]</pre></div></div></div><div class=\"sk-serial\"><div class=\"sk-item\"><div class=\"sk-estimator sk-toggleable\"><input class=\"sk-toggleable__control sk-hidden--visually\" id=\"sk-estimator-id-4\" type=\"checkbox\" ><label for=\"sk-estimator-id-4\" class=\"sk-toggleable__label sk-toggleable__label-arrow\">OneHotEncoder</label><div class=\"sk-toggleable__content\"><pre>OneHotEncoder(drop=&#x27;first&#x27;)</pre></div></div></div></div></div></div><div class=\"sk-parallel-item\"><div class=\"sk-item\"><div class=\"sk-label-container\"><div class=\"sk-label sk-toggleable\"><input class=\"sk-toggleable__control sk-hidden--visually\" id=\"sk-estimator-id-5\" type=\"checkbox\" ><label for=\"sk-estimator-id-5\" class=\"sk-toggleable__label sk-toggleable__label-arrow\">standardscaler</label><div class=\"sk-toggleable__content\"><pre>[&#x27;price&#x27;]</pre></div></div></div><div class=\"sk-serial\"><div class=\"sk-item\"><div class=\"sk-estimator sk-toggleable\"><input class=\"sk-toggleable__control sk-hidden--visually\" id=\"sk-estimator-id-6\" type=\"checkbox\" ><label for=\"sk-estimator-id-6\" class=\"sk-toggleable__label sk-toggleable__label-arrow\">StandardScaler</label><div class=\"sk-toggleable__content\"><pre>StandardScaler()</pre></div></div></div></div></div></div><div class=\"sk-parallel-item\"><div class=\"sk-item\"><div class=\"sk-label-container\"><div class=\"sk-label sk-toggleable\"><input class=\"sk-toggleable__control sk-hidden--visually\" id=\"sk-estimator-id-7\" type=\"checkbox\" ><label for=\"sk-estimator-id-7\" class=\"sk-toggleable__label sk-toggleable__label-arrow\">passthrough</label><div class=\"sk-toggleable__content\"><pre>[&#x27;peak&#x27;]</pre></div></div></div><div class=\"sk-serial\"><div class=\"sk-item\"><div class=\"sk-estimator sk-toggleable\"><input class=\"sk-toggleable__control sk-hidden--visually\" id=\"sk-estimator-id-8\" type=\"checkbox\" ><label for=\"sk-estimator-id-8\" class=\"sk-toggleable__label sk-toggleable__label-arrow\">passthrough</label><div class=\"sk-toggleable__content\"><pre>passthrough</pre></div></div></div></div></div></div></div></div><div class=\"sk-item\"><div class=\"sk-estimator sk-toggleable\"><input class=\"sk-toggleable__control sk-hidden--visually\" id=\"sk-estimator-id-9\" type=\"checkbox\" ><label for=\"sk-estimator-id-9\" class=\"sk-toggleable__label sk-toggleable__label-arrow\">LinearRegression</label><div class=\"sk-toggleable__content\"><pre>LinearRegression()</pre></div></div></div></div></div></div></div>"
      ],
      "text/plain": [
       "Pipeline(steps=[('columntransformer',\n",
       "                 ColumnTransformer(transformers=[('onehotencoder',\n",
       "                                                  OneHotEncoder(drop='first'),\n",
       "                                                  ['region']),\n",
       "                                                 ('standardscaler',\n",
       "                                                  StandardScaler(), ['price']),\n",
       "                                                 ('passthrough', 'passthrough',\n",
       "                                                  ['peak'])],\n",
       "                                   verbose_feature_names_out=False)),\n",
       "                ('linearregression', LinearRegression())])"
      ]
     },
     "execution_count": 5,
     "metadata": {},
     "output_type": "execute_result"
    }
   ],
   "source": [
    "# folder\n",
    "path_folder_artifacts = 'artifacts/models/1_basic_features_one_lr/'\n",
    "\n",
    "# path to save\n",
    "name_artifact_model = 'model.pkl'\n",
    "path_artifact_model = path_folder_artifacts + name_artifact_model\n",
    "\n",
    "# load model\n",
    "with open(path_artifact_model, 'rb') as artifact:\n",
    "    model = pickle.load(artifact)\n",
    "\n",
    "model"
   ]
  },
  {
   "cell_type": "code",
   "execution_count": null,
   "id": "f2bebd2b-7e07-4f81-8ad1-bebf5fed04a3",
   "metadata": {},
   "outputs": [],
   "source": []
  },
  {
   "cell_type": "code",
   "execution_count": null,
   "id": "d1484ac9-0400-4c84-a089-f1649036add1",
   "metadata": {},
   "outputs": [],
   "source": []
  },
  {
   "cell_type": "code",
   "execution_count": null,
   "id": "cbeba7b5-9d88-4b1f-a8f3-8b49a03212d2",
   "metadata": {},
   "outputs": [],
   "source": []
  },
  {
   "cell_type": "markdown",
   "id": "dec2d181-1424-455f-b7a1-2b35ad47fbfa",
   "metadata": {},
   "source": [
    "## RUN OPTIMIZATION"
   ]
  },
  {
   "cell_type": "markdown",
   "id": "03bcf94f-2240-4a7a-a6d4-76d869e86a19",
   "metadata": {},
   "source": [
    "### 0. Load transversal params - sets of optimization model\n",
    "Transversal all codes, not only this code. For example order in features in the data.\n",
    "\n",
    "Save the sets of optimization model as pandas index"
   ]
  },
  {
   "cell_type": "code",
   "execution_count": 6,
   "id": "92e27017-176c-4017-ab0e-d974eefe8d2d",
   "metadata": {},
   "outputs": [
    {
     "data": {
      "text/plain": [
       "['Great_Lakes',\n",
       " 'Midsouth',\n",
       " 'Northeast',\n",
       " 'Northern_New_England',\n",
       " 'Plains',\n",
       " 'SouthCentral',\n",
       " 'Southeast',\n",
       " 'West']"
      ]
     },
     "execution_count": 6,
     "metadata": {},
     "output_type": "execute_result"
    }
   ],
   "source": [
    "list_regions = ['Great_Lakes',\n",
    "                'Midsouth',\n",
    "                'Northeast',\n",
    "                'Northern_New_England',\n",
    "                'Plains',\n",
    "                'SouthCentral',\n",
    "                'Southeast',\n",
    "                'West']\n",
    "regions = list_regions\n",
    "\n",
    "regions"
   ]
  },
  {
   "cell_type": "code",
   "execution_count": 7,
   "id": "c3f7bd84-3fd6-4fa3-a062-6f1954b52e15",
   "metadata": {},
   "outputs": [],
   "source": [
    "# generate a pandas index with the values of the regions. This works as sets of optimization model\n",
    "index_regions = pd.Index(regions)"
   ]
  },
  {
   "cell_type": "code",
   "execution_count": null,
   "id": "39afd60b-4b57-4787-b53e-ac03d869af21",
   "metadata": {},
   "outputs": [],
   "source": []
  },
  {
   "cell_type": "markdown",
   "id": "3857e7c6-5f08-4220-a4a3-571f29ee9ab1",
   "metadata": {},
   "source": [
    "### 1. Create guroby optimization model\n",
    "Documentation: https://www.gurobi.com/documentation/current/refman/py_model.html"
   ]
  },
  {
   "cell_type": "code",
   "execution_count": 8,
   "id": "d0be0947-0bd6-4f6b-8f12-a9bd8c2ca3ef",
   "metadata": {},
   "outputs": [
    {
     "name": "stdout",
     "output_type": "stream",
     "text": [
      "Restricted license - for non-production use only - expires 2025-11-24\n"
     ]
    }
   ],
   "source": [
    "# env = gp.Env(params=params)\n",
    "\n",
    "#Create the model within the Gurobi environment\n",
    "m = gp.Model(name = \"Avocado_Price_Allocation\")"
   ]
  },
  {
   "cell_type": "code",
   "execution_count": null,
   "id": "bdd2ced3-f0fc-45cb-9937-e13280af8a48",
   "metadata": {},
   "outputs": [],
   "source": []
  },
  {
   "cell_type": "markdown",
   "id": "97dec9f4-559b-40dd-98a7-4e4e9fa29cf0",
   "metadata": {},
   "source": [
    "### 2. Upper bounds and lower bounds of decision variables\n",
    "Values that are boundss in decision variables. In gurobi the upper and lower boundss could be defined in the same moment that variables are created and not are defined as restrictions explicitly \n",
    "\n",
    "- $a_{min},a_{max}$: minimum and maximum price ($\\$$) per avocado (price is a input of machine learning model)\n",
    "- $b^r_{min},b^r_{max}$: minimum and maximum number of avocados allocated to region $r$"
   ]
  },
  {
   "cell_type": "code",
   "execution_count": 9,
   "id": "29d7894e-3713-4894-ad04-9a9d34935291",
   "metadata": {},
   "outputs": [],
   "source": [
    "# a_min, a_max: min and max price of product A\n",
    "a_min = 0\n",
    "a_max = 2\n",
    "\n",
    "\n",
    "# b_min(r), b_max(r): min and max historical products send to each region (value get from historical data)\n",
    "b_min = data_min_delivery\n",
    "b_max = data_max_delivery"
   ]
  },
  {
   "cell_type": "code",
   "execution_count": null,
   "id": "8d1e1404-438a-4ec2-9d53-ad90e0015d79",
   "metadata": {},
   "outputs": [],
   "source": []
  },
  {
   "cell_type": "markdown",
   "id": "71476d65-cbb9-4c58-8fbf-48c6bc0a6bae",
   "metadata": {},
   "source": [
    "### 3. Input parameters of optimization model\n",
    "##### That are not decision variables either parameters of machine learning model)\n",
    "\n",
    "**Set**\n",
    "- $r$ : will be used to denote each region\n",
    "\n",
    "\n",
    "**Parameters Optimization Model**\n",
    "- $B$: available avocados to be distributed across the regions.Total amount of avocado supply\n",
    "\n",
    "- $c_{waste}$: cost ($\\$$) per wasted avocado\n",
    "\n",
    "- $c^r_{transport}$: cost ($\\$$) of transporting a avocado to region $r$"
   ]
  },
  {
   "cell_type": "code",
   "execution_count": 10,
   "id": "99fa181c-08e1-4a07-a0a6-85ecffcbf27b",
   "metadata": {},
   "outputs": [],
   "source": [
    "# B: supply product\n",
    "B = 30 \n",
    "\n",
    "\n",
    "# c_waste: cost of waste product\n",
    "c_waste = 0.1\n",
    "\n",
    "\n",
    "# c_transport(r): cost transport for each region\n",
    "c_transport = pd.Series(\n",
    "    {\n",
    "        \"Great_Lakes\": 0.3,\n",
    "        \"Midsouth\": 0.1,\n",
    "        \"Northeast\": 0.4,\n",
    "        \"Northern_New_England\": 0.5,\n",
    "        \"SouthCentral\": 0.3,\n",
    "        \"Southeast\": 0.2,\n",
    "        \"West\": 0.2,\n",
    "        \"Plains\": 0.2,\n",
    "    }, name='transport_cost')\n",
    "c_transport = c_transport.loc[regions]"
   ]
  },
  {
   "cell_type": "code",
   "execution_count": null,
   "id": "fbc26f12-9f19-422a-9986-d0e2eeee1171",
   "metadata": {},
   "outputs": [],
   "source": []
  },
  {
   "cell_type": "markdown",
   "id": "c11376a0-0796-4e1c-9c56-5f89e6cbc283",
   "metadata": {},
   "source": [
    "### 4. Features input machine learning model fixed (that are not decision variables or parameters in optimization model)\n",
    "Define the features that are inputs of machine learning model that are not decision variables of optimization model (so this values doesn't change). And also, this features that are not parameters of optimization model, so this values are not used in the restrictions"
   ]
  },
  {
   "cell_type": "code",
   "execution_count": 11,
   "id": "82268367-4e18-4ae7-9eb7-ea827037e9fe",
   "metadata": {},
   "outputs": [
    {
     "data": {
      "text/plain": [
       "0"
      ]
     },
     "execution_count": 11,
     "metadata": {},
     "output_type": "execute_result"
    }
   ],
   "source": [
    "# seasonality: 1 if it is the peak season; 0 if isn't\n",
    "peak_or_not = 0\n",
    "peak_or_not"
   ]
  },
  {
   "cell_type": "code",
   "execution_count": 12,
   "id": "1726e100-16d3-4f82-9372-5dcebeded641",
   "metadata": {},
   "outputs": [
    {
     "data": {
      "text/plain": [
       "['Great_Lakes',\n",
       " 'Midsouth',\n",
       " 'Northeast',\n",
       " 'Northern_New_England',\n",
       " 'Plains',\n",
       " 'SouthCentral',\n",
       " 'Southeast',\n",
       " 'West']"
      ]
     },
     "execution_count": 12,
     "metadata": {},
     "output_type": "execute_result"
    }
   ],
   "source": [
    "# list of regions\n",
    "regions # in this example the regions is also a feature of machine learning model - and we want to know the price for each region(r)"
   ]
  },
  {
   "cell_type": "code",
   "execution_count": 13,
   "id": "615bf8fd-3999-403b-85da-4b84ba3d9de2",
   "metadata": {},
   "outputs": [
    {
     "data": {
      "text/html": [
       "<div>\n",
       "<style scoped>\n",
       "    .dataframe tbody tr th:only-of-type {\n",
       "        vertical-align: middle;\n",
       "    }\n",
       "\n",
       "    .dataframe tbody tr th {\n",
       "        vertical-align: top;\n",
       "    }\n",
       "\n",
       "    .dataframe thead th {\n",
       "        text-align: right;\n",
       "    }\n",
       "</style>\n",
       "<table border=\"1\" class=\"dataframe\">\n",
       "  <thead>\n",
       "    <tr style=\"text-align: right;\">\n",
       "      <th></th>\n",
       "      <th>peak</th>\n",
       "      <th>region</th>\n",
       "    </tr>\n",
       "  </thead>\n",
       "  <tbody>\n",
       "    <tr>\n",
       "      <th>Great_Lakes</th>\n",
       "      <td>0</td>\n",
       "      <td>Great_Lakes</td>\n",
       "    </tr>\n",
       "    <tr>\n",
       "      <th>Midsouth</th>\n",
       "      <td>0</td>\n",
       "      <td>Midsouth</td>\n",
       "    </tr>\n",
       "    <tr>\n",
       "      <th>Northeast</th>\n",
       "      <td>0</td>\n",
       "      <td>Northeast</td>\n",
       "    </tr>\n",
       "    <tr>\n",
       "      <th>Northern_New_England</th>\n",
       "      <td>0</td>\n",
       "      <td>Northern_New_England</td>\n",
       "    </tr>\n",
       "    <tr>\n",
       "      <th>Plains</th>\n",
       "      <td>0</td>\n",
       "      <td>Plains</td>\n",
       "    </tr>\n",
       "    <tr>\n",
       "      <th>SouthCentral</th>\n",
       "      <td>0</td>\n",
       "      <td>SouthCentral</td>\n",
       "    </tr>\n",
       "    <tr>\n",
       "      <th>Southeast</th>\n",
       "      <td>0</td>\n",
       "      <td>Southeast</td>\n",
       "    </tr>\n",
       "    <tr>\n",
       "      <th>West</th>\n",
       "      <td>0</td>\n",
       "      <td>West</td>\n",
       "    </tr>\n",
       "  </tbody>\n",
       "</table>\n",
       "</div>"
      ],
      "text/plain": [
       "                      peak                region\n",
       "Great_Lakes              0           Great_Lakes\n",
       "Midsouth                 0              Midsouth\n",
       "Northeast                0             Northeast\n",
       "Northern_New_England     0  Northern_New_England\n",
       "Plains                   0                Plains\n",
       "SouthCentral             0          SouthCentral\n",
       "Southeast                0             Southeast\n",
       "West                     0                  West"
      ]
     },
     "execution_count": 13,
     "metadata": {},
     "output_type": "execute_result"
    }
   ],
   "source": [
    "# generate a dataframe with the \"fixed\" features of optimization model. \n",
    "# This is an instance of machine learning model. In this part only have the features that have fixed values for this optimization\n",
    "instance_ml_model = pd.DataFrame(\n",
    "    data={\n",
    "        \"peak\": peak_or_not,\n",
    "        \"region\": regions,\n",
    "    },\n",
    "    index=regions\n",
    ")\n",
    "instance_ml_model"
   ]
  },
  {
   "cell_type": "code",
   "execution_count": null,
   "id": "f27f2ed8-d4fe-4122-ae6c-02c6a518ccb2",
   "metadata": {},
   "outputs": [],
   "source": []
  },
  {
   "cell_type": "markdown",
   "id": "e03f732d-f128-461c-b30d-2f6908fbcbad",
   "metadata": {},
   "source": [
    "### 5. Decision variables of optimization model\n",
    "\n",
    "Let us now define the decision variables. In our model, we want to store the price and number of avocados allocated to each region. We also want variables that track how many avocados are predicted to be sold and how many are predicted to be wasted. \n",
    "\n",
    "- $p(r)$ the price of an avocado ($\\$$) in each region. The maxium price. It is a feature of machine learning model\n",
    "- $x(r)$ the number of avocados supplied to each region\n",
    "- $s(r)$ the predicted number of avocados sold in each region\n",
    "- $u(r)$ the predicted number of avocados unsold (wasted) in each region\n",
    "- $d(r)$ the predicted demand in each region. It is the target of machine learning model (because this value change according the input, it is a decision variable)\n",
    "\n",
    "All those variables are created using gurobipy-pandas, with the function `gppd.add_vars`. To use this function it is necessary to define:\n",
    "- model: optimization model of gurobi\n",
    "- index: pandas index. With this index it can defined the sets of the decision variables\n",
    "- name: name of the decision variable\n",
    "- Example: x = gppd.add_vars(model, index, name=\"x\")"
   ]
  },
  {
   "cell_type": "code",
   "execution_count": 14,
   "id": "8145e863-8cc2-4492-b00d-2d0a48e97a4a",
   "metadata": {},
   "outputs": [],
   "source": [
    "# p(r): price. feature of machine learning model\n",
    "p = gppd.add_vars(m, index_regions, name = \"price\", lb = a_min, ub = a_max) # bounds prices\n",
    "\n",
    "\n",
    "# x(r): supply\n",
    "x = gppd.add_vars(m, index_regions, name = \"x\", lb = b_min, ub= b_max) # bounds supply - using historical data\n",
    "\n",
    "\n",
    "# s(r): solds given a certain price\n",
    "s = gppd.add_vars(m, index_regions, name = \"s\")\n",
    "\n",
    "\n",
    "# u(r): inventary. units not sold. waste.\n",
    "u = gppd.add_vars(m, index_regions, name = \"w\") \n",
    "\n",
    "\n",
    "# d(r): demand. output of machine learning model\n",
    "d = gppd.add_vars(m, index_regions, lb = -gp.GRB.INFINITY, name = \"demand\") # BY DEFULT LOWER BOUND IS ZERO\n",
    "\n",
    "\n",
    "#### model update - compile decision variables\n",
    "m.update()"
   ]
  },
  {
   "cell_type": "code",
   "execution_count": 15,
   "id": "a13c0c5b-f8fc-49b9-bb7a-bdbbe5a2ee59",
   "metadata": {},
   "outputs": [
    {
     "data": {
      "text/plain": [
       "Great_Lakes             0.0\n",
       "Midsouth                0.0\n",
       "Northeast               0.0\n",
       "Northern_New_England    0.0\n",
       "Plains                  0.0\n",
       "SouthCentral            0.0\n",
       "Southeast               0.0\n",
       "West                    0.0\n",
       "Name: price, dtype: float64"
      ]
     },
     "execution_count": 15,
     "metadata": {},
     "output_type": "execute_result"
    }
   ],
   "source": [
    "### show all decision variables - debugging problems - validate after compile decision varaibles\n",
    "p.gppd.VarName  # see name\n",
    "p.gppd.ub # upper bound\n",
    "p.gppd.lb # lowe bound\n",
    "\n",
    "#p.gbpd.X # see value of decision variable - only works after optimization"
   ]
  },
  {
   "cell_type": "markdown",
   "id": "6455507f-2965-48c4-adb4-338b1b80e6f3",
   "metadata": {},
   "source": [
    "### 6. Constraints (constraints that are not generated by a ml model)"
   ]
  },
  {
   "cell_type": "markdown",
   "id": "18b2d0d5-e11b-488e-ae0a-308d5cf2fa24",
   "metadata": {},
   "source": [
    "#### 6.1 Add the Supply Constraint\n",
    "Make sure that the total number of avocados supplied is equal to $B$\n",
    "\\begin{align*} \\sum_{r} x_r &= B \\end{align*}"
   ]
  },
  {
   "cell_type": "code",
   "execution_count": 16,
   "id": "8a4a1bc4-69a7-46eb-a3d7-c704aa92f8ce",
   "metadata": {},
   "outputs": [],
   "source": [
    "m.addConstr(x.sum() == B)\n",
    "m.update()\n",
    "# addConstr write the constraint implicitly"
   ]
  },
  {
   "cell_type": "markdown",
   "id": "f45578d8-a427-4732-9e7a-99877087cbd2",
   "metadata": {},
   "source": [
    "#### 6.2 Add Constraints That Define Sales Quantity\n",
    "The sales quantity is the minimum of the allocated quantity and the predicted demand, i.e., $s_r = \\min \\{x_r,d_r(p_r)\\}$ This relationship can be modeled by the following two constraints for each region $r$.\n",
    "\n",
    "\\begin{align*} s_r &\\leq x_r  \\\\\n",
    "s_r &\\leq d(p_r,r) \\end{align*}"
   ]
  },
  {
   "cell_type": "code",
   "execution_count": 17,
   "id": "956b018f-7d6a-431b-ac79-8d5dcde4a026",
   "metadata": {},
   "outputs": [],
   "source": [
    "gppd.add_constrs(m, s, gp.GRB.LESS_EQUAL, x) # for each region (8 constraints)\n",
    "gppd.add_constrs(m, s, gp.GRB.LESS_EQUAL, d)\n",
    "m.update()\n",
    "# add_constrs: write the constraint with left side, \"operator\", right side"
   ]
  },
  {
   "cell_type": "code",
   "execution_count": 18,
   "id": "7982de2f-6bd2-488e-81f7-b31a2def09a3",
   "metadata": {},
   "outputs": [
    {
     "data": {
      "text/plain": [
       "<gurobi.Model Continuous instance Avocado_Price_Allocation: 17 constrs, 40 vars, No parameter changes>"
      ]
     },
     "execution_count": 18,
     "metadata": {},
     "output_type": "execute_result"
    }
   ],
   "source": [
    "m"
   ]
  },
  {
   "cell_type": "markdown",
   "id": "d2b3f1c9-7df1-434c-af68-f2674687879a",
   "metadata": {},
   "source": [
    "#### 6.3 Add the Wastage Constraints\n",
    "Define the predicted unsold number of avocados in each region, given by the supplied quantity that is not sold. For each region $r$.\n",
    "\n",
    "\\begin{align*} u_r &= x_r - s_r \\end{align*}"
   ]
  },
  {
   "cell_type": "code",
   "execution_count": 19,
   "id": "37157007-53d2-4a67-a49c-6650581bda74",
   "metadata": {},
   "outputs": [],
   "source": [
    "gppd.add_constrs(m, u, gp.GRB.EQUAL, x - s)\n",
    "m.update()"
   ]
  },
  {
   "cell_type": "code",
   "execution_count": 20,
   "id": "d0c758c2-4460-469c-a870-b40e60f9a521",
   "metadata": {},
   "outputs": [
    {
     "data": {
      "text/plain": [
       "<gurobi.Model Continuous instance Avocado_Price_Allocation: 25 constrs, 40 vars, No parameter changes>"
      ]
     },
     "execution_count": 20,
     "metadata": {},
     "output_type": "execute_result"
    }
   ],
   "source": [
    "m"
   ]
  },
  {
   "cell_type": "markdown",
   "id": "d00c9c20-5457-4875-bb44-558c4e010ea4",
   "metadata": {},
   "source": [
    "### 7. Add constraints that are machine learning models"
   ]
  },
  {
   "cell_type": "markdown",
   "id": "8d4b9417-f114-487b-92d7-da0dd8f8a1fe",
   "metadata": {},
   "source": [
    "#### 7.1 predict demand - generate instance dataframe\n",
    "\n",
    "First, we create our full input for the predictor constraint. We concatenate the `p` variables and the fixed features"
   ]
  },
  {
   "cell_type": "code",
   "execution_count": 21,
   "id": "0fb5042e-ff52-49a0-b800-1e9ea32a9671",
   "metadata": {},
   "outputs": [
    {
     "data": {
      "text/html": [
       "<div>\n",
       "<style scoped>\n",
       "    .dataframe tbody tr th:only-of-type {\n",
       "        vertical-align: middle;\n",
       "    }\n",
       "\n",
       "    .dataframe tbody tr th {\n",
       "        vertical-align: top;\n",
       "    }\n",
       "\n",
       "    .dataframe thead th {\n",
       "        text-align: right;\n",
       "    }\n",
       "</style>\n",
       "<table border=\"1\" class=\"dataframe\">\n",
       "  <thead>\n",
       "    <tr style=\"text-align: right;\">\n",
       "      <th></th>\n",
       "      <th>region</th>\n",
       "      <th>peak</th>\n",
       "      <th>price</th>\n",
       "    </tr>\n",
       "  </thead>\n",
       "  <tbody>\n",
       "    <tr>\n",
       "      <th>Great_Lakes</th>\n",
       "      <td>Great_Lakes</td>\n",
       "      <td>0</td>\n",
       "      <td>&lt;gurobi.Var price[Great_Lakes]&gt;</td>\n",
       "    </tr>\n",
       "    <tr>\n",
       "      <th>Midsouth</th>\n",
       "      <td>Midsouth</td>\n",
       "      <td>0</td>\n",
       "      <td>&lt;gurobi.Var price[Midsouth]&gt;</td>\n",
       "    </tr>\n",
       "    <tr>\n",
       "      <th>Northeast</th>\n",
       "      <td>Northeast</td>\n",
       "      <td>0</td>\n",
       "      <td>&lt;gurobi.Var price[Northeast]&gt;</td>\n",
       "    </tr>\n",
       "    <tr>\n",
       "      <th>Northern_New_England</th>\n",
       "      <td>Northern_New_England</td>\n",
       "      <td>0</td>\n",
       "      <td>&lt;gurobi.Var price[Northern_New_England]&gt;</td>\n",
       "    </tr>\n",
       "    <tr>\n",
       "      <th>Plains</th>\n",
       "      <td>Plains</td>\n",
       "      <td>0</td>\n",
       "      <td>&lt;gurobi.Var price[Plains]&gt;</td>\n",
       "    </tr>\n",
       "    <tr>\n",
       "      <th>SouthCentral</th>\n",
       "      <td>SouthCentral</td>\n",
       "      <td>0</td>\n",
       "      <td>&lt;gurobi.Var price[SouthCentral]&gt;</td>\n",
       "    </tr>\n",
       "    <tr>\n",
       "      <th>Southeast</th>\n",
       "      <td>Southeast</td>\n",
       "      <td>0</td>\n",
       "      <td>&lt;gurobi.Var price[Southeast]&gt;</td>\n",
       "    </tr>\n",
       "    <tr>\n",
       "      <th>West</th>\n",
       "      <td>West</td>\n",
       "      <td>0</td>\n",
       "      <td>&lt;gurobi.Var price[West]&gt;</td>\n",
       "    </tr>\n",
       "  </tbody>\n",
       "</table>\n",
       "</div>"
      ],
      "text/plain": [
       "                                    region  peak  \\\n",
       "Great_Lakes                    Great_Lakes     0   \n",
       "Midsouth                          Midsouth     0   \n",
       "Northeast                        Northeast     0   \n",
       "Northern_New_England  Northern_New_England     0   \n",
       "Plains                              Plains     0   \n",
       "SouthCentral                  SouthCentral     0   \n",
       "Southeast                        Southeast     0   \n",
       "West                                  West     0   \n",
       "\n",
       "                                                         price  \n",
       "Great_Lakes                    <gurobi.Var price[Great_Lakes]>  \n",
       "Midsouth                          <gurobi.Var price[Midsouth]>  \n",
       "Northeast                        <gurobi.Var price[Northeast]>  \n",
       "Northern_New_England  <gurobi.Var price[Northern_New_England]>  \n",
       "Plains                              <gurobi.Var price[Plains]>  \n",
       "SouthCentral                  <gurobi.Var price[SouthCentral]>  \n",
       "Southeast                        <gurobi.Var price[Southeast]>  \n",
       "West                                  <gurobi.Var price[West]>  "
      ]
     },
     "execution_count": 21,
     "metadata": {},
     "output_type": "execute_result"
    }
   ],
   "source": [
    "## generate a pandas instance for machine learning model\n",
    "\n",
    "m_instance_ml_model = pd.concat([instance_ml_model, p], axis=1) # generate instance for optimization model\n",
    "list_features = ['region', 'peak', 'price'] # list of the order of the features used to train the ml model\n",
    "m_instance_ml_model = m_instance_ml_model[list_features] # sort instance with the correct order\n",
    "m_instance_ml_model"
   ]
  },
  {
   "cell_type": "code",
   "execution_count": null,
   "id": "05f1ec81-a8c3-497b-b6c2-6a18429c3b54",
   "metadata": {},
   "outputs": [],
   "source": []
  },
  {
   "cell_type": "markdown",
   "id": "c9929ac1-18fb-4ebe-9a48-79bf85bcfd1c",
   "metadata": {},
   "source": [
    "#### 7.2 predict demand - generate machine learning constraint\n",
    "Call\n",
    "[add_predictor_constr](https://gurobi-machinelearning.readthedocs.io/en/stable/auto_generated/gurobi_ml.add_predictor_constr.html)\n",
    "to insert the constraints linking the features and the demand into the model `m`.\n",
    "\n",
    "It is important that you keep the columns in the order above, otherwise you will see an error. The columns must be in the same order as the training data.\n",
    "\n",
    "Obs: to add this constraints the way is little different and it is not neccesary call model.update()\n",
    "\n",
    "**Documentation - parameters**\n",
    "\n",
    "- gp_model (gurobipy model) – The gurobipy model where the predictor should be inserted.\n",
    "\n",
    "- predictor – The predictor to insert.\n",
    "\n",
    "- input_vars (mvar_array_like) – Decision variables used as input for predictor in gp_model.\n",
    "\n",
    "- output_vars (mvar_array_like, optional) – Decision variables used as output for predictor in gp_model."
   ]
  },
  {
   "cell_type": "code",
   "execution_count": 22,
   "id": "36a88dbd-8637-4149-9dcf-edfa85a7c5c5",
   "metadata": {},
   "outputs": [
    {
     "ename": "SyntaxError",
     "evalue": "invalid syntax (941522791.py, line 2)",
     "output_type": "error",
     "traceback": [
      "\u001b[1;36m  Cell \u001b[1;32mIn[22], line 2\u001b[1;36m\u001b[0m\n\u001b[1;33m    AGREGAR RESTRICCIONES DE FORMA INDIVIDUAL - PASAR COMO INSTANCIA UNA SOLA REGION Y HACER ESO CON CADA UNA DE LAS REGIONES. LA IDEA ES\u001b[0m\n\u001b[1;37m            ^\u001b[0m\n\u001b[1;31mSyntaxError\u001b[0m\u001b[1;31m:\u001b[0m invalid syntax\n"
     ]
    }
   ],
   "source": [
    "stop\n",
    "AGREGAR RESTRICCIONES DE FORMA INDIVIDUAL - PASAR COMO INSTANCIA UNA SOLA REGION Y HACER ESO CON CADA UNA DE LAS REGIONES. LA IDEA ES \n",
    "PASAR DIFERENTES ELEMENTOS DEL CONJUNTO REGIONS Y NO PASAR TODOS JUNTOS"
   ]
  },
  {
   "cell_type": "code",
   "execution_count": 23,
   "id": "a708b54b-fcc7-41d3-aa49-2806cadf0b1b",
   "metadata": {},
   "outputs": [
    {
     "data": {
      "text/plain": [
       "['Great_Lakes',\n",
       " 'Midsouth',\n",
       " 'Northeast',\n",
       " 'Northern_New_England',\n",
       " 'Plains',\n",
       " 'SouthCentral',\n",
       " 'Southeast',\n",
       " 'West']"
      ]
     },
     "execution_count": 23,
     "metadata": {},
     "output_type": "execute_result"
    }
   ],
   "source": [
    "# agregar restriccion de forma individual - filtrando el subconjunto del set \"regions\"\n",
    "regions"
   ]
  },
  {
   "cell_type": "code",
   "execution_count": null,
   "id": "7f85718d-a109-4d1d-ae5f-0d27f44a81df",
   "metadata": {},
   "outputs": [],
   "source": []
  },
  {
   "cell_type": "code",
   "execution_count": 24,
   "id": "f1b1724d-61e0-4070-84b4-f05729a62841",
   "metadata": {},
   "outputs": [],
   "source": [
    "region = 'Great_Lakes'\n",
    "pred_Great_Lakes = add_predictor_constr(gp_model = m, \n",
    "                                        predictor = model, \n",
    "                                        input_vars = m_instance_ml_model.loc[[region]], \n",
    "                                        output_vars = d[[region]],\n",
    "                                        name = f'model_predict_{region}'\n",
    "                                       )"
   ]
  },
  {
   "cell_type": "code",
   "execution_count": 26,
   "id": "a6761118-02f1-4d39-9223-821e7187cab1",
   "metadata": {},
   "outputs": [],
   "source": [
    "region = 'Midsouth'\n",
    "pred_Midsouth = add_predictor_constr(gp_model = m, \n",
    "                                     predictor = model, \n",
    "                                     input_vars = m_instance_ml_model.loc[[region]], \n",
    "                                     output_vars = d[[region]],\n",
    "                                     name = f'model_predict_{region}'\n",
    "                                    )"
   ]
  },
  {
   "cell_type": "code",
   "execution_count": 28,
   "id": "f9509033-f158-497b-9820-22b1a7c369e1",
   "metadata": {},
   "outputs": [],
   "source": [
    "region = 'Northeast'\n",
    "pred_Northeast = add_predictor_constr(gp_model = m, \n",
    "                                     predictor = model, \n",
    "                                     input_vars = m_instance_ml_model.loc[[region]], \n",
    "                                     output_vars = d[[region]],\n",
    "                                     name = f'model_predict_{region}'\n",
    "                                    )"
   ]
  },
  {
   "cell_type": "code",
   "execution_count": 29,
   "id": "c17b49bf-8ab5-427b-8dae-fcf9bce1b7e1",
   "metadata": {},
   "outputs": [],
   "source": [
    "region = 'Northern_New_England'\n",
    "pred_Northern_New_England = add_predictor_constr(gp_model = m, \n",
    "                                     predictor = model, \n",
    "                                     input_vars = m_instance_ml_model.loc[[region]], \n",
    "                                     output_vars = d[[region]],\n",
    "                                     name = f'model_predict_{region}'\n",
    "                                    )"
   ]
  },
  {
   "cell_type": "code",
   "execution_count": 30,
   "id": "93a3aacc-2bf8-4d0f-b109-6e8a610677f4",
   "metadata": {},
   "outputs": [],
   "source": [
    "region = 'Plains'\n",
    "pred_Plains = add_predictor_constr(gp_model = m, \n",
    "                                     predictor = model, \n",
    "                                     input_vars = m_instance_ml_model.loc[[region]], \n",
    "                                     output_vars = d[[region]],\n",
    "                                     name = f'model_predict_{region}'\n",
    "                                    )"
   ]
  },
  {
   "cell_type": "code",
   "execution_count": 31,
   "id": "0b6dc6bf-4478-4420-9c3a-525a81b33d8d",
   "metadata": {},
   "outputs": [],
   "source": [
    "region = 'SouthCentral'\n",
    "pred_SouthCentral = add_predictor_constr(gp_model = m, \n",
    "                                     predictor = model, \n",
    "                                     input_vars = m_instance_ml_model.loc[[region]], \n",
    "                                     output_vars = d[[region]],\n",
    "                                     name = f'model_predict_{region}'\n",
    "                                    )"
   ]
  },
  {
   "cell_type": "code",
   "execution_count": 32,
   "id": "26205622-d69b-45ba-8251-8782ee2be0fe",
   "metadata": {},
   "outputs": [],
   "source": [
    "region = 'Southeast'\n",
    "pred_Southeast = add_predictor_constr(gp_model = m, \n",
    "                                     predictor = model, \n",
    "                                     input_vars = m_instance_ml_model.loc[[region]], \n",
    "                                     output_vars = d[[region]],\n",
    "                                     name = f'model_predict_{region}'\n",
    "                                    )"
   ]
  },
  {
   "cell_type": "code",
   "execution_count": 33,
   "id": "68145256-474d-4dea-ab7f-90cecdcc355d",
   "metadata": {},
   "outputs": [],
   "source": [
    "region = 'West'\n",
    "pred_West = add_predictor_constr(gp_model = m, \n",
    "                                     predictor = model, \n",
    "                                     input_vars = m_instance_ml_model.loc[[region]], \n",
    "                                     output_vars = d[[region]],\n",
    "                                     name = f'model_predict_{region}'\n",
    "                                    )"
   ]
  },
  {
   "cell_type": "code",
   "execution_count": null,
   "id": "d6c2f49a-a2f8-4e4d-b0ab-59ee5a8eefe5",
   "metadata": {},
   "outputs": [],
   "source": []
  },
  {
   "cell_type": "code",
   "execution_count": null,
   "id": "9f6d5510-c6c3-4e5a-808d-ac2dead0ced2",
   "metadata": {},
   "outputs": [],
   "source": []
  },
  {
   "cell_type": "code",
   "execution_count": 34,
   "id": "b0ba2154-5a39-49d8-bd38-6e7ec05a54c2",
   "metadata": {},
   "outputs": [],
   "source": [
    "# ## add model to predict the demand for each region with the SAME MODEL\n",
    "# pred_constr = add_predictor_constr(gp_model = m, \n",
    "#                                    predictor = model, \n",
    "#                                    input_vars = m_instance_ml_model, \n",
    "#                                    output_vars = d\n",
    "#                                   )"
   ]
  },
  {
   "cell_type": "code",
   "execution_count": 36,
   "id": "e0f9a9dc-1a34-43d3-9593-379b35744513",
   "metadata": {},
   "outputs": [
    {
     "name": "stdout",
     "output_type": "stream",
     "text": [
      "Model for model_predict_West:\n",
      "9 variables\n",
      "2 constraints\n",
      "Input has shape (1, 3)\n",
      "Output has shape (1, 1)\n",
      "\n",
      "Pipeline has 2 steps:\n",
      "\n",
      "--------------------------------------------------------------------------------\n",
      "Step            Output Shape    Variables              Constraints              \n",
      "                                                Linear    Quadratic      General\n",
      "================================================================================\n",
      "col_trans             (1, 9)            1            1            0            0\n",
      "\n",
      "lin_reg               (1, 1)            8            1            0            0\n",
      "\n",
      "--------------------------------------------------------------------------------\n"
     ]
    }
   ],
   "source": [
    "pred_West.print_stats()"
   ]
  },
  {
   "cell_type": "code",
   "execution_count": 37,
   "id": "9ced6840-7557-4a6a-a324-21a1c29bb5c3",
   "metadata": {},
   "outputs": [
    {
     "data": {
      "text/plain": [
       "<gurobi.Model Continuous instance Avocado_Price_Allocation: 41 constrs, 112 vars, No parameter changes>"
      ]
     },
     "execution_count": 37,
     "metadata": {},
     "output_type": "execute_result"
    }
   ],
   "source": [
    "m"
   ]
  },
  {
   "cell_type": "code",
   "execution_count": null,
   "id": "41aad436-b673-4c07-a934-af91312691c2",
   "metadata": {},
   "outputs": [],
   "source": []
  },
  {
   "cell_type": "markdown",
   "id": "eae2618c-b69f-4c54-b63b-91ea6a0f6c56",
   "metadata": {},
   "source": [
    "### 8. Define Objetive Function\n",
    "The goal is to maximize the **net revenue**, which is the product of price and quantity, minus costs over all regions. This model assumes the purchase costs are fixed (since the amount $B$ is fixed) and are therefore not incorporated.\n",
    "\n",
    "\\begin{align} \\textrm{maximize} &  \\sum_{r}  (p_r * s_r - c_{waste} * u_r -\n",
    "c^r_{transport} * x_r)& \\end{align}"
   ]
  },
  {
   "cell_type": "code",
   "execution_count": 38,
   "id": "062427d8-df20-45bb-be94-869cde638c9f",
   "metadata": {},
   "outputs": [],
   "source": [
    "m.setObjective((p * s).sum() - c_waste * u.sum() - (c_transport * x).sum(),\n",
    "               gp.GRB.MAXIMIZE)"
   ]
  },
  {
   "cell_type": "code",
   "execution_count": null,
   "id": "6b02898c-4b8a-4db7-a689-57a3af81904f",
   "metadata": {},
   "outputs": [],
   "source": []
  },
  {
   "cell_type": "markdown",
   "id": "14bfbd7e-ff7a-48b6-8dab-5d5c8e832f8c",
   "metadata": {},
   "source": [
    "### 9. Solve optimization problem\n",
    "The objective is **quadratic** since we take the product of price and the predicted sales, both of which are variables. Maximizing a quadratic\n",
    "term is said to be **non-convex**, and we specify this by setting the value of the [Gurobi NonConvex\n",
    "parameter](https://www.gurobi.com/documentation/10.0/refman/nonconvex.html) to be $2$."
   ]
  },
  {
   "cell_type": "markdown",
   "id": "d35e6d5e-ee76-413e-a02b-6f45d14c382b",
   "metadata": {},
   "source": [
    "#### 9.1 Solve optimization problem"
   ]
  },
  {
   "cell_type": "code",
   "execution_count": 39,
   "id": "b645dcf1-b3bc-4a78-947d-294263bc5acd",
   "metadata": {},
   "outputs": [
    {
     "name": "stdout",
     "output_type": "stream",
     "text": [
      "Set parameter NonConvex to value 2\n"
     ]
    }
   ],
   "source": [
    "# solve cuadratic problems\n",
    "m.Params.NonConvex = 2"
   ]
  },
  {
   "cell_type": "code",
   "execution_count": 40,
   "id": "d524177d-48cd-4252-b31c-c19c4a03bb36",
   "metadata": {},
   "outputs": [
    {
     "name": "stdout",
     "output_type": "stream",
     "text": [
      "Gurobi Optimizer version 11.0.0 build v11.0.0rc2 (win64 - Windows 10.0 (19043.2))\n",
      "\n",
      "CPU model: Intel(R) Core(TM) i7-10750H CPU @ 2.60GHz, instruction set [SSE2|AVX|AVX2]\n",
      "Thread count: 6 physical cores, 12 logical processors, using up to 12 threads\n",
      "\n",
      "Optimize a model with 41 rows, 112 columns and 160 nonzeros\n",
      "Model fingerprint: 0x0ae7b298\n",
      "Model has 8 quadratic objective terms\n",
      "Coefficient statistics:\n",
      "  Matrix range     [2e-01, 3e+00]\n",
      "  Objective range  [1e-01, 5e-01]\n",
      "  QObjective range [2e+00, 2e+00]\n",
      "  Bounds range     [2e-01, 1e+01]\n",
      "  RHS range        [1e+00, 3e+01]\n",
      "Presolve removed 16 rows and 80 columns\n",
      "\n",
      "Continuous model is non-convex -- solving as a MIP\n",
      "\n",
      "Presolve removed 24 rows and 88 columns\n",
      "Presolve time: 0.01s\n",
      "Presolved: 34 rows, 33 columns, 81 nonzeros\n",
      "Presolved model has 8 bilinear constraint(s)\n",
      "Variable types: 33 continuous, 0 integer (0 binary)\n",
      "Found heuristic solution: objective 29.2230179\n",
      "\n",
      "Root relaxation: objective 4.765570e+01, 36 iterations, 0.01 seconds (0.00 work units)\n",
      "\n",
      "    Nodes    |    Current Node    |     Objective Bounds      |     Work\n",
      " Expl Unexpl |  Obj  Depth IntInf | Incumbent    BestBd   Gap | It/Node Time\n",
      "\n",
      "     0     0   47.65570    0    8   29.22302   47.65570  63.1%     -    0s\n",
      "     0     0   32.32646    0    8   29.22302   32.32646  10.6%     -    0s\n",
      "     0     0   29.78997    0    8   29.22302   29.78997  1.94%     -    0s\n",
      "     0     0   29.40994    0    8   29.22302   29.40994  0.64%     -    0s\n",
      "     0     0   29.40994    0    8   29.22302   29.40994  0.64%     -    0s\n",
      "     0     0   29.31494    0    8   29.22302   29.31494  0.31%     -    0s\n",
      "     0     0   29.24363    0    8   29.22302   29.24363  0.07%     -    0s\n",
      "     0     0   29.24241    0    8   29.22302   29.24241  0.07%     -    0s\n",
      "     0     0   29.23109    0    8   29.22302   29.23109  0.03%     -    0s\n",
      "     0     0   29.23091    0    7   29.22302   29.23091  0.03%     -    0s\n",
      "     0     2   29.23091    0    7   29.22302   29.23091  0.03%     -    0s\n",
      "\n",
      "Cutting planes:\n",
      "  RLT: 14\n",
      "\n",
      "Explored 781 nodes (914 simplex iterations) in 0.18 seconds (0.01 work units)\n",
      "Thread count was 12 (of 12 available processors)\n",
      "\n",
      "Solution count 1: 29.223 \n",
      "\n",
      "Optimal solution found (tolerance 1.00e-04)\n",
      "Best objective 2.922301791280e+01, best bound 2.922526632785e+01, gap 0.0077%\n"
     ]
    }
   ],
   "source": [
    "# solve\n",
    "m.optimize()"
   ]
  },
  {
   "cell_type": "code",
   "execution_count": null,
   "id": "b54e4944-8471-4659-9747-49ecf5b782ec",
   "metadata": {},
   "outputs": [],
   "source": []
  },
  {
   "cell_type": "markdown",
   "id": "35408af3-867e-42b7-8191-8b58e237205b",
   "metadata": {},
   "source": [
    "#### 9.2 Save optimal values in a dataframe\n",
    "To get the optimal values of decision variables it is neccesary call \"var.gppd.X\""
   ]
  },
  {
   "cell_type": "code",
   "execution_count": 41,
   "id": "92c62a68-2364-456c-af2f-792908179173",
   "metadata": {},
   "outputs": [],
   "source": [
    "# create dataframe with index\n",
    "solution = pd.DataFrame(index=index_regions)\n",
    "\n",
    "# save optimal values\n",
    "solution[\"Price\"] = p.gppd.X\n",
    "solution[\"Historical_Max_Price\"] = data_historical_max_price  # this is informative value get from historical data\n",
    "solution[\"Allocated\"] = x.gppd.X\n",
    "solution[\"Sold\"] = s.gppd.X\n",
    "solution[\"Wasted\"] = u.gppd.X\n",
    "solution[\"Pred_demand\"] = d.gppd.X\n",
    "\n",
    "# round values\n",
    "solution = solution.round(3)\n",
    "\n",
    "\n",
    "# get value objetive function\n",
    "opt_revenue = m.ObjVal"
   ]
  },
  {
   "cell_type": "code",
   "execution_count": 42,
   "id": "c542883a-f36d-4efb-a187-601c93760cf9",
   "metadata": {},
   "outputs": [
    {
     "name": "stdout",
     "output_type": "stream",
     "text": [
      "\n",
      " The optimal net revenue: $29.223018 million\n"
     ]
    }
   ],
   "source": [
    "# show value objetive function\n",
    "print(\"\\n The optimal net revenue: $%f million\" % opt_revenue)"
   ]
  },
  {
   "cell_type": "code",
   "execution_count": 43,
   "id": "2f72543c-2194-4d7c-acf4-567924fa962c",
   "metadata": {},
   "outputs": [
    {
     "data": {
      "text/html": [
       "<div>\n",
       "<style scoped>\n",
       "    .dataframe tbody tr th:only-of-type {\n",
       "        vertical-align: middle;\n",
       "    }\n",
       "\n",
       "    .dataframe tbody tr th {\n",
       "        vertical-align: top;\n",
       "    }\n",
       "\n",
       "    .dataframe thead th {\n",
       "        text-align: right;\n",
       "    }\n",
       "</style>\n",
       "<table border=\"1\" class=\"dataframe\">\n",
       "  <thead>\n",
       "    <tr style=\"text-align: right;\">\n",
       "      <th></th>\n",
       "      <th>Price</th>\n",
       "      <th>Historical_Max_Price</th>\n",
       "      <th>Allocated</th>\n",
       "      <th>Sold</th>\n",
       "      <th>Wasted</th>\n",
       "      <th>Pred_demand</th>\n",
       "    </tr>\n",
       "  </thead>\n",
       "  <tbody>\n",
       "    <tr>\n",
       "      <th>Great_Lakes</th>\n",
       "      <td>1.400</td>\n",
       "      <td>1.980</td>\n",
       "      <td>2.887</td>\n",
       "      <td>2.887</td>\n",
       "      <td>0.00</td>\n",
       "      <td>2.887</td>\n",
       "    </tr>\n",
       "    <tr>\n",
       "      <th>Midsouth</th>\n",
       "      <td>1.277</td>\n",
       "      <td>1.720</td>\n",
       "      <td>6.169</td>\n",
       "      <td>2.839</td>\n",
       "      <td>3.33</td>\n",
       "      <td>2.839</td>\n",
       "    </tr>\n",
       "    <tr>\n",
       "      <th>Northeast</th>\n",
       "      <td>1.799</td>\n",
       "      <td>1.750</td>\n",
       "      <td>3.504</td>\n",
       "      <td>3.504</td>\n",
       "      <td>0.00</td>\n",
       "      <td>3.504</td>\n",
       "    </tr>\n",
       "    <tr>\n",
       "      <th>Northern_New_England</th>\n",
       "      <td>0.885</td>\n",
       "      <td>1.880</td>\n",
       "      <td>0.918</td>\n",
       "      <td>0.918</td>\n",
       "      <td>0.00</td>\n",
       "      <td>0.918</td>\n",
       "    </tr>\n",
       "    <tr>\n",
       "      <th>Plains</th>\n",
       "      <td>0.905</td>\n",
       "      <td>1.810</td>\n",
       "      <td>2.713</td>\n",
       "      <td>2.073</td>\n",
       "      <td>0.64</td>\n",
       "      <td>2.073</td>\n",
       "    </tr>\n",
       "    <tr>\n",
       "      <th>SouthCentral</th>\n",
       "      <td>1.822</td>\n",
       "      <td>1.366</td>\n",
       "      <td>3.757</td>\n",
       "      <td>3.757</td>\n",
       "      <td>0.00</td>\n",
       "      <td>3.757</td>\n",
       "    </tr>\n",
       "    <tr>\n",
       "      <th>Southeast</th>\n",
       "      <td>1.496</td>\n",
       "      <td>1.820</td>\n",
       "      <td>4.451</td>\n",
       "      <td>3.291</td>\n",
       "      <td>1.16</td>\n",
       "      <td>3.291</td>\n",
       "    </tr>\n",
       "    <tr>\n",
       "      <th>West</th>\n",
       "      <td>1.977</td>\n",
       "      <td>1.648</td>\n",
       "      <td>5.603</td>\n",
       "      <td>4.283</td>\n",
       "      <td>1.32</td>\n",
       "      <td>4.283</td>\n",
       "    </tr>\n",
       "  </tbody>\n",
       "</table>\n",
       "</div>"
      ],
      "text/plain": [
       "                      Price  Historical_Max_Price  Allocated   Sold  Wasted  \\\n",
       "Great_Lakes           1.400                 1.980      2.887  2.887    0.00   \n",
       "Midsouth              1.277                 1.720      6.169  2.839    3.33   \n",
       "Northeast             1.799                 1.750      3.504  3.504    0.00   \n",
       "Northern_New_England  0.885                 1.880      0.918  0.918    0.00   \n",
       "Plains                0.905                 1.810      2.713  2.073    0.64   \n",
       "SouthCentral          1.822                 1.366      3.757  3.757    0.00   \n",
       "Southeast             1.496                 1.820      4.451  3.291    1.16   \n",
       "West                  1.977                 1.648      5.603  4.283    1.32   \n",
       "\n",
       "                      Pred_demand  \n",
       "Great_Lakes                 2.887  \n",
       "Midsouth                    2.839  \n",
       "Northeast                   3.504  \n",
       "Northern_New_England        0.918  \n",
       "Plains                      2.073  \n",
       "SouthCentral                3.757  \n",
       "Southeast                   3.291  \n",
       "West                        4.283  "
      ]
     },
     "execution_count": 43,
     "metadata": {},
     "output_type": "execute_result"
    }
   ],
   "source": [
    "# show value decision variables\n",
    "solution"
   ]
  },
  {
   "cell_type": "markdown",
   "id": "11f207fe-ee4c-4a17-81c7-fd817fe5e6f6",
   "metadata": {},
   "source": [
    "We can also check the error in the estimate of the Gurobi solution for the regression model."
   ]
  },
  {
   "cell_type": "code",
   "execution_count": 46,
   "id": "02c1c2a3-5acd-4f78-bc23-ce45f71d909c",
   "metadata": {},
   "outputs": [
    {
     "name": "stdout",
     "output_type": "stream",
     "text": [
      "Maximum error in approximating the regression 8.88178e-16\n"
     ]
    }
   ],
   "source": [
    "print(\n",
    "    \"Maximum error in approximating the regression {:.6}\".format(\n",
    "        np.max(pred_Southeast.get_error())\n",
    "    )\n",
    ")"
   ]
  },
  {
   "cell_type": "code",
   "execution_count": null,
   "id": "81704fed-ae72-49f8-880c-99ccd1adf5c7",
   "metadata": {},
   "outputs": [],
   "source": []
  },
  {
   "cell_type": "code",
   "execution_count": null,
   "id": "5dfcc5cc-97c3-4544-95aa-21017aa264d4",
   "metadata": {},
   "outputs": [],
   "source": []
  },
  {
   "cell_type": "code",
   "execution_count": null,
   "id": "70b6cc81-0779-4876-b26e-16449fd49d25",
   "metadata": {},
   "outputs": [],
   "source": []
  },
  {
   "cell_type": "code",
   "execution_count": 47,
   "id": "24265fc1-5b3e-4d12-b08e-a56517f778f8",
   "metadata": {},
   "outputs": [
    {
     "data": {
      "text/plain": [
       "<gurobi.Model MIP instance Avocado_Price_Allocation: 41 constrs, 112 vars, Parameter changes: NonConvex=2>"
      ]
     },
     "execution_count": 47,
     "metadata": {},
     "output_type": "execute_result"
    }
   ],
   "source": [
    "m"
   ]
  },
  {
   "cell_type": "code",
   "execution_count": 48,
   "id": "7ff502a8-3882-4514-a766-f528e6a81023",
   "metadata": {},
   "outputs": [
    {
     "name": "stdout",
     "output_type": "stream",
     "text": [
      "0\n"
     ]
    }
   ],
   "source": [
    "print(m.numintvars)"
   ]
  },
  {
   "cell_type": "code",
   "execution_count": 50,
   "id": "fe63d3c2-0cd9-4a5d-8939-65ac3c960795",
   "metadata": {},
   "outputs": [
    {
     "data": {
      "text/plain": [
       "[<gurobi.Var price[Great_Lakes] (value 1.399974375699591)>,\n",
       " <gurobi.Var price[Midsouth] (value 1.2765006159100956)>,\n",
       " <gurobi.Var price[Northeast] (value 1.7991161740283261)>,\n",
       " <gurobi.Var price[Northern_New_England] (value 0.8851468669900535)>,\n",
       " <gurobi.Var price[Plains] (value 0.9051038854820862)>,\n",
       " <gurobi.Var price[SouthCentral] (value 1.8218304539488013)>,\n",
       " <gurobi.Var price[Southeast] (value 1.4959065742981572)>,\n",
       " <gurobi.Var price[West] (value 1.976951625150055)>,\n",
       " <gurobi.Var x[Great_Lakes] (value 2.886918811219476)>,\n",
       " <gurobi.Var x[Midsouth] (value 6.1685715934619365)>,\n",
       " <gurobi.Var x[Northeast] (value 3.5037858693486994)>,\n",
       " <gurobi.Var x[Northern_New_England] (value 0.9179839378469794)>,\n",
       " <gurobi.Var x[Plains] (value 2.712608121919592)>,\n",
       " <gurobi.Var x[SouthCentral] (value 3.7568378143539136)>,\n",
       " <gurobi.Var x[Southeast] (value 4.450766316925165)>,\n",
       " <gurobi.Var x[West] (value 5.602527534924235)>,\n",
       " <gurobi.Var s[Great_Lakes] (value 2.886918794680055)>,\n",
       " <gurobi.Var s[Midsouth] (value 2.8385130226202495)>,\n",
       " <gurobi.Var s[Northeast] (value 3.5037858610788186)>,\n",
       " <gurobi.Var s[Northern_New_England] (value 0.9179839340544163)>,\n",
       " <gurobi.Var s[Plains] (value 2.072647426913598)>,\n",
       " <gurobi.Var s[SouthCentral] (value 3.756837797849757)>,\n",
       " <gurobi.Var s[Southeast] (value 3.2909550062872293)>,\n",
       " <gurobi.Var s[West] (value 4.282928944730777)>,\n",
       " <gurobi.Var w[Great_Lakes] (value 1.6539420943928462e-08)>,\n",
       " <gurobi.Var w[Midsouth] (value 3.330058570841687)>,\n",
       " <gurobi.Var w[Northeast] (value 8.269880780176209e-09)>,\n",
       " <gurobi.Var w[Northern_New_England] (value 3.792563152416051e-09)>,\n",
       " <gurobi.Var w[Plains] (value 0.639960695005994)>,\n",
       " <gurobi.Var w[SouthCentral] (value 1.650415670795269e-08)>,\n",
       " <gurobi.Var w[Southeast] (value 1.1598113106379357)>,\n",
       " <gurobi.Var w[West] (value 1.3195985901934577)>,\n",
       " <gurobi.Var demand[Great_Lakes] (value 2.8869187958614524)>,\n",
       " <gurobi.Var demand[Midsouth] (value 2.838513023821792)>,\n",
       " <gurobi.Var demand[Northeast] (value 3.5037858620522147)>,\n",
       " <gurobi.Var demand[Northern_New_England] (value 0.9179839377690446)>,\n",
       " <gurobi.Var demand[Plains] (value 2.0726474285591046)>,\n",
       " <gurobi.Var demand[SouthCentral] (value 3.756837798757641)>,\n",
       " <gurobi.Var demand[Southeast] (value 3.2909550073235794)>,\n",
       " <gurobi.Var demand[West] (value 4.282928945527036)>,\n",
       " <gurobi.Var model_predict_Great_Lakes.col_trans.std_scaler.out[0,0] (value 1.182171097817644)>,\n",
       " <gurobi.Var model_predict_Great_Lakes.lin_reg.feat0[0] (value 0.0)>,\n",
       " <gurobi.Var model_predict_Great_Lakes.lin_reg.feat1[0] (value 0.0)>,\n",
       " <gurobi.Var model_predict_Great_Lakes.lin_reg.feat2[0] (value 0.0)>,\n",
       " <gurobi.Var model_predict_Great_Lakes.lin_reg.feat3[0] (value 0.0)>,\n",
       " <gurobi.Var model_predict_Great_Lakes.lin_reg.feat4[0] (value 0.0)>,\n",
       " <gurobi.Var model_predict_Great_Lakes.lin_reg.feat5[0] (value 0.0)>,\n",
       " <gurobi.Var model_predict_Great_Lakes.lin_reg.feat6[0] (value 0.0)>,\n",
       " <gurobi.Var model_predict_Great_Lakes.lin_reg.feat8[0] (value 0.0)>,\n",
       " <gurobi.Var model_predict_Midsouth.col_trans.std_scaler.out[0,0] (value 0.6140972415342789)>,\n",
       " <gurobi.Var model_predict_Midsouth.lin_reg.feat0[0] (value 1.0)>,\n",
       " <gurobi.Var model_predict_Midsouth.lin_reg.feat1[0] (value 0.0)>,\n",
       " <gurobi.Var model_predict_Midsouth.lin_reg.feat2[0] (value 0.0)>,\n",
       " <gurobi.Var model_predict_Midsouth.lin_reg.feat3[0] (value 0.0)>,\n",
       " <gurobi.Var model_predict_Midsouth.lin_reg.feat4[0] (value 0.0)>,\n",
       " <gurobi.Var model_predict_Midsouth.lin_reg.feat5[0] (value 0.0)>,\n",
       " <gurobi.Var model_predict_Midsouth.lin_reg.feat6[0] (value 0.0)>,\n",
       " <gurobi.Var model_predict_Midsouth.lin_reg.feat8[0] (value 0.0)>,\n",
       " <gurobi.Var model_predict_Northeast.col_trans.std_scaler.out[0,0] (value 3.0185290492321286)>,\n",
       " <gurobi.Var model_predict_Northeast.lin_reg.feat0[0] (value 0.0)>,\n",
       " <gurobi.Var model_predict_Northeast.lin_reg.feat1[0] (value 1.0)>,\n",
       " <gurobi.Var model_predict_Northeast.lin_reg.feat2[0] (value 0.0)>,\n",
       " <gurobi.Var model_predict_Northeast.lin_reg.feat3[0] (value 0.0)>,\n",
       " <gurobi.Var model_predict_Northeast.lin_reg.feat4[0] (value 0.0)>,\n",
       " <gurobi.Var model_predict_Northeast.lin_reg.feat5[0] (value 0.0)>,\n",
       " <gurobi.Var model_predict_Northeast.lin_reg.feat6[0] (value 0.0)>,\n",
       " <gurobi.Var model_predict_Northeast.lin_reg.feat8[0] (value 0.0)>,\n",
       " <gurobi.Var model_predict_Northern_New_England.col_trans.std_scaler.out[0,0] (value -1.1864297181936805)>,\n",
       " <gurobi.Var model_predict_Northern_New_England.lin_reg.feat0[0] (value 0.0)>,\n",
       " <gurobi.Var model_predict_Northern_New_England.lin_reg.feat1[0] (value 0.0)>,\n",
       " <gurobi.Var model_predict_Northern_New_England.lin_reg.feat2[0] (value 1.0)>,\n",
       " <gurobi.Var model_predict_Northern_New_England.lin_reg.feat3[0] (value 0.0)>,\n",
       " <gurobi.Var model_predict_Northern_New_England.lin_reg.feat4[0] (value 0.0)>,\n",
       " <gurobi.Var model_predict_Northern_New_England.lin_reg.feat5[0] (value 0.0)>,\n",
       " <gurobi.Var model_predict_Northern_New_England.lin_reg.feat6[0] (value 0.0)>,\n",
       " <gurobi.Var model_predict_Northern_New_England.lin_reg.feat8[0] (value 0.0)>,\n",
       " <gurobi.Var model_predict_Plains.col_trans.std_scaler.out[0,0] (value -1.0946121492299152)>,\n",
       " <gurobi.Var model_predict_Plains.lin_reg.feat0[0] (value 0.0)>,\n",
       " <gurobi.Var model_predict_Plains.lin_reg.feat1[0] (value 0.0)>,\n",
       " <gurobi.Var model_predict_Plains.lin_reg.feat2[0] (value 0.0)>,\n",
       " <gurobi.Var model_predict_Plains.lin_reg.feat3[0] (value 1.0)>,\n",
       " <gurobi.Var model_predict_Plains.lin_reg.feat4[0] (value 0.0)>,\n",
       " <gurobi.Var model_predict_Plains.lin_reg.feat5[0] (value 0.0)>,\n",
       " <gurobi.Var model_predict_Plains.lin_reg.feat6[0] (value 0.0)>,\n",
       " <gurobi.Var model_predict_Plains.lin_reg.feat8[0] (value 0.0)>,\n",
       " <gurobi.Var model_predict_SouthCentral.col_trans.std_scaler.out[0,0] (value 3.123032132390227)>,\n",
       " <gurobi.Var model_predict_SouthCentral.lin_reg.feat0[0] (value 0.0)>,\n",
       " <gurobi.Var model_predict_SouthCentral.lin_reg.feat1[0] (value 0.0)>,\n",
       " <gurobi.Var model_predict_SouthCentral.lin_reg.feat2[0] (value 0.0)>,\n",
       " <gurobi.Var model_predict_SouthCentral.lin_reg.feat3[0] (value 0.0)>,\n",
       " <gurobi.Var model_predict_SouthCentral.lin_reg.feat4[0] (value 1.0)>,\n",
       " <gurobi.Var model_predict_SouthCentral.lin_reg.feat5[0] (value 0.0)>,\n",
       " <gurobi.Var model_predict_SouthCentral.lin_reg.feat6[0] (value 0.0)>,\n",
       " <gurobi.Var model_predict_SouthCentral.lin_reg.feat8[0] (value 0.0)>,\n",
       " <gurobi.Var model_predict_Southeast.col_trans.std_scaler.out[0,0] (value 1.6235326801695358)>,\n",
       " <gurobi.Var model_predict_Southeast.lin_reg.feat0[0] (value 0.0)>,\n",
       " <gurobi.Var model_predict_Southeast.lin_reg.feat1[0] (value 0.0)>,\n",
       " <gurobi.Var model_predict_Southeast.lin_reg.feat2[0] (value 0.0)>,\n",
       " <gurobi.Var model_predict_Southeast.lin_reg.feat3[0] (value 0.0)>,\n",
       " <gurobi.Var model_predict_Southeast.lin_reg.feat4[0] (value 0.0)>,\n",
       " <gurobi.Var model_predict_Southeast.lin_reg.feat5[0] (value 1.0)>,\n",
       " <gurobi.Var model_predict_Southeast.lin_reg.feat6[0] (value 0.0)>,\n",
       " <gurobi.Var model_predict_Southeast.lin_reg.feat8[0] (value 0.0)>,\n",
       " <gurobi.Var model_predict_West.col_trans.std_scaler.out[0,0] (value 3.8367083180487853)>,\n",
       " <gurobi.Var model_predict_West.lin_reg.feat0[0] (value 0.0)>,\n",
       " <gurobi.Var model_predict_West.lin_reg.feat1[0] (value 0.0)>,\n",
       " <gurobi.Var model_predict_West.lin_reg.feat2[0] (value 0.0)>,\n",
       " <gurobi.Var model_predict_West.lin_reg.feat3[0] (value 0.0)>,\n",
       " <gurobi.Var model_predict_West.lin_reg.feat4[0] (value 0.0)>,\n",
       " <gurobi.Var model_predict_West.lin_reg.feat5[0] (value 0.0)>,\n",
       " <gurobi.Var model_predict_West.lin_reg.feat6[0] (value 1.0)>,\n",
       " <gurobi.Var model_predict_West.lin_reg.feat8[0] (value 0.0)>]"
      ]
     },
     "execution_count": 50,
     "metadata": {},
     "output_type": "execute_result"
    }
   ],
   "source": [
    "# get all variables\n",
    "m.getVars()"
   ]
  },
  {
   "cell_type": "code",
   "execution_count": null,
   "id": "2fd11b6c-7559-4753-a599-770f65a0c127",
   "metadata": {},
   "outputs": [],
   "source": []
  }
 ],
 "metadata": {
  "kernelspec": {
   "display_name": "Python 3 (ipykernel)",
   "language": "python",
   "name": "python3"
  },
  "language_info": {
   "codemirror_mode": {
    "name": "ipython",
    "version": 3
   },
   "file_extension": ".py",
   "mimetype": "text/x-python",
   "name": "python",
   "nbconvert_exporter": "python",
   "pygments_lexer": "ipython3",
   "version": "3.10.12"
  }
 },
 "nbformat": 4,
 "nbformat_minor": 5
}
